{
  "nbformat": 4,
  "nbformat_minor": 0,
  "metadata": {
    "colab": {
      "name": "day1.ipynb",
      "provenance": [],
      "collapsed_sections": [],
      "authorship_tag": "ABX9TyNKX6ySHLLH5MNPePTb4n75",
      "include_colab_link": true
    },
    "kernelspec": {
      "name": "python3",
      "display_name": "Python 3"
    }
  },
  "cells": [
    {
      "cell_type": "markdown",
      "metadata": {
        "id": "view-in-github",
        "colab_type": "text"
      },
      "source": [
        "<a href=\"https://colab.research.google.com/github/sanjanasridharan/Final/blob/master/day1.ipynb\" target=\"_parent\"><img src=\"https://colab.research.google.com/assets/colab-badge.svg\" alt=\"Open In Colab\"/></a>"
      ]
    },
    {
      "cell_type": "code",
      "metadata": {
        "id": "uFJCVFlfVPV6",
        "colab_type": "code",
        "colab": {
          "base_uri": "https://localhost:8080/",
          "height": 35
        },
        "outputId": "6b028e0a-e399-4f73-b250-b762b624bd9e"
      },
      "source": [
        "print(\"hello world!\")"
      ],
      "execution_count": null,
      "outputs": [
        {
          "output_type": "stream",
          "text": [
            "hello world!\n"
          ],
          "name": "stdout"
        }
      ]
    },
    {
      "cell_type": "code",
      "metadata": {
        "id": "6dIhdgWTXrtF",
        "colab_type": "code",
        "colab": {
          "base_uri": "https://localhost:8080/",
          "height": 52
        },
        "outputId": "040468c6-c1fd-46c8-d2b1-eff4387a3e7c"
      },
      "source": [
        "x=23.4\n",
        "print(x)\n",
        "print(type(x))"
      ],
      "execution_count": null,
      "outputs": [
        {
          "output_type": "stream",
          "text": [
            "23.4\n",
            "<class 'float'>\n"
          ],
          "name": "stdout"
        }
      ]
    },
    {
      "cell_type": "code",
      "metadata": {
        "id": "3GrdFZDyYBfD",
        "colab_type": "code",
        "colab": {
          "base_uri": "https://localhost:8080/",
          "height": 69
        },
        "outputId": "8b753973-9956-48db-f292-867c8bd26312"
      },
      "source": [
        "x=input(\"enter name:\")\n",
        "y=input(\"enter age:\")\n",
        "print(\" {0} your age is {1}\".format(x,y))"
      ],
      "execution_count": null,
      "outputs": [
        {
          "output_type": "stream",
          "text": [
            "enter name:sanjana\n",
            "enter age4\n",
            " sanjana's age is 4\n"
          ],
          "name": "stdout"
        }
      ]
    },
    {
      "cell_type": "code",
      "metadata": {
        "id": "Y7UlpwuyZErN",
        "colab_type": "code",
        "colab": {
          "base_uri": "https://localhost:8080/",
          "height": 35
        },
        "outputId": "76583fbc-d8eb-4307-df23-eea665da8017"
      },
      "source": [
        "a=True\n",
        "print(a+False)"
      ],
      "execution_count": null,
      "outputs": [
        {
          "output_type": "stream",
          "text": [
            "1\n"
          ],
          "name": "stdout"
        }
      ]
    },
    {
      "cell_type": "code",
      "metadata": {
        "id": "OVGcDLrnZrTr",
        "colab_type": "code",
        "colab": {
          "base_uri": "https://localhost:8080/",
          "height": 35
        },
        "outputId": "59649b4b-c45f-4e1b-c060-8036f36b67a4"
      },
      "source": [
        "a='3'\n",
        "print(a*3)"
      ],
      "execution_count": null,
      "outputs": [
        {
          "output_type": "stream",
          "text": [
            "333\n"
          ],
          "name": "stdout"
        }
      ]
    },
    {
      "cell_type": "code",
      "metadata": {
        "id": "ItoDaYJEZ-jK",
        "colab_type": "code",
        "colab": {
          "base_uri": "https://localhost:8080/",
          "height": 35
        },
        "outputId": "0aed7d6e-bbb3-49da-8858-e1cfe45ff249"
      },
      "source": [
        "a=\"sddd\"\n",
        "print(type(a))"
      ],
      "execution_count": null,
      "outputs": [
        {
          "output_type": "stream",
          "text": [
            "<class 'str'>\n"
          ],
          "name": "stdout"
        }
      ]
    },
    {
      "cell_type": "code",
      "metadata": {
        "id": "qblyIZkvaJHN",
        "colab_type": "code",
        "colab": {
          "base_uri": "https://localhost:8080/",
          "height": 52
        },
        "outputId": "8e772e1c-bc31-4a96-9684-f813c90c5e96"
      },
      "source": [
        "print(41/3)\n",
        "print(41//3)"
      ],
      "execution_count": null,
      "outputs": [
        {
          "output_type": "stream",
          "text": [
            "13.666666666666666\n",
            "13\n"
          ],
          "name": "stdout"
        }
      ]
    },
    {
      "cell_type": "code",
      "metadata": {
        "id": "eB2cCZxcaqrg",
        "colab_type": "code",
        "colab": {
          "base_uri": "https://localhost:8080/",
          "height": 35
        },
        "outputId": "01b0120c-e348-47af-cebb-87a1dfeb3a48"
      },
      "source": [
        "print(5 is 5)"
      ],
      "execution_count": null,
      "outputs": [
        {
          "output_type": "stream",
          "text": [
            "True\n"
          ],
          "name": "stdout"
        }
      ]
    },
    {
      "cell_type": "code",
      "metadata": {
        "id": "YHEa0LjZbMEK",
        "colab_type": "code",
        "colab": {
          "base_uri": "https://localhost:8080/",
          "height": 35
        },
        "outputId": "bd499148-bc36-47ef-955a-b76af4e19515"
      },
      "source": [
        "x=24\n",
        "if x>0:\n",
        " print(\"more\")\n",
        "else:\n",
        "  print(\"less\")"
      ],
      "execution_count": null,
      "outputs": [
        {
          "output_type": "stream",
          "text": [
            "more\n"
          ],
          "name": "stdout"
        }
      ]
    },
    {
      "cell_type": "code",
      "metadata": {
        "id": "xJ9J8bPMbd1a",
        "colab_type": "code",
        "colab": {
          "base_uri": "https://localhost:8080/",
          "height": 52
        },
        "outputId": "d5204afe-1a62-4c1b-a5c4-901df8cf1e9d"
      },
      "source": [
        "n=int(input(\"enter n:\"))\n",
        "if n%2==0:\n",
        "  print(\"even\")\n",
        "else:\n",
        "   print(\"odd\")"
      ],
      "execution_count": null,
      "outputs": [
        {
          "output_type": "stream",
          "text": [
            "enter n:7\n",
            "odd\n"
          ],
          "name": "stdout"
        }
      ]
    },
    {
      "cell_type": "code",
      "metadata": {
        "id": "iazC7dUrcUgl",
        "colab_type": "code",
        "colab": {
          "base_uri": "https://localhost:8080/",
          "height": 69
        },
        "outputId": "55efcc60-137b-47ac-e1be-60e23de566c0"
      },
      "source": [
        "x=int(input(\"enter x:\"))\n",
        "y=int(input(\"enter y:\"))\n",
        "if x==y:\n",
        "  print(x,\" is equal to\",y)\n",
        "elif x>y:\n",
        "  print(x,\" is greater than\",y)\n",
        "else:\n",
        "  print(x,'is less than',y)"
      ],
      "execution_count": null,
      "outputs": [
        {
          "output_type": "stream",
          "text": [
            "enter x:2\n",
            "enter y:2\n",
            "2  is equal to 2\n"
          ],
          "name": "stdout"
        }
      ]
    },
    {
      "cell_type": "code",
      "metadata": {
        "id": "cBl_1wP5c-w2",
        "colab_type": "code",
        "colab": {
          "base_uri": "https://localhost:8080/",
          "height": 218
        },
        "outputId": "64f67e52-7ee0-4382-cdfa-d5e7e7e0e18a"
      },
      "source": [
        "x=1\n",
        "y=0\n",
        "print(x>=2 and (x/y >2)) \n",
        "print(x<=2 and (x/y >2)) #short circute evaluation"
      ],
      "execution_count": null,
      "outputs": [
        {
          "output_type": "stream",
          "text": [
            "False\n"
          ],
          "name": "stdout"
        },
        {
          "output_type": "error",
          "ename": "ZeroDivisionError",
          "evalue": "ignored",
          "traceback": [
            "\u001b[0;31m---------------------------------------------------------------------------\u001b[0m",
            "\u001b[0;31mZeroDivisionError\u001b[0m                         Traceback (most recent call last)",
            "\u001b[0;32m<ipython-input-25-14d7d6a5de68>\u001b[0m in \u001b[0;36m<module>\u001b[0;34m()\u001b[0m\n\u001b[1;32m      2\u001b[0m \u001b[0my\u001b[0m\u001b[0;34m=\u001b[0m\u001b[0;36m0\u001b[0m\u001b[0;34m\u001b[0m\u001b[0;34m\u001b[0m\u001b[0m\n\u001b[1;32m      3\u001b[0m \u001b[0mprint\u001b[0m\u001b[0;34m(\u001b[0m\u001b[0mx\u001b[0m\u001b[0;34m>=\u001b[0m\u001b[0;36m2\u001b[0m \u001b[0;32mand\u001b[0m \u001b[0;34m(\u001b[0m\u001b[0mx\u001b[0m\u001b[0;34m/\u001b[0m\u001b[0my\u001b[0m \u001b[0;34m>\u001b[0m\u001b[0;36m2\u001b[0m\u001b[0;34m)\u001b[0m\u001b[0;34m)\u001b[0m\u001b[0;34m\u001b[0m\u001b[0;34m\u001b[0m\u001b[0m\n\u001b[0;32m----> 4\u001b[0;31m \u001b[0mprint\u001b[0m\u001b[0;34m(\u001b[0m\u001b[0mx\u001b[0m\u001b[0;34m<=\u001b[0m\u001b[0;36m2\u001b[0m \u001b[0;32mand\u001b[0m \u001b[0;34m(\u001b[0m\u001b[0mx\u001b[0m\u001b[0;34m/\u001b[0m\u001b[0my\u001b[0m \u001b[0;34m>\u001b[0m\u001b[0;36m2\u001b[0m\u001b[0;34m)\u001b[0m\u001b[0;34m)\u001b[0m\u001b[0;34m\u001b[0m\u001b[0;34m\u001b[0m\u001b[0m\n\u001b[0m",
            "\u001b[0;31mZeroDivisionError\u001b[0m: division by zero"
          ]
        }
      ]
    },
    {
      "cell_type": "code",
      "metadata": {
        "id": "60V_KkaKc8XU",
        "colab_type": "code",
        "colab": {
          "base_uri": "https://localhost:8080/",
          "height": 69
        },
        "outputId": "7c6a46b0-e354-440c-d2f5-8b16ee0bd7f4"
      },
      "source": [
        "a='car'\n",
        "b='bus'\n",
        "print(id(a)) #objects memory address\n",
        "(a,b)=(b,a) #swap\n",
        "print(a)\n",
        "print(b)"
      ],
      "execution_count": null,
      "outputs": [
        {
          "output_type": "stream",
          "text": [
            "139996155077048\n",
            "bus\n",
            "car\n"
          ],
          "name": "stdout"
        }
      ]
    },
    {
      "cell_type": "code",
      "metadata": {
        "id": "u7lAcKNNemqk",
        "colab_type": "code",
        "colab": {
          "base_uri": "https://localhost:8080/",
          "height": 69
        },
        "outputId": "35641204-0969-4103-9678-84db9497f804"
      },
      "source": [
        "#Q) Write a program to pay 1.5 times the hourly rate for \n",
        "# the hours worked above 40 hours\n",
        "#else pay based on hourly pay and hours worked\n",
        "#input hourly rate and hours worked and display pay\n",
        "\n",
        "rate= float(input(\"enter rate:\"))\n",
        "hour= float(input(\"enter hour:\"))\n",
        "if hour<=40:\n",
        "  print(\" pay =\",hour*rate)\n",
        "else:\n",
        "  print(\"pay =\",(hour-40)*1.5*rate+(40*rate))"
      ],
      "execution_count": null,
      "outputs": [
        {
          "output_type": "stream",
          "text": [
            "enter rate:10\n",
            "enter hour:50\n",
            "pay = 550.0\n"
          ],
          "name": "stdout"
        }
      ]
    },
    {
      "cell_type": "code",
      "metadata": {
        "id": "UVvfiEm8fw6N",
        "colab_type": "code",
        "colab": {
          "base_uri": "https://localhost:8080/",
          "height": 191
        },
        "outputId": "04091fe2-ecdb-4b37-a5f3-0dd6f4034e61"
      },
      "source": [
        "for i in range(10):\n",
        "  print(i)"
      ],
      "execution_count": null,
      "outputs": [
        {
          "output_type": "stream",
          "text": [
            "0\n",
            "1\n",
            "2\n",
            "3\n",
            "4\n",
            "5\n",
            "6\n",
            "7\n",
            "8\n",
            "9\n"
          ],
          "name": "stdout"
        }
      ]
    },
    {
      "cell_type": "code",
      "metadata": {
        "id": "fblP0miqjM61",
        "colab_type": "code",
        "colab": {
          "base_uri": "https://localhost:8080/",
          "height": 87
        },
        "outputId": "a3a02b23-a17b-405c-dc50-3ce77114552b"
      },
      "source": [
        "for i in range(8,1,-2):\n",
        "  print(i)"
      ],
      "execution_count": null,
      "outputs": [
        {
          "output_type": "stream",
          "text": [
            "8\n",
            "6\n",
            "4\n",
            "2\n"
          ],
          "name": "stdout"
        }
      ]
    },
    {
      "cell_type": "code",
      "metadata": {
        "id": "Ylms-prDj3dW",
        "colab_type": "code",
        "colab": {
          "base_uri": "https://localhost:8080/",
          "height": 173
        },
        "outputId": "efdef0c4-a118-41b3-c59c-faa5b1dabc8d"
      },
      "source": [
        "n=int(input(\"enter the no. of students:\"))\n",
        "\n",
        "for i in range(n):\n",
        "  marks1 = int(input(\"Enter Marks1 :\"))\n",
        "  marks2 = int(input(\"Enter Marks2 : \"))\n",
        "  marks3 = int(input(\"Enter Marks3 : \"))\n",
        "  total = marks1 + marks2 + marks3\n",
        "  average = total/3\n",
        "  if average >= 75:\n",
        "        print(\"Qualified\")\n",
        "  else:\n",
        "        print(\"Not Qualified\")"
      ],
      "execution_count": null,
      "outputs": [
        {
          "output_type": "stream",
          "text": [
            "enter the no. of students:2\n",
            "Enter Marks1 :2\n",
            "Enter Marks2 : 2\n",
            "Enter Marks3 : 2\n",
            "Not Qualified\n",
            "Enter Marks1 :2\n",
            "Enter Marks2 : 2\n",
            "Enter Marks3 : 2\n",
            "Not Qualified\n"
          ],
          "name": "stdout"
        }
      ]
    },
    {
      "cell_type": "code",
      "metadata": {
        "id": "HhH6jGi5lJHx",
        "colab_type": "code",
        "colab": {}
      },
      "source": [
        "noOfStudents = int(input(\"Enter the Number of Students : \"))\n",
        "counter = 1\n",
        "while counter <= noOfStudents:\n",
        "    \n",
        "    marks1 = int(input(\"Enter Marks1 :\"))\n",
        "    marks2 = int(input(\"Enter Marks2 : \"))\n",
        "    marks3 = int(input(\"Enter Marks3 : \"))\n",
        "    total = marks1 + marks2 + marks3\n",
        "    average = total/3\n",
        "    if average >= 75:\n",
        "        print(\"Student Qualified\")\n",
        "    else:\n",
        "        print(\"Student Not Qualified\")\n",
        "    counter += 1\n",
        "print(\"Outside While\")"
      ],
      "execution_count": null,
      "outputs": []
    },
    {
      "cell_type": "code",
      "metadata": {
        "id": "u5sJZpjWlLx6",
        "colab_type": "code",
        "colab": {
          "base_uri": "https://localhost:8080/",
          "height": 139
        },
        "outputId": "f966d785-df22-403f-d857-ed70ca345175"
      },
      "source": [
        "n=int(input(\"enter no. :\"))\n",
        "for i in range(1,n+1):\n",
        "  print(i*i)\n",
        "i=0\n",
        "while(i<n):\n",
        "  i=i+1\n",
        "  print(i*i)"
      ],
      "execution_count": null,
      "outputs": [
        {
          "output_type": "stream",
          "text": [
            "enter no. :3\n",
            "1\n",
            "4\n",
            "9\n",
            "1\n",
            "4\n",
            "9\n"
          ],
          "name": "stdout"
        }
      ]
    },
    {
      "cell_type": "code",
      "metadata": {
        "id": "D0YPH6BlmIbI",
        "colab_type": "code",
        "colab": {
          "base_uri": "https://localhost:8080/",
          "height": 69
        },
        "outputId": "06260154-c984-418c-f97e-c66c951343bc"
      },
      "source": [
        "while True:\n",
        "    line = input('Enter the input: ')\n",
        "    if line == '#':\n",
        "        continue\n",
        "    if line == 'done':\n",
        "        break\n",
        "    print(line)\n",
        "print('Done!')"
      ],
      "execution_count": null,
      "outputs": [
        {
          "output_type": "stream",
          "text": [
            "Enter the input: #\n",
            "Enter the input: done\n",
            "Done!\n"
          ],
          "name": "stdout"
        }
      ]
    },
    {
      "cell_type": "code",
      "metadata": {
        "id": "q2fDxByPmf_c",
        "colab_type": "code",
        "colab": {
          "base_uri": "https://localhost:8080/",
          "height": 121
        },
        "outputId": "9b0c3dc8-211d-432d-fa95-9afac7f249df"
      },
      "source": [
        "n=int(input(\"enter no:\"))\n",
        "i=1\n",
        "while(i<=5):\n",
        "  n=n+1\n",
        "  count=2\n",
        "  isPrime=1\n",
        "  while count <= n//2:\n",
        "    if n%count==0:\n",
        "      isPrime=0\n",
        "      break\n",
        "    else:\n",
        "      count=count+1\n",
        "  if isPrime == 1:\n",
        "   print(n)\n",
        "   i=i+1\n",
        "  \n",
        "  \n"
      ],
      "execution_count": null,
      "outputs": [
        {
          "output_type": "stream",
          "text": [
            "enter no:3\n",
            "5\n",
            "7\n",
            "11\n",
            "13\n",
            "17\n"
          ],
          "name": "stdout"
        }
      ]
    },
    {
      "cell_type": "code",
      "metadata": {
        "id": "fz9rWk3kp93J",
        "colab_type": "code",
        "colab": {
          "base_uri": "https://localhost:8080/",
          "height": 104
        },
        "outputId": "b231b0f7-3e81-40e3-dabc-7b217a2482e4"
      },
      "source": [
        "s='sss'\n",
        "print(len(s))\n",
        "print(s[len(s)-1])\n",
        "for i in s:\n",
        "   print(i)\n"
      ],
      "execution_count": null,
      "outputs": [
        {
          "output_type": "stream",
          "text": [
            "3\n",
            "s\n",
            "s\n",
            "s\n",
            "s\n"
          ],
          "name": "stdout"
        }
      ]
    },
    {
      "cell_type": "code",
      "metadata": {
        "id": "Ls9D32U0qwxF",
        "colab_type": "code",
        "colab": {
          "base_uri": "https://localhost:8080/",
          "height": 104
        },
        "outputId": "ad6c83d6-e8f9-4f22-97ce-d803d034bcc4"
      },
      "source": [
        "st=\"apple\"\n",
        "i=1\n",
        "for j in st:\n",
        "  print(j*i)\n",
        "  i=i+1"
      ],
      "execution_count": null,
      "outputs": [
        {
          "output_type": "stream",
          "text": [
            "a\n",
            "pp\n",
            "ppp\n",
            "llll\n",
            "eeeee\n"
          ],
          "name": "stdout"
        }
      ]
    },
    {
      "cell_type": "code",
      "metadata": {
        "id": "6qWcJsdjrtV5",
        "colab_type": "code",
        "colab": {
          "base_uri": "https://localhost:8080/",
          "height": 35
        },
        "outputId": "748afb8c-e94c-46d5-8da5-7c02e6c96113"
      },
      "source": [
        "st=\"apple\"\n",
        "for char in st:\n",
        "  print(char,end=\"\")"
      ],
      "execution_count": null,
      "outputs": [
        {
          "output_type": "stream",
          "text": [
            "apple"
          ],
          "name": "stdout"
        }
      ]
    },
    {
      "cell_type": "code",
      "metadata": {
        "id": "hIb15HK_r4Kt",
        "colab_type": "code",
        "colab": {
          "base_uri": "https://localhost:8080/",
          "height": 35
        },
        "outputId": "e1586cb8-ac83-4c39-bf25-330aec1c67d0"
      },
      "source": [
        "st=\"apple\"\n",
        "for i in range(len(st)-1,-1,-1):\n",
        " print(st[i],end=\"\")"
      ],
      "execution_count": null,
      "outputs": [
        {
          "output_type": "stream",
          "text": [
            "elppa"
          ],
          "name": "stdout"
        }
      ]
    },
    {
      "cell_type": "code",
      "metadata": {
        "id": "3yqpLKdisyKl",
        "colab_type": "code",
        "colab": {
          "base_uri": "https://localhost:8080/",
          "height": 87
        },
        "outputId": "d9ff5135-d6fc-4d09-f7a2-694f719893f8"
      },
      "source": [
        "s=\"MontyPython\"\n",
        "print(s[0:5])\n",
        "print(s[6:12:2])\n",
        "print(s[3:])\n",
        "print(s[1:6:2])\n"
      ],
      "execution_count": null,
      "outputs": [
        {
          "output_type": "stream",
          "text": [
            "Monty\n",
            "yhn\n",
            "tyPython\n",
            "otP\n"
          ],
          "name": "stdout"
        }
      ]
    },
    {
      "cell_type": "code",
      "metadata": {
        "id": "b7Pclzt-tknC",
        "colab_type": "code",
        "colab": {
          "base_uri": "https://localhost:8080/",
          "height": 52
        },
        "outputId": "aed8ab71-3aee-4516-8b7d-06629b12ab7c"
      },
      "source": [
        "s = 'abcdefghijk'\n",
        "print(s[:5:2])\n",
        "print(s[3:3])\n"
      ],
      "execution_count": null,
      "outputs": [
        {
          "output_type": "stream",
          "text": [
            "ace\n",
            "\n"
          ],
          "name": "stdout"
        }
      ]
    },
    {
      "cell_type": "code",
      "metadata": {
        "id": "tBlHn9HSuvef",
        "colab_type": "code",
        "colab": {
          "base_uri": "https://localhost:8080/",
          "height": 69
        },
        "outputId": "addc1e60-2c50-4f59-c95d-07ae67f9c0f0"
      },
      "source": [
        "#Strings are immutable\n",
        "greeting = 'Hello class'\n",
        "print(greeting[0])\n",
        "print(id(greeting))\n",
        "# this is a wrong code\n",
        "#greeting[2]='s'\n",
        "greeting = \"Good afternoon\"\n",
        "print(id(greeting))"
      ],
      "execution_count": null,
      "outputs": [
        {
          "output_type": "stream",
          "text": [
            "H\n",
            "139996153638512\n",
            "139996153637936\n"
          ],
          "name": "stdout"
        }
      ]
    },
    {
      "cell_type": "code",
      "metadata": {
        "id": "YhxYBXGCvR9Z",
        "colab_type": "code",
        "colab": {
          "base_uri": "https://localhost:8080/",
          "height": 35
        },
        "outputId": "0e67f043-9a8e-4451-de8c-02033c84a657"
      },
      "source": [
        "a=\"abracadabra\"\n",
        "c=0\n",
        "for i in a:\n",
        "  if i=='a':\n",
        "   c=c+1\n",
        "print(c)"
      ],
      "execution_count": null,
      "outputs": [
        {
          "output_type": "stream",
          "text": [
            "5\n"
          ],
          "name": "stdout"
        }
      ]
    },
    {
      "cell_type": "code",
      "metadata": {
        "id": "KH0ZNfig0BCv",
        "colab_type": "code",
        "colab": {
          "base_uri": "https://localhost:8080/",
          "height": 35
        },
        "outputId": "e10123ae-0783-4413-cf65-c5d7031857fa"
      },
      "source": [
        "#enumerate- returns both index and characters\n",
        "st='apple is a friut'\n",
        "c=0\n",
        "for i,char in enumerate(st):\n",
        "   if char=='a':\n",
        "     c=c+1\n",
        "print(c)"
      ],
      "execution_count": null,
      "outputs": [
        {
          "output_type": "stream",
          "text": [
            "2\n"
          ],
          "name": "stdout"
        }
      ]
    },
    {
      "cell_type": "code",
      "metadata": {
        "id": "J6sPWPjo051C",
        "colab_type": "code",
        "colab": {
          "base_uri": "https://localhost:8080/",
          "height": 52
        },
        "outputId": "8d4a4b06-4957-4ddc-dbbc-56bea8f41e88"
      },
      "source": [
        "stmt=\"Shakespeare was born and raised in Stratford-upon-Avon\"\n",
        "count = 0\n",
        "for i,char in enumerate(stmt):    \n",
        "    if char=='a':\n",
        "        count = count + 1\n",
        "        print(i,end=' ')\n",
        "        \n",
        "print('\\n count = ',count)"
      ],
      "execution_count": null,
      "outputs": [
        {
          "output_type": "stream",
          "text": [
            "2 8 13 21 26 38 \n",
            " count =  6\n"
          ],
          "name": "stdout"
        }
      ]
    },
    {
      "cell_type": "code",
      "metadata": {
        "id": "rYzQUxfW1ELI",
        "colab_type": "code",
        "colab": {
          "base_uri": "https://localhost:8080/",
          "height": 35
        },
        "outputId": "d12bbafb-ae0b-4081-f3c1-c8f982c8fece"
      },
      "source": [
        "word = 'carrot'\n",
        "if word < 'banana':\n",
        "    print('Your word,' + word + ', comes before banana.')\n",
        "elif word > 'banana':\n",
        "    print('Your word,' + word + ', comes after banana.')\n",
        "else:\n",
        "    print('All right, bananas.')"
      ],
      "execution_count": null,
      "outputs": [
        {
          "output_type": "stream",
          "text": [
            "Your word,carrot, comes after banana.\n"
          ],
          "name": "stdout"
        }
      ]
    },
    {
      "cell_type": "code",
      "metadata": {
        "id": "e0tjJ2Ey1jbA",
        "colab_type": "code",
        "colab": {
          "base_uri": "https://localhost:8080/",
          "height": 52
        },
        "outputId": "430628d5-e1b0-4988-e41e-0b881caf8778"
      },
      "source": [
        "st=input(\"enter a word\")\n",
        "if st == st[::-1]:\n",
        " print(\"palindrome\")\n",
        "else:\n",
        "  print(\"not palindrome\")"
      ],
      "execution_count": null,
      "outputs": [
        {
          "output_type": "stream",
          "text": [
            "enter a wordasdf\n",
            "not palindrome\n"
          ],
          "name": "stdout"
        }
      ]
    },
    {
      "cell_type": "code",
      "metadata": {
        "id": "glXW-JOC2Om_",
        "colab_type": "code",
        "colab": {
          "base_uri": "https://localhost:8080/",
          "height": 55
        },
        "outputId": "6ba9391e-019e-421a-b667-27c041922b5f"
      },
      "source": [
        "st='lee'\n",
        "print(dir(st))"
      ],
      "execution_count": null,
      "outputs": [
        {
          "output_type": "stream",
          "text": [
            "['__add__', '__class__', '__contains__', '__delattr__', '__dir__', '__doc__', '__eq__', '__format__', '__ge__', '__getattribute__', '__getitem__', '__getnewargs__', '__gt__', '__hash__', '__init__', '__init_subclass__', '__iter__', '__le__', '__len__', '__lt__', '__mod__', '__mul__', '__ne__', '__new__', '__reduce__', '__reduce_ex__', '__repr__', '__rmod__', '__rmul__', '__setattr__', '__sizeof__', '__str__', '__subclasshook__', 'capitalize', 'casefold', 'center', 'count', 'encode', 'endswith', 'expandtabs', 'find', 'format', 'format_map', 'index', 'isalnum', 'isalpha', 'isdecimal', 'isdigit', 'isidentifier', 'islower', 'isnumeric', 'isprintable', 'isspace', 'istitle', 'isupper', 'join', 'ljust', 'lower', 'lstrip', 'maketrans', 'partition', 'replace', 'rfind', 'rindex', 'rjust', 'rpartition', 'rsplit', 'rstrip', 'split', 'splitlines', 'startswith', 'strip', 'swapcase', 'title', 'translate', 'upper', 'zfill']\n"
          ],
          "name": "stdout"
        }
      ]
    },
    {
      "cell_type": "code",
      "metadata": {
        "id": "PqBhEPyI2clb",
        "colab_type": "code",
        "colab": {
          "base_uri": "https://localhost:8080/",
          "height": 87
        },
        "outputId": "3e29f53b-f9d7-4235-cb88-f81758985041"
      },
      "source": [
        "# String methods\n",
        "# 1. upper,lower,title\n",
        "word = 'banana is a fruit'\n",
        "new_word = word.upper()\n",
        "print(new_word)\n",
        "print(new_word.lower())\n",
        "print(word.title())\n",
        "print(word.islower())\n",
        "#titleCase: first letter of every word is capital"
      ],
      "execution_count": null,
      "outputs": [
        {
          "output_type": "stream",
          "text": [
            "BANANA IS A FRUIT\n",
            "banana is a fruit\n",
            "Banana Is A Fruit\n",
            "True\n"
          ],
          "name": "stdout"
        }
      ]
    },
    {
      "cell_type": "code",
      "metadata": {
        "id": "6_EHyikV205s",
        "colab_type": "code",
        "colab": {
          "base_uri": "https://localhost:8080/",
          "height": 35
        },
        "outputId": "07949bd9-e7c0-489c-ac9f-f62fa107dd59"
      },
      "source": [
        "word='India Is a great Country'\n",
        "i=word.find('a',word.find('a')+1)\n",
        "print(i)"
      ],
      "execution_count": null,
      "outputs": [
        {
          "output_type": "stream",
          "text": [
            "9\n"
          ],
          "name": "stdout"
        }
      ]
    },
    {
      "cell_type": "code",
      "metadata": {
        "id": "e-15Z-AA4ex0",
        "colab_type": "code",
        "colab": {
          "base_uri": "https://localhost:8080/",
          "height": 52
        },
        "outputId": "0eae7789-5369-44d0-d642-5e02b02a4b63"
      },
      "source": [
        "#split,strip,startswith\n",
        "s=\"this book is blue in color\"\n",
        "l1=s.split(' ')\n",
        "print(l1)\n",
        "l2=s.split('b')\n",
        "print(l2)"
      ],
      "execution_count": null,
      "outputs": [
        {
          "output_type": "stream",
          "text": [
            "['this', 'book', 'is', 'blue', 'in', 'color']\n",
            "['this ', 'ook is ', 'lue in color']\n"
          ],
          "name": "stdout"
        }
      ]
    },
    {
      "cell_type": "code",
      "metadata": {
        "id": "2Xeui2Ya5Qe8",
        "colab_type": "code",
        "colab": {
          "base_uri": "https://localhost:8080/",
          "height": 35
        },
        "outputId": "a33b6515-1333-406e-e5c0-4c3f4bcaf0e8"
      },
      "source": [
        "l='@dsjhds@'\n",
        "print(l.strip('@'))"
      ],
      "execution_count": null,
      "outputs": [
        {
          "output_type": "stream",
          "text": [
            "dsjhds\n"
          ],
          "name": "stdout"
        }
      ]
    },
    {
      "cell_type": "code",
      "metadata": {
        "id": "p8Jyjidq5nv-",
        "colab_type": "code",
        "colab": {}
      },
      "source": [
        "'''\n",
        "Assume you have 5 strings as given below\n",
        "find out the mean of X-DSPAM-Confidence and \n",
        "Y-DSPAM-Confidence\n",
        "' X-DSPAM-Confidence:0.8475 '\n",
        "' X-DSPAM-Confidence:0.765 '\n",
        "' X-DSPAM-Confidence:0.7065 '\n",
        "'Y-DSPAM-Confidence:0.9985 '\n",
        "'Y-DSPAM-Confidence:0.6585 '\n",
        "'''\n",
        "Data = [' X-DSPAM-Confidence:0.8475 ',' X-DSPAM-Confidence:0.765 ',\n",
        "        ' X-DSPAM-Confidence:0.7065 ','Y-DSPAM-Confidence:0.9985 ',\n",
        "        'Y-DSPAM-Confidence:0.6585 ']"
      ],
      "execution_count": null,
      "outputs": []
    },
    {
      "cell_type": "code",
      "metadata": {
        "id": "ZpiyLaOE5qV1",
        "colab_type": "code",
        "colab": {
          "base_uri": "https://localhost:8080/",
          "height": 52
        },
        "outputId": "ba4e1770-2ae7-437c-b541-d19d7f99746b"
      },
      "source": [
        "Data = [' X-DSPAM-Confidence:0.8475 ',' X-DSPAM-Confidence:0.765 ',\n",
        "        ' X-DSPAM-Confidence:0.7065 ','Y-DSPAM-Confidence:0.9985 ',\n",
        "        'Y-DSPAM-Confidence:0.6585 ']\n",
        "yCount=0\n",
        "xCount=0\n",
        "xNum=0\n",
        "yNum=0\n",
        "for i in Data:\n",
        "  j=i.strip(' ')\n",
        "  if(j.startswith('X')):\n",
        "    xNum=xNum+float(j.split(\":\")[1])\n",
        "    xCount=xCount+1  \n",
        "  if(j.startswith('Y')):\n",
        "    yNum=yNum+float(j.split(\":\")[1])\n",
        "    yCount=yCount+1\n",
        "\n",
        "print('mean of X-DSPAM-Confidence is ',(xNum/xCount))\n",
        "print('mean of Y-DSPAM-Confidence is ',(yNum/yCount))"
      ],
      "execution_count": null,
      "outputs": [
        {
          "output_type": "stream",
          "text": [
            "mean of X-DSPAM-Confidence is  0.773\n",
            "mean of Y-DSPAM-Confidence is  0.8285\n"
          ],
          "name": "stdout"
        }
      ]
    },
    {
      "cell_type": "code",
      "metadata": {
        "id": "OOyqcL4o77zm",
        "colab_type": "code",
        "colab": {
          "base_uri": "https://localhost:8080/",
          "height": 35
        },
        "outputId": "bf1748dd-21c0-4bb0-ae3a-52e978fcab18"
      },
      "source": [
        "str=\"a1b1c1\"\n",
        "str.replace('1','')"
      ],
      "execution_count": null,
      "outputs": [
        {
          "output_type": "execute_result",
          "data": {
            "application/vnd.google.colaboratory.intrinsic+json": {
              "type": "string"
            },
            "text/plain": [
              "'abc'"
            ]
          },
          "metadata": {
            "tags": []
          },
          "execution_count": 111
        }
      ]
    },
    {
      "cell_type": "code",
      "metadata": {
        "id": "wUZ8Amss8EK5",
        "colab_type": "code",
        "colab": {
          "base_uri": "https://localhost:8080/",
          "height": 52
        },
        "outputId": "ae3f2b58-4a15-4d15-a9f3-245eb8701281"
      },
      "source": [
        "punctuations = '''!()-[]{};:'\"\\,<>./?@#$%^&*_~'''\n",
        "s=input(\"enter string: \")\n",
        "for i in s:\n",
        "  if i in punctuations:\n",
        "    s=s.replace(i,'')\n",
        "print(s)"
      ],
      "execution_count": null,
      "outputs": [
        {
          "output_type": "stream",
          "text": [
            "enter string: !sd@ss!\n",
            "sdss\n"
          ],
          "name": "stdout"
        }
      ]
    },
    {
      "cell_type": "code",
      "metadata": {
        "id": "XTWSA1tK9Vyi",
        "colab_type": "code",
        "colab": {
          "base_uri": "https://localhost:8080/",
          "height": 35
        },
        "outputId": "bb56aef6-504d-4196-8c55-a350c0b1a893"
      },
      "source": [
        "#list\n",
        "x=[2, 'a', 4.5, False]\n",
        "print(x)"
      ],
      "execution_count": null,
      "outputs": [
        {
          "output_type": "stream",
          "text": [
            "[2, 'a', 4.5, False]\n"
          ],
          "name": "stdout"
        }
      ]
    },
    {
      "cell_type": "code",
      "metadata": {
        "id": "UzuSjEbq93EQ",
        "colab_type": "code",
        "colab": {
          "base_uri": "https://localhost:8080/",
          "height": 35
        },
        "outputId": "c302e876-d7bd-4dcd-ac5d-5d2c3426bb50"
      },
      "source": [
        "l=[1,2,3,4,5]\n",
        "print(3 in l)"
      ],
      "execution_count": null,
      "outputs": [
        {
          "output_type": "stream",
          "text": [
            "True\n"
          ],
          "name": "stdout"
        }
      ]
    },
    {
      "cell_type": "code",
      "metadata": {
        "id": "ovqCcDF_-UZI",
        "colab_type": "code",
        "colab": {
          "base_uri": "https://localhost:8080/",
          "height": 35
        },
        "outputId": "f0ed8235-0a91-4627-8b92-393c83b8331c"
      },
      "source": [
        "l1=list(range(10))\n",
        "print(l1)"
      ],
      "execution_count": null,
      "outputs": [
        {
          "output_type": "stream",
          "text": [
            "[0, 1, 2, 3, 4, 5, 6, 7, 8, 9]\n"
          ],
          "name": "stdout"
        }
      ]
    },
    {
      "cell_type": "code",
      "metadata": {
        "id": "GsqVf_7G-aa0",
        "colab_type": "code",
        "colab": {
          "base_uri": "https://localhost:8080/",
          "height": 121
        },
        "outputId": "5de9d308-8f21-4084-f294-ab025d8e6328"
      },
      "source": [
        "l1=list(range(5,51,5))\n",
        "print(l1)\n",
        "print(l1[2:7])\n",
        "print(l1[2:7:2])\n",
        "print(l1[7:2:-1])\n",
        "print(l1[:6:-1])\n",
        "print(l1[::-1])"
      ],
      "execution_count": null,
      "outputs": [
        {
          "output_type": "stream",
          "text": [
            "[5, 10, 15, 20, 25, 30, 35, 40, 45, 50]\n",
            "[15, 20, 25, 30, 35]\n",
            "[15, 25, 35]\n",
            "[40, 35, 30, 25, 20]\n",
            "[50, 45, 40]\n",
            "[50, 45, 40, 35, 30, 25, 20, 15, 10, 5]\n"
          ],
          "name": "stdout"
        }
      ]
    },
    {
      "cell_type": "code",
      "metadata": {
        "id": "cOnFcibX_LBz",
        "colab_type": "code",
        "colab": {
          "base_uri": "https://localhost:8080/",
          "height": 35
        },
        "outputId": "74a2b359-e85d-4b32-eeb5-8686d16addd6"
      },
      "source": [
        "l=['raju','isw']\n",
        "s= ' '.join(l)\n",
        "print(\"fd,\"+s+' ds')\n"
      ],
      "execution_count": null,
      "outputs": [
        {
          "output_type": "stream",
          "text": [
            "fd,raju iswds\n"
          ],
          "name": "stdout"
        }
      ]
    },
    {
      "cell_type": "code",
      "metadata": {
        "id": "OJp1Im4SA6BC",
        "colab_type": "code",
        "colab": {
          "base_uri": "https://localhost:8080/",
          "height": 35
        },
        "outputId": "690e3e28-396f-47be-e295-574872d8c069"
      },
      "source": [
        "# Extract the integer part out of each element in myList\n",
        "l=[34.5,23,5,34,23.56]\n",
        "l1=[]\n",
        "for i in l:\n",
        "  l1.append(int(i))\n",
        "print(l1)"
      ],
      "execution_count": null,
      "outputs": [
        {
          "output_type": "stream",
          "text": [
            "[34, 23, 5, 34, 23]\n"
          ],
          "name": "stdout"
        }
      ]
    },
    {
      "cell_type": "code",
      "metadata": {
        "id": "_B6EIo7wBVy-",
        "colab_type": "code",
        "colab": {
          "base_uri": "https://localhost:8080/",
          "height": 69
        },
        "outputId": "19fee6ad-15c8-4416-d652-f1c8e2e926b5"
      },
      "source": [
        "l=[34.5,23,5,34,23.56,0]\n",
        "l1=[]\n",
        "print(len(l))\n",
        "for i in range(0,int(len(l)/2)):\n",
        "  l1.append(l[i])\n",
        "print(l1)\n",
        "\n",
        "l2=[]\n",
        "for i in l:\n",
        "  l2.append(int(i/2))\n",
        "print(l2)"
      ],
      "execution_count": null,
      "outputs": [
        {
          "output_type": "stream",
          "text": [
            "6\n",
            "[34.5, 23, 5]\n",
            "[17, 11, 2, 17, 11, 0]\n"
          ],
          "name": "stdout"
        }
      ]
    },
    {
      "cell_type": "code",
      "metadata": {
        "id": "38F1bQs4P8NI",
        "colab_type": "code",
        "colab": {}
      },
      "source": [
        "#extend\n",
        "#helps to add elements to string\n",
        "#but the difference between append and extend is\n",
        "#extend adds the element of the new list toward the end"
      ],
      "execution_count": null,
      "outputs": []
    },
    {
      "cell_type": "code",
      "metadata": {
        "id": "1xBWhq8uQSmo",
        "colab_type": "code",
        "colab": {
          "base_uri": "https://localhost:8080/",
          "height": 52
        },
        "outputId": "452ec2a8-edc9-45a2-e282-43af5f84edf2"
      },
      "source": [
        "x = [7,6,4,5,90,75,2,1]\n",
        "#add a new elements using append\n",
        "y=[\"Hello\",\"how\",\"are\",\"you\"]\n",
        "x.append(y)\n",
        "print(x)\n",
        "x = [7,6,4,5,90,75,2,1]\n",
        "#add a new elements using extend\n",
        "y=[\"Hello\",\"how\",\"are\",\"you\"]\n",
        "x.extend(y)\n",
        "print(x)\n"
      ],
      "execution_count": null,
      "outputs": [
        {
          "output_type": "stream",
          "text": [
            "[7, 6, 4, 5, 90, 75, 2, 1, ['Hello', 'how', 'are', 'you']]\n",
            "[7, 6, 4, 5, 90, 75, 2, 1, 'Hello', 'how', 'are', 'you']\n"
          ],
          "name": "stdout"
        }
      ]
    },
    {
      "cell_type": "code",
      "metadata": {
        "id": "EkrhDyrDQwz0",
        "colab_type": "code",
        "colab": {
          "base_uri": "https://localhost:8080/",
          "height": 69
        },
        "outputId": "723fa280-5e72-44d0-ab8c-eef08be3a388"
      },
      "source": [
        "A = [10,20,30,40]\n",
        "B = [20,30,40,50]\n",
        "C=A+B\n",
        "print(C) #concate\n",
        "print(A*2)#repeat the elements\n",
        "A.extend(B)\n",
        "print(A)"
      ],
      "execution_count": null,
      "outputs": [
        {
          "output_type": "stream",
          "text": [
            "[10, 20, 30, 40, 20, 30, 40, 50]\n",
            "[10, 20, 30, 40, 10, 20, 30, 40]\n",
            "[10, 20, 30, 40, 20, 30, 40, 50]\n"
          ],
          "name": "stdout"
        }
      ]
    },
    {
      "cell_type": "code",
      "metadata": {
        "id": "iUhzWDSLROku",
        "colab_type": "code",
        "colab": {
          "base_uri": "https://localhost:8080/",
          "height": 52
        },
        "outputId": "b330a5af-c874-4d96-d6b9-66d3bc996e24"
      },
      "source": [
        "#sort\n",
        "x=[2,4,1,8,4]\n",
        "x.sort()\n",
        "print(x)\n",
        "x.sort(reverse=True)\n",
        "print(x)"
      ],
      "execution_count": null,
      "outputs": [
        {
          "output_type": "stream",
          "text": [
            "[1, 2, 4, 4, 8]\n",
            "[8, 4, 4, 2, 1]\n"
          ],
          "name": "stdout"
        }
      ]
    },
    {
      "cell_type": "code",
      "metadata": {
        "id": "ooAaaTz2RtiO",
        "colab_type": "code",
        "colab": {
          "base_uri": "https://localhost:8080/",
          "height": 35
        },
        "outputId": "f59d6047-8d46-4089-c7a4-5a4baf5d7985"
      },
      "source": [
        "#ternary operator\n",
        "x=5\n",
        "y=6\n",
        "print(x) if(x>y) else print(y)"
      ],
      "execution_count": null,
      "outputs": [
        {
          "output_type": "stream",
          "text": [
            "6\n"
          ],
          "name": "stdout"
        }
      ]
    },
    {
      "cell_type": "code",
      "metadata": {
        "id": "SPMJqOBVSUR_",
        "colab_type": "code",
        "colab": {
          "base_uri": "https://localhost:8080/",
          "height": 35
        },
        "outputId": "ac2e9543-88b7-410c-8dcc-074c7de440c3"
      },
      "source": [
        "x=10\n",
        "print('even') if(x%2==0) else print('odd')"
      ],
      "execution_count": null,
      "outputs": [
        {
          "output_type": "stream",
          "text": [
            "even\n"
          ],
          "name": "stdout"
        }
      ]
    },
    {
      "cell_type": "code",
      "metadata": {
        "id": "VMvaAmvCTAlc",
        "colab_type": "code",
        "colab": {
          "base_uri": "https://localhost:8080/",
          "height": 52
        },
        "outputId": "be8a37a3-5c79-430d-bae1-e6ebf4f7ad86"
      },
      "source": [
        "#list comprehension\n",
        "l1=list(range(1,30,5))\n",
        "l2=[i*2 for i in l1]\n",
        "print(l2)\n",
        "l1=list(range(1,30,5))\n",
        "l2=[i*2 for i in l1]\n",
        "print(l2)"
      ],
      "execution_count": null,
      "outputs": [
        {
          "output_type": "stream",
          "text": [
            "[2, 12, 22, 32, 42, 52]\n",
            "[2, 12, 22, 32, 42, 52]\n"
          ],
          "name": "stdout"
        }
      ]
    },
    {
      "cell_type": "code",
      "metadata": {
        "id": "Yolt7B9vTbsn",
        "colab_type": "code",
        "colab": {
          "base_uri": "https://localhost:8080/",
          "height": 35
        },
        "outputId": "688a885c-f6f9-477e-e008-c25df25279a4"
      },
      "source": [
        "#Program to display the first three letters of the list element in upper case\n",
        "wordList = [\"India\",\"Australia\",\"USA\",\"France\"]\n",
        "l1=[i[:3].upper() for i in wordList]\n",
        "print(l1)"
      ],
      "execution_count": null,
      "outputs": [
        {
          "output_type": "stream",
          "text": [
            "['IND', 'AUS', 'USA', 'FRA']\n"
          ],
          "name": "stdout"
        }
      ]
    },
    {
      "cell_type": "code",
      "metadata": {
        "id": "Dsd3-MPbUGnm",
        "colab_type": "code",
        "colab": {
          "base_uri": "https://localhost:8080/",
          "height": 35
        },
        "outputId": "fd3b8159-33b8-4be5-dc34-6b6b569a548e"
      },
      "source": [
        "l1=[11,12,13,14,15,16]\n",
        "l2=[n*2 if n%2==0 else n*3 for n in l1]\n",
        "print(l2)"
      ],
      "execution_count": null,
      "outputs": [
        {
          "output_type": "stream",
          "text": [
            "[33, 24, 39, 28, 45, 32]\n"
          ],
          "name": "stdout"
        }
      ]
    },
    {
      "cell_type": "code",
      "metadata": {
        "id": "rVVx5AiWVECV",
        "colab_type": "code",
        "colab": {
          "base_uri": "https://localhost:8080/",
          "height": 35
        },
        "outputId": "ac417416-7be4-4fea-ac2c-4af297981f1e"
      },
      "source": [
        "#Write a program to multiply every even number of the list by 5\n",
        "l1=[11,12,13,14,15,16]\n",
        "l2=[n*5 for n in l1 if n%2==0]\n",
        "print(l2)"
      ],
      "execution_count": null,
      "outputs": [
        {
          "output_type": "stream",
          "text": [
            "[60, 70, 80]\n"
          ],
          "name": "stdout"
        }
      ]
    },
    {
      "cell_type": "code",
      "metadata": {
        "id": "S7akEazKV3S9",
        "colab_type": "code",
        "colab": {
          "base_uri": "https://localhost:8080/",
          "height": 35
        },
        "outputId": "02981424-086a-4931-e293-7f11d4f4905a"
      },
      "source": [
        "#find the length of the element if the element starts with 'A'\n",
        "words=['Apple','Banana','Ant','Aeroplane','anger']\n",
        "l1=[len(i) for i in words if i.startswith('A')]\n",
        "print(l1)"
      ],
      "execution_count": null,
      "outputs": [
        {
          "output_type": "stream",
          "text": [
            "[5, 3, 9]\n"
          ],
          "name": "stdout"
        }
      ]
    },
    {
      "cell_type": "code",
      "metadata": {
        "id": "zMKjBRNaWbCf",
        "colab_type": "code",
        "colab": {
          "base_uri": "https://localhost:8080/",
          "height": 35
        },
        "outputId": "9d7d01bf-47b2-4dea-d4ec-b139b397956c"
      },
      "source": [
        "#find the length of the element if the element starts with 'A' else display the first letter in caps\n",
        "words=['Apple','Banana','Ant','Aeroplane','anger']\n",
        "l1=[len(i) if i[0]=='A' else i[0].upper() for i in words ]\n",
        "print(l1)"
      ],
      "execution_count": null,
      "outputs": [
        {
          "output_type": "stream",
          "text": [
            "[5, 'B', 3, 9, 'A']\n"
          ],
          "name": "stdout"
        }
      ]
    },
    {
      "cell_type": "code",
      "metadata": {
        "id": "1raO4UM9XBmG",
        "colab_type": "code",
        "colab": {
          "base_uri": "https://localhost:8080/",
          "height": 35
        },
        "outputId": "30921b8c-ed75-4ed0-f57d-fc24ef9c9b2a"
      },
      "source": [
        "#display all elements which are divisible by 2 and 5\n",
        "x = [2, 30, 15, 10]\n",
        "l1=[i for i in x if i%2==0 and i%5==0]\n",
        "print(l1)"
      ],
      "execution_count": null,
      "outputs": [
        {
          "output_type": "stream",
          "text": [
            "[30, 10]\n"
          ],
          "name": "stdout"
        }
      ]
    },
    {
      "cell_type": "code",
      "metadata": {
        "id": "GeuAZBZoXexM",
        "colab_type": "code",
        "colab": {
          "base_uri": "https://localhost:8080/",
          "height": 69
        },
        "outputId": "206decd4-8138-4474-dfb0-0de703b5760d"
      },
      "source": [
        "#methods to remove elements from list\n",
        "t = [1,2,3,4,'d']\n",
        "t.pop(2)\n",
        "print(t)\n",
        "del t[1:3]\n",
        "print(t)\n",
        "t.remove('d')\n",
        "print(t)"
      ],
      "execution_count": null,
      "outputs": [
        {
          "output_type": "stream",
          "text": [
            "[1, 2, 4, 'd']\n",
            "[1, 'd']\n",
            "[1]\n"
          ],
          "name": "stdout"
        }
      ]
    },
    {
      "cell_type": "code",
      "metadata": {
        "id": "kQ6y-203Y7us",
        "colab_type": "code",
        "colab": {}
      },
      "source": [
        "#list are mutable"
      ],
      "execution_count": null,
      "outputs": []
    },
    {
      "cell_type": "code",
      "metadata": {
        "id": "f7kZUmFBZDYv",
        "colab_type": "code",
        "colab": {
          "base_uri": "https://localhost:8080/",
          "height": 191
        },
        "outputId": "1136d750-7749-4aab-d256-9e006cc05208"
      },
      "source": [
        "#built in functions\n",
        "import random\n",
        "for i in range(10):\n",
        "  x=random.random()\n",
        "  print(x)"
      ],
      "execution_count": null,
      "outputs": [
        {
          "output_type": "stream",
          "text": [
            "0.4273651911873343\n",
            "0.7213473906940668\n",
            "0.4751815887915708\n",
            "0.8607974636204707\n",
            "0.8417676165756682\n",
            "0.5761272263411605\n",
            "0.9846921647173866\n",
            "0.8287404113943071\n",
            "0.8698462873812515\n",
            "0.5837197216476535\n"
          ],
          "name": "stdout"
        }
      ]
    },
    {
      "cell_type": "code",
      "metadata": {
        "id": "XdYONHyJZuSG",
        "colab_type": "code",
        "colab": {
          "base_uri": "https://localhost:8080/",
          "height": 35
        },
        "outputId": "a0f86c9e-3013-4a91-da7c-bc7a59276b36"
      },
      "source": [
        "#for i in range(10):\n",
        "x=random.randint(1,5)\n",
        "print(x)"
      ],
      "execution_count": null,
      "outputs": [
        {
          "output_type": "stream",
          "text": [
            "2\n"
          ],
          "name": "stdout"
        }
      ]
    },
    {
      "cell_type": "code",
      "metadata": {
        "id": "75ztSXoPaC55",
        "colab_type": "code",
        "colab": {}
      },
      "source": [
        "import math\n",
        "signal_power=5.6\n",
        "noise_power=3.1\n",
        "ratio = signal_power / noise_power\n",
        "decibels = 10 * math.log10(ratio)\n",
        "radians = 0.7\n",
        "    \n",
        "height = math.sin(radians)\n",
        "degrees = 45\n",
        "radians = degrees / 360.0 * 2 * math.pi\n",
        "math.sin(radians)\n",
        "math.sqrt(2) / 2.0\n",
        "x = math.cos(radians)\n",
        "golden = (math.sqrt(5) + 1) / 2"
      ],
      "execution_count": null,
      "outputs": []
    },
    {
      "cell_type": "code",
      "metadata": {
        "id": "Yb8sPgkfaKuk",
        "colab_type": "code",
        "colab": {}
      },
      "source": [
        "help(math.pi)\n",
        "help(random.random)"
      ],
      "execution_count": null,
      "outputs": []
    },
    {
      "cell_type": "code",
      "metadata": {
        "id": "D2yNEptQaOzz",
        "colab_type": "code",
        "colab": {
          "base_uri": "https://localhost:8080/",
          "height": 87
        },
        "outputId": "bcc2d7f1-f622-4adc-a8a7-3b6bce810e21"
      },
      "source": [
        "# defining void funtions\n",
        "def print_lyrics(a):\n",
        "    print(\"I'm a lumberjack, and I'm okay.\")\n",
        "    print('I sleep all night and I work all day.')\n",
        "    print(a)\n",
        "    return(5)\n",
        "print(print_lyrics('blahhhh'))"
      ],
      "execution_count": null,
      "outputs": [
        {
          "output_type": "stream",
          "text": [
            "I'm a lumberjack, and I'm okay.\n",
            "I sleep all night and I work all day.\n",
            "blahhhh\n",
            "5\n"
          ],
          "name": "stdout"
        }
      ]
    },
    {
      "cell_type": "code",
      "metadata": {
        "id": "y-G56WrVbTNN",
        "colab_type": "code",
        "colab": {
          "base_uri": "https://localhost:8080/",
          "height": 173
        },
        "outputId": "12172a85-93d8-4b1a-f4b2-dcae4bf61111"
      },
      "source": [
        "\n",
        "def fibo(n):\n",
        "  count=0\n",
        "  a,b=0,1\n",
        "  while(count<n):\n",
        "    print(a)\n",
        "    c=a+b\n",
        "    a=b\n",
        "    b=c\n",
        "    count=count+1\n",
        "n=int(input('enter no:'))\n",
        "fibo(n)"
      ],
      "execution_count": null,
      "outputs": [
        {
          "output_type": "stream",
          "text": [
            "enter no:8\n",
            "0\n",
            "1\n",
            "1\n",
            "2\n",
            "3\n",
            "5\n",
            "8\n",
            "13\n"
          ],
          "name": "stdout"
        }
      ]
    },
    {
      "cell_type": "code",
      "metadata": {
        "id": "1l6HMKOEdfAK",
        "colab_type": "code",
        "colab": {
          "base_uri": "https://localhost:8080/",
          "height": 52
        },
        "outputId": "abbaf1c9-da3a-4202-eb7f-2f9c9bad65d9"
      },
      "source": [
        "# funciton for fibanocci series\n",
        "def gen_fib(f):\n",
        "    x=0\n",
        "    y=1\n",
        "    print(x,\"\",y, end=\" \")\n",
        "    z=x+y\n",
        "    while y < f:        \n",
        "        print(z,end=\" \")\n",
        "        x,y=y,z\n",
        "        z=x+y\n",
        "        \n",
        "fib=int(input())\n",
        "gen_fib(fib)"
      ],
      "execution_count": null,
      "outputs": [
        {
          "output_type": "stream",
          "text": [
            "6\n",
            "0  1 1 2 3 5 8 "
          ],
          "name": "stdout"
        }
      ]
    },
    {
      "cell_type": "code",
      "metadata": {
        "id": "tz2TAQiQdgbZ",
        "colab_type": "code",
        "colab": {
          "base_uri": "https://localhost:8080/",
          "height": 35
        },
        "outputId": "2364e96c-dd98-413d-acc2-ef3dc5e66fdd"
      },
      "source": [
        "stmt=\"ABCDEFGHIJKLM\"\n",
        "print(stmt[10:3:-1])"
      ],
      "execution_count": null,
      "outputs": [
        {
          "output_type": "stream",
          "text": [
            "KJIHGFE\n"
          ],
          "name": "stdout"
        }
      ]
    },
    {
      "cell_type": "code",
      "metadata": {
        "id": "XVRHhJ7gg6yB",
        "colab_type": "code",
        "colab": {
          "base_uri": "https://localhost:8080/",
          "height": 173
        },
        "outputId": "99e8a299-ebad-4a05-ca73-925f77a1cd14"
      },
      "source": [
        "\n",
        "def isPrime(n1,n2):\n",
        "  i=n1\n",
        "  while(i<=n2):\n",
        "    n1=n1+1\n",
        "    count=2\n",
        "    isPrime=1\n",
        "    while count <= n1//2:\n",
        "      if n1%count==0:\n",
        "        isPrime=0\n",
        "        break\n",
        "      else:\n",
        "        count=count+1\n",
        "    if isPrime == 1:\n",
        "      print(n1)\n",
        "    i=i+1\n",
        "n1=int(input(\"enter no1:\"))\n",
        "n2=int(input(\"enter no2:\"))\n",
        "isPrime(n1,n2)"
      ],
      "execution_count": null,
      "outputs": [
        {
          "output_type": "stream",
          "text": [
            "enter no1:20\n",
            "enter no2:50\n",
            "23\n",
            "29\n",
            "31\n",
            "37\n",
            "41\n",
            "43\n",
            "47\n"
          ],
          "name": "stdout"
        }
      ]
    },
    {
      "cell_type": "code",
      "metadata": {
        "id": "0yXZiUoKjyC_",
        "colab_type": "code",
        "colab": {}
      },
      "source": [
        "l1=[5,6,4,89,34,56,23,21]\n",
        "l2=[isPrime(i) for i in l1]"
      ],
      "execution_count": null,
      "outputs": []
    },
    {
      "cell_type": "code",
      "metadata": {
        "id": "-1OW3np0ivS4",
        "colab_type": "code",
        "colab": {}
      },
      "source": [
        "def is_prime(number):\n",
        "    count = 2\n",
        "    isPrime = True #The number is assumed to be prime\n",
        "    if(number > 1):\n",
        "        half=number//2\n",
        "        for count in range(2,half+1):\n",
        "            if number % count == 0:\n",
        "                isPrime = False #the number is not prime\n",
        "                break\n",
        "    else:\n",
        "        isPrime = False\n",
        "    return isPrime"
      ],
      "execution_count": null,
      "outputs": []
    },
    {
      "cell_type": "code",
      "metadata": {
        "id": "J_GZIyutkCwp",
        "colab_type": "code",
        "colab": {
          "base_uri": "https://localhost:8080/",
          "height": 35
        },
        "outputId": "0b6101b2-aa45-4961-f0b7-a4469b78fd70"
      },
      "source": [
        "l1=[5,6,4,89,34,56,23,21]\n",
        "l2=[i for i in l1 if(is_prime(i))]\n",
        "print(l2)"
      ],
      "execution_count": null,
      "outputs": [
        {
          "output_type": "stream",
          "text": [
            "[5, 89, 23]\n"
          ],
          "name": "stdout"
        }
      ]
    },
    {
      "cell_type": "code",
      "metadata": {
        "id": "q-ti-Kd_lAmq",
        "colab_type": "code",
        "colab": {
          "base_uri": "https://localhost:8080/",
          "height": 52
        },
        "outputId": "1a133a4e-0932-4222-bb87-7f7bf52466ef"
      },
      "source": [
        "#Define a lambda function:\n",
        "sum = lambda x, y : x + y\n",
        "print(type(sum))\n",
        "#invoke a lambda function:\n",
        "sum(3,4)"
      ],
      "execution_count": null,
      "outputs": [
        {
          "output_type": "stream",
          "text": [
            "<class 'function'>\n"
          ],
          "name": "stdout"
        },
        {
          "output_type": "execute_result",
          "data": {
            "text/plain": [
              "7"
            ]
          },
          "metadata": {
            "tags": []
          },
          "execution_count": 199
        }
      ]
    },
    {
      "cell_type": "code",
      "metadata": {
        "id": "aXiNOB_GlG3H",
        "colab_type": "code",
        "colab": {}
      },
      "source": [
        "sq = lambda x:x**2\n",
        "print(sq)\n",
        "sq(5)"
      ],
      "execution_count": null,
      "outputs": []
    },
    {
      "cell_type": "code",
      "metadata": {
        "id": "SAOiXmxAlcmA",
        "colab_type": "code",
        "colab": {
          "base_uri": "https://localhost:8080/",
          "height": 35
        },
        "outputId": "d37e598a-251f-4b1a-9ee6-04e1fb329584"
      },
      "source": [
        "l1=[5,6,4,89,34,56,23,21]\n",
        "X=map(is_prime,l1)\n",
        "print(list(X))"
      ],
      "execution_count": null,
      "outputs": [
        {
          "output_type": "stream",
          "text": [
            "[True, False, False, True, False, False, True, False]\n"
          ],
          "name": "stdout"
        }
      ]
    },
    {
      "cell_type": "markdown",
      "metadata": {
        "id": "E2_yBUqsmEv9",
        "colab_type": "text"
      },
      "source": [
        "map(function name,iterable(like list,tuple))\n",
        "the function will be applied to every ele of the list\n"
      ]
    },
    {
      "cell_type": "code",
      "metadata": {
        "id": "RMjYvDaJmImq",
        "colab_type": "code",
        "colab": {
          "base_uri": "https://localhost:8080/",
          "height": 35
        },
        "outputId": "f0f1937f-6ec1-4f86-b5d1-4515f15a7db3"
      },
      "source": [
        "temperatures = [36.5, 37, 37.5, 38, 39]\n",
        "F = map(lambda T: round(((float(9)/5)*T + 32),2), temperatures)\n",
        "print(list(F))"
      ],
      "execution_count": null,
      "outputs": [
        {
          "output_type": "stream",
          "text": [
            "[97.7, 98.6, 99.5, 100.4, 102.2]\n"
          ],
          "name": "stdout"
        }
      ]
    },
    {
      "cell_type": "code",
      "metadata": {
        "id": "d8SSEqaonJOj",
        "colab_type": "code",
        "colab": {
          "base_uri": "https://localhost:8080/",
          "height": 35
        },
        "outputId": "6617b98e-29c6-480e-b08e-27a3c60185f9"
      },
      "source": [
        "#find the square of every list element using map and lambda\n",
        "nums = [2, 4, 6, 8, 10]\n",
        "X=map((lambda i:i**2),nums)\n",
        "print(list(X))"
      ],
      "execution_count": null,
      "outputs": [
        {
          "output_type": "stream",
          "text": [
            "[4, 16, 36, 64, 100]\n"
          ],
          "name": "stdout"
        }
      ]
    },
    {
      "cell_type": "code",
      "metadata": {
        "id": "Zek2_ojZoMxk",
        "colab_type": "code",
        "colab": {
          "base_uri": "https://localhost:8080/",
          "height": 35
        },
        "outputId": "bb318d63-d6ac-45b5-c034-0a1bd7b30e18"
      },
      "source": [
        "#filter method\n",
        "lst = [2,3,5,6,8,7,9,10]\n",
        "result = filter(lambda i: i%2==0, lst)\n",
        "print(list(result))"
      ],
      "execution_count": null,
      "outputs": [
        {
          "output_type": "stream",
          "text": [
            "[2, 6, 8, 10]\n"
          ],
          "name": "stdout"
        }
      ]
    },
    {
      "cell_type": "code",
      "metadata": {
        "id": "97mSuCcvogNr",
        "colab_type": "code",
        "colab": {
          "base_uri": "https://localhost:8080/",
          "height": 35
        },
        "outputId": "613ba6e1-dfe5-4a40-8929-5b11c7bfc61d"
      },
      "source": [
        "#find the length of the element if the element starts with 'A' else display the first letter in caps\n",
        "words=['Apple','Banana','Ant','Aeroplane','anger']\n",
        "res=map(lambda x:len(x) if x.startswith('A') else x[0].upper(),words)\n",
        "print(list(res))"
      ],
      "execution_count": null,
      "outputs": [
        {
          "output_type": "stream",
          "text": [
            "[5, 'B', 3, 9, 'A']\n"
          ],
          "name": "stdout"
        }
      ]
    },
    {
      "cell_type": "code",
      "metadata": {
        "id": "P36mXrL0phJx",
        "colab_type": "code",
        "colab": {
          "base_uri": "https://localhost:8080/",
          "height": 35
        },
        "outputId": "ce822063-f0d6-4d4c-849e-ef6a240fdf25"
      },
      "source": [
        "R=filter(lambda i:len(i)>4,words)\n",
        "print(list(R))"
      ],
      "execution_count": null,
      "outputs": [
        {
          "output_type": "stream",
          "text": [
            "['Apple', 'Banana', 'Aeroplane', 'anger']\n"
          ],
          "name": "stdout"
        }
      ]
    },
    {
      "cell_type": "code",
      "metadata": {
        "id": "zn7zvGdPqKNR",
        "colab_type": "code",
        "colab": {
          "base_uri": "https://localhost:8080/",
          "height": 357
        },
        "outputId": "c2e03bb6-7494-46d1-a48b-5b4d48807417"
      },
      "source": [
        "#For all 3 digit number divide the numebr by 2\n",
        "#res=map(lambda x:len(x) if x.startswith('A') else x[0].upper(),words)\n",
        "#print(list(res))\n",
        "num=[12,554,2,456,23,123]\n",
        "ThreeDigitNum = list(filter(lambda x: len(str(x))==3,num))\n",
        "print(ThreeDigitNum)\n",
        "list(map(lambda x: round(x/2,2),ThreeDigitNum))\n"
      ],
      "execution_count": null,
      "outputs": [
        {
          "output_type": "error",
          "ename": "TypeError",
          "evalue": "ignored",
          "traceback": [
            "\u001b[0;31m---------------------------------------------------------------------------\u001b[0m",
            "\u001b[0;31mTypeError\u001b[0m                                 Traceback (most recent call last)",
            "\u001b[0;32m<ipython-input-214-178a97e6a6e9>\u001b[0m in \u001b[0;36m<module>\u001b[0;34m()\u001b[0m\n\u001b[1;32m      3\u001b[0m \u001b[0;31m#print(list(res))\u001b[0m\u001b[0;34m\u001b[0m\u001b[0;34m\u001b[0m\u001b[0;34m\u001b[0m\u001b[0m\n\u001b[1;32m      4\u001b[0m \u001b[0mnum\u001b[0m\u001b[0;34m=\u001b[0m\u001b[0;34m[\u001b[0m\u001b[0;36m12\u001b[0m\u001b[0;34m,\u001b[0m\u001b[0;36m554\u001b[0m\u001b[0;34m,\u001b[0m\u001b[0;36m2\u001b[0m\u001b[0;34m,\u001b[0m\u001b[0;36m456\u001b[0m\u001b[0;34m,\u001b[0m\u001b[0;36m23\u001b[0m\u001b[0;34m,\u001b[0m\u001b[0;36m123\u001b[0m\u001b[0;34m]\u001b[0m\u001b[0;34m\u001b[0m\u001b[0;34m\u001b[0m\u001b[0m\n\u001b[0;32m----> 5\u001b[0;31m \u001b[0mThreeDigitNum\u001b[0m \u001b[0;34m=\u001b[0m \u001b[0mlist\u001b[0m\u001b[0;34m(\u001b[0m\u001b[0mfilter\u001b[0m\u001b[0;34m(\u001b[0m\u001b[0;32mlambda\u001b[0m \u001b[0mx\u001b[0m\u001b[0;34m:\u001b[0m \u001b[0mlen\u001b[0m\u001b[0;34m(\u001b[0m\u001b[0mstr\u001b[0m\u001b[0;34m(\u001b[0m\u001b[0mx\u001b[0m\u001b[0;34m)\u001b[0m\u001b[0;34m)\u001b[0m\u001b[0;34m==\u001b[0m\u001b[0;36m3\u001b[0m\u001b[0;34m,\u001b[0m\u001b[0mnum\u001b[0m\u001b[0;34m)\u001b[0m\u001b[0;34m)\u001b[0m\u001b[0;34m\u001b[0m\u001b[0;34m\u001b[0m\u001b[0m\n\u001b[0m\u001b[1;32m      6\u001b[0m \u001b[0mprint\u001b[0m\u001b[0;34m(\u001b[0m\u001b[0mThreeDigitNum\u001b[0m\u001b[0;34m)\u001b[0m\u001b[0;34m\u001b[0m\u001b[0;34m\u001b[0m\u001b[0m\n\u001b[1;32m      7\u001b[0m \u001b[0mlist\u001b[0m\u001b[0;34m(\u001b[0m\u001b[0mmap\u001b[0m\u001b[0;34m(\u001b[0m\u001b[0;32mlambda\u001b[0m \u001b[0mx\u001b[0m\u001b[0;34m:\u001b[0m \u001b[0mround\u001b[0m\u001b[0;34m(\u001b[0m\u001b[0mx\u001b[0m\u001b[0;34m/\u001b[0m\u001b[0;36m2\u001b[0m\u001b[0;34m,\u001b[0m\u001b[0;36m2\u001b[0m\u001b[0;34m)\u001b[0m\u001b[0;34m,\u001b[0m\u001b[0mThreeDigitNum\u001b[0m\u001b[0;34m)\u001b[0m\u001b[0;34m)\u001b[0m\u001b[0;34m\u001b[0m\u001b[0;34m\u001b[0m\u001b[0m\n",
            "\u001b[0;32m<ipython-input-214-178a97e6a6e9>\u001b[0m in \u001b[0;36m<lambda>\u001b[0;34m(x)\u001b[0m\n\u001b[1;32m      3\u001b[0m \u001b[0;31m#print(list(res))\u001b[0m\u001b[0;34m\u001b[0m\u001b[0;34m\u001b[0m\u001b[0;34m\u001b[0m\u001b[0m\n\u001b[1;32m      4\u001b[0m \u001b[0mnum\u001b[0m\u001b[0;34m=\u001b[0m\u001b[0;34m[\u001b[0m\u001b[0;36m12\u001b[0m\u001b[0;34m,\u001b[0m\u001b[0;36m554\u001b[0m\u001b[0;34m,\u001b[0m\u001b[0;36m2\u001b[0m\u001b[0;34m,\u001b[0m\u001b[0;36m456\u001b[0m\u001b[0;34m,\u001b[0m\u001b[0;36m23\u001b[0m\u001b[0;34m,\u001b[0m\u001b[0;36m123\u001b[0m\u001b[0;34m]\u001b[0m\u001b[0;34m\u001b[0m\u001b[0;34m\u001b[0m\u001b[0m\n\u001b[0;32m----> 5\u001b[0;31m \u001b[0mThreeDigitNum\u001b[0m \u001b[0;34m=\u001b[0m \u001b[0mlist\u001b[0m\u001b[0;34m(\u001b[0m\u001b[0mfilter\u001b[0m\u001b[0;34m(\u001b[0m\u001b[0;32mlambda\u001b[0m \u001b[0mx\u001b[0m\u001b[0;34m:\u001b[0m \u001b[0mlen\u001b[0m\u001b[0;34m(\u001b[0m\u001b[0mstr\u001b[0m\u001b[0;34m(\u001b[0m\u001b[0mx\u001b[0m\u001b[0;34m)\u001b[0m\u001b[0;34m)\u001b[0m\u001b[0;34m==\u001b[0m\u001b[0;36m3\u001b[0m\u001b[0;34m,\u001b[0m\u001b[0mnum\u001b[0m\u001b[0;34m)\u001b[0m\u001b[0;34m)\u001b[0m\u001b[0;34m\u001b[0m\u001b[0;34m\u001b[0m\u001b[0m\n\u001b[0m\u001b[1;32m      6\u001b[0m \u001b[0mprint\u001b[0m\u001b[0;34m(\u001b[0m\u001b[0mThreeDigitNum\u001b[0m\u001b[0;34m)\u001b[0m\u001b[0;34m\u001b[0m\u001b[0;34m\u001b[0m\u001b[0m\n\u001b[1;32m      7\u001b[0m \u001b[0mlist\u001b[0m\u001b[0;34m(\u001b[0m\u001b[0mmap\u001b[0m\u001b[0;34m(\u001b[0m\u001b[0;32mlambda\u001b[0m \u001b[0mx\u001b[0m\u001b[0;34m:\u001b[0m \u001b[0mround\u001b[0m\u001b[0;34m(\u001b[0m\u001b[0mx\u001b[0m\u001b[0;34m/\u001b[0m\u001b[0;36m2\u001b[0m\u001b[0;34m,\u001b[0m\u001b[0;36m2\u001b[0m\u001b[0;34m)\u001b[0m\u001b[0;34m,\u001b[0m\u001b[0mThreeDigitNum\u001b[0m\u001b[0;34m)\u001b[0m\u001b[0;34m)\u001b[0m\u001b[0;34m\u001b[0m\u001b[0;34m\u001b[0m\u001b[0m\n",
            "\u001b[0;31mTypeError\u001b[0m: 'str' object is not callable"
          ]
        }
      ]
    },
    {
      "cell_type": "code",
      "metadata": {
        "id": "dvt48ArIsC8X",
        "colab_type": "code",
        "colab": {
          "base_uri": "https://localhost:8080/",
          "height": 35
        },
        "outputId": "665482d7-cc06-4120-8a8b-3db6739000bd"
      },
      "source": [
        "#functools\n",
        "#reduce: it reduces list into single element\n",
        "#like for finding sum,avg..\n",
        "from functools import reduce\n",
        "lst = [10,20,30,40,50]\n",
        "reduce(lambda x, y: x+y, lst)\n"
      ],
      "execution_count": null,
      "outputs": [
        {
          "output_type": "execute_result",
          "data": {
            "text/plain": [
              "150"
            ]
          },
          "metadata": {
            "tags": []
          },
          "execution_count": 216
        }
      ]
    },
    {
      "cell_type": "code",
      "metadata": {
        "id": "Ma0di338sm87",
        "colab_type": "code",
        "colab": {
          "base_uri": "https://localhost:8080/",
          "height": 35
        },
        "outputId": "23109bd1-ed5d-4a14-c06d-30492fa0abc9"
      },
      "source": [
        "reduce(lambda a,b: a if (a < b) else b, [47,11,42,42,13])"
      ],
      "execution_count": null,
      "outputs": [
        {
          "output_type": "execute_result",
          "data": {
            "text/plain": [
              "11"
            ]
          },
          "metadata": {
            "tags": []
          },
          "execution_count": 218
        }
      ]
    },
    {
      "cell_type": "code",
      "metadata": {
        "id": "CQGoUczzssY1",
        "colab_type": "code",
        "colab": {
          "base_uri": "https://localhost:8080/",
          "height": 35
        },
        "outputId": "7e6a4a15-b57b-447e-a1b3-dac67f8ede86"
      },
      "source": [
        "R=reduce(lambda i,j:i*j,range(1,7))\n",
        "print(R)"
      ],
      "execution_count": null,
      "outputs": [
        {
          "output_type": "stream",
          "text": [
            "720\n"
          ],
          "name": "stdout"
        }
      ]
    },
    {
      "cell_type": "code",
      "metadata": {
        "id": "BOsMVXHltfTQ",
        "colab_type": "code",
        "colab": {
          "base_uri": "https://localhost:8080/",
          "height": 69
        },
        "outputId": "611e7b1a-08af-43c2-f80d-bab26039fac8"
      },
      "source": [
        "a = [1,2,3,4]\n",
        "b = [17,12,11,10]\n",
        "c = [-1,-4,5,9]\n",
        "print(list(map(lambda x,y: x+y,a,b)))\n",
        "print(list(map(lambda x,y,z:x+y+z, a,b,c)))\n",
        "print(list(map(lambda x,y,z:x+y-z, a,b,c)))"
      ],
      "execution_count": null,
      "outputs": [
        {
          "output_type": "stream",
          "text": [
            "[18, 14, 14, 14]\n",
            "[17, 10, 19, 23]\n",
            "[19, 18, 9, 5]\n"
          ],
          "name": "stdout"
        }
      ]
    },
    {
      "cell_type": "code",
      "metadata": {
        "id": "bT0nNNnMx0Zp",
        "colab_type": "code",
        "colab": {
          "base_uri": "https://localhost:8080/",
          "height": 35
        },
        "outputId": "7bbe61c0-0771-47ed-df4f-31ffd09a7fbe"
      },
      "source": [
        "mass=[45,55,65,76]\n",
        "ht=[1.65,1.70,1.55,1.80]\n",
        "print(list(map(lambda x,y:x/(y**2),mass,ht)))"
      ],
      "execution_count": null,
      "outputs": [
        {
          "output_type": "stream",
          "text": [
            "[16.528925619834713, 19.031141868512112, 27.055150884495315, 23.456790123456788]\n"
          ],
          "name": "stdout"
        }
      ]
    },
    {
      "cell_type": "code",
      "metadata": {
        "id": "RzhdF4o6yqPg",
        "colab_type": "code",
        "colab": {
          "base_uri": "https://localhost:8080/",
          "height": 104
        },
        "outputId": "bb5b17aa-642a-4c75-edcb-fd8945f20c91"
      },
      "source": [
        "#dictionary\n",
        "x = {\"a\": 1, \n",
        "     \"b\": 4.45, \n",
        "     2  : \" A string\"}\n",
        "print(type(x))\n",
        "print(x[2])\n",
        "print(x)\n",
        "print(x.values())\n",
        "print(x.items())\n"
      ],
      "execution_count": null,
      "outputs": [
        {
          "output_type": "stream",
          "text": [
            "<class 'dict'>\n",
            " A string\n",
            "{'a': 1, 'b': 4.45, 2: ' A string'}\n",
            "dict_values([1, 4.45, ' A string'])\n",
            "dict_items([('a', 1), ('b', 4.45), (2, ' A string')])\n"
          ],
          "name": "stdout"
        }
      ]
    },
    {
      "cell_type": "code",
      "metadata": {
        "id": "HLKEQKx5yPeA",
        "colab_type": "code",
        "colab": {}
      },
      "source": [
        "e=dict()\n",
        "e={} #empty dictionary"
      ],
      "execution_count": null,
      "outputs": []
    },
    {
      "cell_type": "code",
      "metadata": {
        "id": "QN2iDKKw1mqn",
        "colab_type": "code",
        "colab": {}
      },
      "source": [
        "#Write a Python script to generate and print a dictionary that contains a number (between 1 and n) in the form (x, x*x)"
      ],
      "execution_count": null,
      "outputs": []
    },
    {
      "cell_type": "code",
      "metadata": {
        "id": "nixZKyWO1v59",
        "colab_type": "code",
        "colab": {
          "base_uri": "https://localhost:8080/",
          "height": 52
        },
        "outputId": "772bd094-98a4-4b87-8c10-ddb64c15aafb"
      },
      "source": [
        "n=int(input(\"enter n:\"))\n",
        "d={}\n",
        "for x in range(1,n+1):\n",
        "  d[x]=x*x\n",
        "print(d)"
      ],
      "execution_count": null,
      "outputs": [
        {
          "output_type": "stream",
          "text": [
            "enter n:5\n",
            "{1: 1, 2: 4, 3: 9, 4: 16, 5: 25}\n"
          ],
          "name": "stdout"
        }
      ]
    },
    {
      "cell_type": "code",
      "metadata": {
        "id": "OJNrdOWP2nH9",
        "colab_type": "code",
        "colab": {
          "base_uri": "https://localhost:8080/",
          "height": 35
        },
        "outputId": "fe3215d7-0137-4077-caec-953b308c757f"
      },
      "source": [
        "my_dict = {'data1':100,'data2':-54,'data3':247}\n",
        "R=reduce(lambda i,j:i+j,list(my_dict.values()))\n",
        "print(R)"
      ],
      "execution_count": null,
      "outputs": [
        {
          "output_type": "stream",
          "text": [
            "293\n"
          ],
          "name": "stdout"
        }
      ]
    },
    {
      "cell_type": "code",
      "metadata": {
        "id": "ZEzQJjAW25_Q",
        "colab_type": "code",
        "colab": {
          "base_uri": "https://localhost:8080/",
          "height": 52
        },
        "outputId": "3ff1b87b-c5a2-4170-dce8-38437abfba70"
      },
      "source": [
        "counts = { 'chuck' : 1 , 'annie' : 42, 'jan': 100}\n",
        "for i in counts:\n",
        "  if counts[i]>10:\n",
        "    print(i,counts[i])"
      ],
      "execution_count": null,
      "outputs": [
        {
          "output_type": "stream",
          "text": [
            "annie 42\n",
            "jan 100\n"
          ],
          "name": "stdout"
        }
      ]
    },
    {
      "cell_type": "code",
      "metadata": {
        "id": "RgXLhlAB3iLP",
        "colab_type": "code",
        "colab": {}
      },
      "source": [
        "get method\n",
        "if key is present it will return its value\n",
        "else will return the default value"
      ],
      "execution_count": null,
      "outputs": []
    },
    {
      "cell_type": "code",
      "metadata": {
        "id": "I_ZEmg2q410y",
        "colab_type": "code",
        "colab": {
          "base_uri": "https://localhost:8080/",
          "height": 52
        },
        "outputId": "2d18f048-d1ad-4dd1-b35b-d47e36ba55cf"
      },
      "source": [
        "print(counts.get('jan',0))\n",
        "print(counts.get('ann',10))"
      ],
      "execution_count": null,
      "outputs": [
        {
          "output_type": "stream",
          "text": [
            "100\n",
            "10\n"
          ],
          "name": "stdout"
        }
      ]
    },
    {
      "cell_type": "code",
      "metadata": {
        "id": "7-e7gs_B5D06",
        "colab_type": "code",
        "colab": {
          "base_uri": "https://localhost:8080/",
          "height": 104
        },
        "outputId": "f29bcee2-13f2-4fcb-fd9d-24d2450327a1"
      },
      "source": [
        "players=[\"Sachin\",\"Ganguly\",\"Dravid\",\"Kumble\",\"Sehwag\"]\n",
        "score={\"Sachin\":98,\"Ganguly\":78,\"Dravid\":102}\n",
        "for i in players:\n",
        "   print(score.get(i,'NA'))\n",
        " "
      ],
      "execution_count": null,
      "outputs": [
        {
          "output_type": "stream",
          "text": [
            "98\n",
            "78\n",
            "102\n",
            "NA\n",
            "NA\n"
          ],
          "name": "stdout"
        }
      ]
    },
    {
      "cell_type": "code",
      "metadata": {
        "id": "UFd1nD7Q5sT-",
        "colab_type": "code",
        "colab": {
          "base_uri": "https://localhost:8080/",
          "height": 35
        },
        "outputId": "712bcd4d-d534-4708-d210-71328df07f00"
      },
      "source": [
        "word = 'brontosaurus'\n",
        "d = dict()\n",
        "for c in word:\n",
        "    if c not in d:\n",
        "        d[c] = 1\n",
        "    else:\n",
        "        d[c] = d[c] + 1\n",
        "print(d)"
      ],
      "execution_count": null,
      "outputs": [
        {
          "output_type": "stream",
          "text": [
            "{'b': 1, 'r': 2, 'o': 2, 'n': 1, 't': 1, 's': 2, 'a': 1, 'u': 2}\n"
          ],
          "name": "stdout"
        }
      ]
    },
    {
      "cell_type": "code",
      "metadata": {
        "id": "Ng8_LWfZ6ill",
        "colab_type": "code",
        "colab": {
          "base_uri": "https://localhost:8080/",
          "height": 35
        },
        "outputId": "7cfae8bc-b4e8-4abe-c776-3ed4c9690bd1"
      },
      "source": [
        "d1={}\n",
        "for c in word:\n",
        "  d1[c]=d1.get(c,0)+1\n",
        "print(d1)"
      ],
      "execution_count": null,
      "outputs": [
        {
          "output_type": "stream",
          "text": [
            "{'b': 1, 'r': 2, 'o': 2, 'n': 1, 't': 1, 's': 2, 'a': 1, 'u': 2}\n"
          ],
          "name": "stdout"
        }
      ]
    },
    {
      "cell_type": "code",
      "metadata": {
        "id": "Fo26n2RW65An",
        "colab_type": "code",
        "colab": {
          "base_uri": "https://localhost:8080/",
          "height": 35
        },
        "outputId": "eee796c0-2511-4fd6-8a86-96551bf470cb"
      },
      "source": [
        "d1={}\n",
        "for c in word:\n",
        "  if(c in 'aeiou'):\n",
        "   d1[c]=d1.get(c,0)+1\n",
        "print(d1)"
      ],
      "execution_count": null,
      "outputs": [
        {
          "output_type": "stream",
          "text": [
            "{'o': 2, 'a': 1, 'u': 2}\n"
          ],
          "name": "stdout"
        }
      ]
    },
    {
      "cell_type": "code",
      "metadata": {
        "id": "rSrNH2v48ZP3",
        "colab_type": "code",
        "colab": {
          "base_uri": "https://localhost:8080/",
          "height": 69
        },
        "outputId": "05dd3dc6-67f0-484b-e861-4459ede4ecff"
      },
      "source": [
        "#program to replace vowel with numbers\n",
        "S = \"rennaissance\"\n",
        "list1 = []\n",
        "l=list(S)\n",
        "print(l)\n",
        "v = {'a':'1','e':'2','i':'3','o':'4','u':'5'}\n",
        "for i in range(0,len(l)):\n",
        "  if(l[i] in 'aeiou'):\n",
        "    l[i]=v.get(l[i],l[i])\n",
        "print(l)\n",
        "l1=\"\".join(l)\n",
        "print(l1)\n",
        "    \n"
      ],
      "execution_count": null,
      "outputs": [
        {
          "output_type": "stream",
          "text": [
            "['r', 'e', 'n', 'n', 'a', 'i', 's', 's', 'a', 'n', 'c', 'e']\n",
            "['r', '2', 'n', 'n', '1', '3', 's', 's', '1', 'n', 'c', '2']\n",
            "r2nn13ss1nc2\n"
          ],
          "name": "stdout"
        }
      ]
    },
    {
      "cell_type": "code",
      "metadata": {
        "id": "tBOLM4m29XA2",
        "colab_type": "code",
        "colab": {}
      },
      "source": [
        "Group of 4 families from Radiant Shine apartment plan for a picnic event during the summer vacation. During this event they plan to organise games for their family members.The game is as follows \n",
        "First person  has to say  a word  S,the other person has to give the modified word that  has only the distinct character in S. The characters should be presented in the descending order of its occurrence. If the occurrence count of two characters is same , then the order of these two characters should be the same as it is in S\n",
        "Input Format :\n",
        "Input is a string that denotes S \n",
        "Note : The string is case sensitive\n",
        "Output Format :\n",
        "The output is a string that denotes the modified string ."
      ],
      "execution_count": null,
      "outputs": []
    },
    {
      "cell_type": "code",
      "metadata": {
        "id": "3AfRlEEilgw_",
        "colab_type": "code",
        "colab": {
          "base_uri": "https://localhost:8080/",
          "height": 52
        },
        "outputId": "89464de3-10ce-4789-aeaf-f9c439f856f1"
      },
      "source": [
        "s=input(\"Enter the string\")\n",
        "a_count=dict()\n",
        "for i in s:\n",
        "    a_count[i]= a_count.get(i,0) + 1\n",
        "a_rev=list(sorted(a_count.items(),key=lambda kv:kv[1],reverse=True))\n",
        "output_str=''\n",
        "for i in range(len(a_rev)):\n",
        "    output_str=output_str+a_rev[i][0]\n",
        "print(output_str)"
      ],
      "execution_count": null,
      "outputs": [
        {
          "output_type": "stream",
          "text": [
            "Enter the stringsanjana\n",
            "ansj\n"
          ],
          "name": "stdout"
        }
      ]
    },
    {
      "cell_type": "code",
      "metadata": {
        "id": "zIPk_YC9l_ge",
        "colab_type": "code",
        "colab": {}
      },
      "source": [
        "#tuple\n",
        "#tuples are immutable\n",
        "#list are mutable\n",
        "#tuples are faster than list"
      ],
      "execution_count": null,
      "outputs": []
    },
    {
      "cell_type": "code",
      "metadata": {
        "id": "JvofAIFioN6X",
        "colab_type": "code",
        "colab": {
          "base_uri": "https://localhost:8080/",
          "height": 35
        },
        "outputId": "ee59375e-ab3f-4e5b-ba76-86a28823ce98"
      },
      "source": [
        "t=('a',1,34,'fg',3)\n",
        "print(t[:2])"
      ],
      "execution_count": null,
      "outputs": [
        {
          "output_type": "stream",
          "text": [
            "('a', 1)\n"
          ],
          "name": "stdout"
        }
      ]
    },
    {
      "cell_type": "code",
      "metadata": {
        "id": "7IY_Ov6Co31e",
        "colab_type": "code",
        "colab": {
          "base_uri": "https://localhost:8080/",
          "height": 52
        },
        "outputId": "67726c94-5d39-4008-d534-b7777f726df2"
      },
      "source": [
        "t = ('a', 'b', 1, 2, 'e',1,2)\n",
        "print(t)\n",
        "print(type(t))"
      ],
      "execution_count": null,
      "outputs": [
        {
          "output_type": "stream",
          "text": [
            "('a', 'b', 1, 2, 'e', 1, 2)\n",
            "<class 'tuple'>\n"
          ],
          "name": "stdout"
        }
      ]
    },
    {
      "cell_type": "code",
      "metadata": {
        "id": "wWc2jFw1o-mv",
        "colab_type": "code",
        "colab": {}
      },
      "source": [
        "#file handling\n",
        "#read write append create\n"
      ],
      "execution_count": null,
      "outputs": []
    },
    {
      "cell_type": "markdown",
      "metadata": {
        "id": "h4o4dwj0tTKf",
        "colab_type": "text"
      },
      "source": [
        "\"r\" - Read - Default value. Opens a file for reading, error if the file does not exist\n",
        "\"a\" - Append - Opens a file for appending, creates the file if it does not exist\n",
        "\"w\" - Write - Opens a file for writing, creates the file if it does not exist\n",
        "\"x\" - Create - Creates the specified file, returns an error if the file exists"
      ]
    },
    {
      "cell_type": "code",
      "metadata": {
        "id": "CkVHr3ODtURL",
        "colab_type": "code",
        "colab": {}
      },
      "source": [
        "#file creation\n",
        "with open(\"SampleFile.txt\",\"w\") as f_hand:\n",
        "    f_hand.write(\"This is the first line\\n\")\n",
        "f_hand.close()"
      ],
      "execution_count": null,
      "outputs": []
    },
    {
      "cell_type": "code",
      "metadata": {
        "id": "V9QsdKPNtZMJ",
        "colab_type": "code",
        "colab": {
          "base_uri": "https://localhost:8080/",
          "height": 52
        },
        "outputId": "97d9ffc3-3f25-4db0-a2c5-27eb11410de4"
      },
      "source": [
        "fhand=open('SampleFile.txt','r')\n",
        "print(fhand.read())\n",
        "fhand.close()"
      ],
      "execution_count": null,
      "outputs": [
        {
          "output_type": "stream",
          "text": [
            "This is the first line\n",
            "\n"
          ],
          "name": "stdout"
        }
      ]
    },
    {
      "cell_type": "code",
      "metadata": {
        "id": "CIZSmoSFtqbK",
        "colab_type": "code",
        "colab": {}
      },
      "source": [
        "#1.What will happen if you write another line?\n",
        "with open(\"SampleFile.txt\",\"a\") as f_hand:\n",
        "    f_hand.write(\"python is a \\n\")\n",
        "f_hand.close()"
      ],
      "execution_count": null,
      "outputs": []
    },
    {
      "cell_type": "code",
      "metadata": {
        "id": "B2RfQ-Kot2jJ",
        "colab_type": "code",
        "colab": {
          "base_uri": "https://localhost:8080/",
          "height": 69
        },
        "outputId": "69a6d21a-e772-4989-de3a-d611c6031bad"
      },
      "source": [
        "fhand=open('SampleFile.txt','r')\n",
        "print(fhand.read(20))\n",
        "fhand.close()"
      ],
      "execution_count": null,
      "outputs": [
        {
          "output_type": "stream",
          "text": [
            "Tne\n",
            "Tne\n",
            "python is a \n"
          ],
          "name": "stdout"
        }
      ]
    },
    {
      "cell_type": "code",
      "metadata": {
        "id": "8Cj2cLm2t4cE",
        "colab_type": "code",
        "colab": {
          "base_uri": "https://localhost:8080/",
          "height": 52
        },
        "outputId": "1ef54150-890e-45b8-d012-df7a8f01dc02"
      },
      "source": [
        "file=open(\"SampleFile.txt\",\"r\")\n",
        "for line in file:\n",
        "  if line.find(\"python\")>=0:\n",
        "    print(line)\n"
      ],
      "execution_count": null,
      "outputs": [
        {
          "output_type": "stream",
          "text": [
            "python is a \n",
            "\n"
          ],
          "name": "stdout"
        }
      ]
    },
    {
      "cell_type": "code",
      "metadata": {
        "id": "upen-MesvJn0",
        "colab_type": "code",
        "colab": {
          "base_uri": "https://localhost:8080/",
          "height": 52
        },
        "outputId": "02263a99-5802-4398-eaf9-5bedec3d5464"
      },
      "source": [
        "file=open(\"SampleFile.txt\",\"r\")\n",
        "for line in file:\n",
        "  if line.startswith(\"python\"):\n",
        "    print(line)"
      ],
      "execution_count": null,
      "outputs": [
        {
          "output_type": "stream",
          "text": [
            "python is a \n",
            "\n"
          ],
          "name": "stdout"
        }
      ]
    },
    {
      "cell_type": "code",
      "metadata": {
        "id": "iolCg6Guv8Uy",
        "colab_type": "code",
        "colab": {
          "base_uri": "https://localhost:8080/",
          "height": 87
        },
        "outputId": "bad9faf3-c374-441e-a7d5-fb5c88eb4e85"
      },
      "source": [
        "#regular experssion\n",
        "import re\n",
        "#search findall\n",
        "d={}\n",
        "file= open(\"SampleFile.txt\")\n",
        "for line in file:\n",
        "  line=line.rstrip()\n",
        "  print(re.findall('[aeiou]',line))\n",
        "  for i in re.findall('[aeiouAEIOU]',line):\n",
        "    d[i]=d.get(i,0)+1\n",
        "print(d)\n",
        "    "
      ],
      "execution_count": null,
      "outputs": [
        {
          "output_type": "stream",
          "text": [
            "['e']\n",
            "['e']\n",
            "['o', 'i', 'a']\n",
            "{'e': 2, 'o': 1, 'i': 1, 'a': 1}\n"
          ],
          "name": "stdout"
        }
      ]
    },
    {
      "cell_type": "code",
      "metadata": {
        "id": "MtDAVjKhxDl6",
        "colab_type": "code",
        "colab": {
          "base_uri": "https://localhost:8080/",
          "height": 35
        },
        "outputId": "f2179375-6df1-4274-f218-0816cd31c4e3"
      },
      "source": [
        "txt = \"Catsan dDogsareanimals\"\n",
        "x = re.search(\"^Cats.*ls$\", txt)\n",
        "print(x)"
      ],
      "execution_count": null,
      "outputs": [
        {
          "output_type": "stream",
          "text": [
            "<_sre.SRE_Match object; span=(0, 22), match='Catsan dDogsareanimals'>\n"
          ],
          "name": "stdout"
        }
      ]
    },
    {
      "cell_type": "code",
      "metadata": {
        "id": "6XqeIdOO0x6L",
        "colab_type": "code",
        "colab": {}
      },
      "source": [
        "^        Matches the beginning of a line\n",
        "$        Matches the end of the line\n",
        ".        Matches any character\n",
        "\\s       Matches whitespace\n",
        "\\S       Matches any non-whitespace character\n",
        "*        Causes the resulting RE to match 0 or more repetitions of the preceding RE, as many repetitions as are possible. \n",
        "         e.g: ab* will match ‘a’, ‘ab’, or ‘a’ followed by any number of ‘b’s\n",
        "*?       Repeats a character zero or more times (non-greedy)\n",
        "+        Causes the resulting RE to match 1 or more repetitions of the preceding RE. \n",
        "         e.g:ab+ will match ‘a’ followed by any non-zero number of ‘b’s; it will not match just ‘a’.\n",
        "?        Causes the resulting RE to match 0 or 1 repetitions of the preceding RE. \n",
        "         e.g:ab? will match either ‘a’ or ‘ab’.\n",
        "+?       Repeats a character one or more times (non-greedy)\n",
        "[aeiou]  Matches a single character in the listed set\n",
        "[^XYZ]   Matches a single character not in the listed set\n",
        "[a-z0-9] The set of characters can include a range"
      ],
      "execution_count": null,
      "outputs": []
    },
    {
      "cell_type": "code",
      "metadata": {
        "id": "AX3DybeD1bXI",
        "colab_type": "code",
        "colab": {
          "base_uri": "https://localhost:8080/",
          "height": 35
        },
        "outputId": "a13788cc-a440-4869-9e36-b6f62a7d6c21"
      },
      "source": [
        "txt = \"Catsan dDogsareanimals\"\n",
        "x = re.search(\"^Cats.*\\s+.*ls$\", txt)\n",
        "print(x)"
      ],
      "execution_count": null,
      "outputs": [
        {
          "output_type": "stream",
          "text": [
            "<_sre.SRE_Match object; span=(0, 22), match='Catsan dDogsareanimals'>\n"
          ],
          "name": "stdout"
        }
      ]
    },
    {
      "cell_type": "code",
      "metadata": {
        "id": "h696yioW1jZI",
        "colab_type": "code",
        "colab": {
          "base_uri": "https://localhost:8080/",
          "height": 35
        },
        "outputId": "c2df7fa0-eba9-4993-80b4-4b335e5e9285"
      },
      "source": [
        "#split\n",
        "txt=\"catsn d Do gs are animals\"\n",
        "x=re.split(\"\\s\", txt,3)\n",
        "print(x)"
      ],
      "execution_count": null,
      "outputs": [
        {
          "output_type": "stream",
          "text": [
            "['catsn', 'd', 'Do', 'gs are animals']\n"
          ],
          "name": "stdout"
        }
      ]
    },
    {
      "cell_type": "code",
      "metadata": {
        "id": "t0-g2C-V2zjB",
        "colab_type": "code",
        "colab": {
          "base_uri": "https://localhost:8080/",
          "height": 87
        },
        "outputId": "b5b5fb51-965e-4029-96b3-8246f5e983cb"
      },
      "source": [
        "#greedy and non greedy\n",
        "s='<html><head><title>'\n",
        "print(re.match('<.*>',s).span())\n",
        "print(re.findall('<.*>',s))\n",
        "\n",
        "print(re.match('<.*?>',s).span())\n",
        "print(re.findall('<(.*?)>',s)) #()=only will extract inside ()"
      ],
      "execution_count": null,
      "outputs": [
        {
          "output_type": "stream",
          "text": [
            "(0, 19)\n",
            "['<html><head><title>']\n",
            "(0, 6)\n",
            "['html', 'head', 'title']\n"
          ],
          "name": "stdout"
        }
      ]
    },
    {
      "cell_type": "code",
      "metadata": {
        "id": "3JsJ3YZl36bP",
        "colab_type": "code",
        "colab": {
          "base_uri": "https://localhost:8080/",
          "height": 35
        },
        "outputId": "83832133-68f9-44d5-c93b-51c6327181de"
      },
      "source": [
        "import re\n",
        "s = 'raja ram mohan roy '\n",
        "print(re.findall(' ', s))"
      ],
      "execution_count": null,
      "outputs": [
        {
          "output_type": "stream",
          "text": [
            "[' ', ' ', ' ', ' ']\n"
          ],
          "name": "stdout"
        }
      ]
    },
    {
      "cell_type": "code",
      "metadata": {
        "id": "fxZOI2ra5NUt",
        "colab_type": "code",
        "colab": {
          "base_uri": "https://localhost:8080/",
          "height": 35
        },
        "outputId": "b3501a5e-28f7-4122-fe13-a0fc65fa2c5e"
      },
      "source": [
        "    print(re.findall('(.+?)\\s', s))"
      ],
      "execution_count": null,
      "outputs": [
        {
          "output_type": "stream",
          "text": [
            "['raja', 'ram', 'mohan', 'roy']\n"
          ],
          "name": "stdout"
        }
      ]
    },
    {
      "cell_type": "code",
      "metadata": {
        "id": "jLCd4s7X59MG",
        "colab_type": "code",
        "colab": {
          "base_uri": "https://localhost:8080/",
          "height": 35
        },
        "outputId": "d90c9132-cf82-40d9-c914-b6f3fe020deb"
      },
      "source": [
        "s='G-34GRADING system offers 3432 weightage to 342.32 units'\n",
        "re.findall('[0-9]',s) #all no."
      ],
      "execution_count": null,
      "outputs": [
        {
          "output_type": "execute_result",
          "data": {
            "text/plain": [
              "['3', '4', '3', '4', '3', '2', '3', '4', '2', '3', '2']"
            ]
          },
          "metadata": {
            "tags": []
          },
          "execution_count": 69
        }
      ]
    },
    {
      "cell_type": "code",
      "metadata": {
        "id": "4_JZlPnC-jDY",
        "colab_type": "code",
        "colab": {
          "base_uri": "https://localhost:8080/",
          "height": 35
        },
        "outputId": "b6ba8443-af51-4256-b950-12bc0f46cb80"
      },
      "source": [
        "print(re.findall(\"[0-9]+[.]*[0-9]+\", s)) #all no."
      ],
      "execution_count": null,
      "outputs": [
        {
          "output_type": "stream",
          "text": [
            "['34', '3432', '342.32']\n"
          ],
          "name": "stdout"
        }
      ]
    },
    {
      "cell_type": "code",
      "metadata": {
        "id": "8Z_gKdb--u3v",
        "colab_type": "code",
        "colab": {
          "base_uri": "https://localhost:8080/",
          "height": 35
        },
        "outputId": "b4ffd323-bb4e-4514-ac10-e8aafcafd4b0"
      },
      "source": [
        "# \\d indicats digits\n",
        "print(re.findall(\"\\d+[.]*[\\d]*\", line))"
      ],
      "execution_count": null,
      "outputs": [
        {
          "output_type": "stream",
          "text": [
            "[]\n"
          ],
          "name": "stdout"
        }
      ]
    },
    {
      "cell_type": "code",
      "metadata": {
        "id": "qaa6H9UT_jl3",
        "colab_type": "code",
        "colab": {
          "base_uri": "https://localhost:8080/",
          "height": 35
        },
        "outputId": "b69371fb-00f7-49bf-fa9d-e24a1607454d"
      },
      "source": [
        "print(re.findall('[^0-9.]+',line)) #everything other than decimal point"
      ],
      "execution_count": null,
      "outputs": [
        {
          "output_type": "stream",
          "text": [
            "['python is a']\n"
          ],
          "name": "stdout"
        }
      ]
    },
    {
      "cell_type": "code",
      "metadata": {
        "id": "dbNhWnE1Agds",
        "colab_type": "code",
        "colab": {
          "base_uri": "https://localhost:8080/",
          "height": 35
        },
        "outputId": "839181de-2b48-4b54-9b71-cdd409075649"
      },
      "source": [
        "fhand=open('CHAT.txt','r')\n",
        "print(fhand.read(30))\n",
        "fhand.close()"
      ],
      "execution_count": null,
      "outputs": [
        {
          "output_type": "stream",
          "text": [
            "September 11, 2020\t    1:49:30\n"
          ],
          "name": "stdout"
        }
      ]
    },
    {
      "cell_type": "code",
      "metadata": {
        "id": "9RoUgp5eB5n0",
        "colab_type": "code",
        "colab": {
          "base_uri": "https://localhost:8080/",
          "height": 55
        },
        "outputId": "95e6f9eb-948e-4f06-918b-8c51e12122c2"
      },
      "source": [
        "file=open(\"CHAT.txt\",\"r\")\n",
        "dict={}\n",
        "for line in file:\n",
        "    line=line.rstrip()\n",
        "    if(re.search('from',line)):\n",
        "        l1=line.split('from')\n",
        "        l2=l1[1].split('to')\n",
        "        dict[l2[0]]=dict.get(l2[0],0)+1\n",
        "print(dict)"
      ],
      "execution_count": null,
      "outputs": [
        {
          "output_type": "stream",
          "text": [
            "{' Priya Prabhu ': 3, ' Amogh Simha ': 1, ' Jigyasa  Handa ': 13, ' Rachana GVD ': 19, ' Anay Kha': 13, ' Shashwat Singh ': 12, ' Manoj R Astikar ': 6, ' Simran Sabharwal ': 28, ' Anurag Agrawal ': 11, ' Aishani ': 12, ' Archana ': 19, ' Arya Saumitra ': 1, ' Nishtha ': 6, ' Deepthi Bhat ': 15, ' Priyesh Saraswat ': 7, ' Adithya Narayan ': 5, ' Faraz Umar ': 2, ' El': 3, ' Nagashri H J ': 4, ' Sri Lakshmi J ': 2, ' Rishu Verma ': 1, ' Rohith Janardhan ': 1, ' Sanjitha M ': 2, ' srilekha ': 8, ' Ayesha ': 7, ' Richa Ranjan ': 1, ' Mona Teja ': 1}\n"
          ],
          "name": "stdout"
        }
      ]
    },
    {
      "cell_type": "code",
      "metadata": {
        "id": "Sir9R-iTDlns",
        "colab_type": "code",
        "colab": {
          "base_uri": "https://localhost:8080/",
          "height": 69
        },
        "outputId": "70d8dc3b-6825-4129-c5a1-027709f493ad"
      },
      "source": [
        "s='He said abc@yahoo.com used kar@gmail.com'\n",
        "print(re.findall('@(\\S*).com',s))\n",
        "print(re.findall('@([A-Za-z0-9]+).',s))\n",
        "print(y)\n",
        "#x = re.search(\"^Cats.*\\s+.*ls$\", txt)"
      ],
      "execution_count": null,
      "outputs": [
        {
          "output_type": "stream",
          "text": [
            "['yahoo', 'gmail']\n",
            "['yahoo', 'gmail']\n",
            "['yahoo.com', 'gmail.co']\n"
          ],
          "name": "stdout"
        }
      ]
    },
    {
      "cell_type": "markdown",
      "metadata": {
        "id": "9D1IcbzWHAPD",
        "colab_type": "text"
      },
      "source": [
        "NumPy\n",
        "was created in 2005 by Travis Oliphant.\n",
        "stands for Numerical Python.\n",
        "provide an array object that is up to 50x faster that traditional Python lists.\n",
        "stored at one continuous place in memory unlike lists\n",
        "written mostly in C and C++\n",
        "https://github.com/numpy/numpy"
      ]
    },
    {
      "cell_type": "code",
      "metadata": {
        "id": "NgVGSO5vHBR_",
        "colab_type": "code",
        "colab": {
          "base_uri": "https://localhost:8080/",
          "height": 35
        },
        "outputId": "76cb21a8-1e0c-40e1-daa3-4fe7cb2065ce"
      },
      "source": [
        "import numpy as np\n",
        "x=[1,3,6,9]\n",
        "print(x)\n"
      ],
      "execution_count": null,
      "outputs": [
        {
          "output_type": "stream",
          "text": [
            "[1, 3, 6, 9]\n"
          ],
          "name": "stdout"
        }
      ]
    },
    {
      "cell_type": "code",
      "metadata": {
        "id": "9YKVfmAmEll_",
        "colab_type": "code",
        "colab": {
          "base_uri": "https://localhost:8080/",
          "height": 35
        },
        "outputId": "d6538732-2495-419f-8b5e-2023230bc8e0"
      },
      "source": [
        "list(map(lambda i: i*10,x))"
      ],
      "execution_count": null,
      "outputs": [
        {
          "output_type": "execute_result",
          "data": {
            "text/plain": [
              "[10, 30, 60, 90]"
            ]
          },
          "metadata": {
            "tags": []
          },
          "execution_count": 96
        }
      ]
    },
    {
      "cell_type": "code",
      "metadata": {
        "id": "EVivcUCGHQpa",
        "colab_type": "code",
        "colab": {
          "base_uri": "https://localhost:8080/",
          "height": 35
        },
        "outputId": "8b5a5c77-b52e-4d72-d0d1-6e90aa417af6"
      },
      "source": [
        "nparry=np.array(x)\n",
        "print(nparry) #no comma"
      ],
      "execution_count": null,
      "outputs": [
        {
          "output_type": "stream",
          "text": [
            "[1 3 6 9]\n"
          ],
          "name": "stdout"
        }
      ]
    },
    {
      "cell_type": "code",
      "metadata": {
        "id": "0wIcr_ZBHV1O",
        "colab_type": "code",
        "colab": {
          "base_uri": "https://localhost:8080/",
          "height": 35
        },
        "outputId": "65506878-d4e4-4c13-f726-d39fa1a980d9"
      },
      "source": [
        "print(nparry/2)"
      ],
      "execution_count": null,
      "outputs": [
        {
          "output_type": "stream",
          "text": [
            "[0.5 1.5 3.  4.5]\n"
          ],
          "name": "stdout"
        }
      ]
    },
    {
      "cell_type": "code",
      "metadata": {
        "id": "BnyjoUhTHfti",
        "colab_type": "code",
        "colab": {
          "base_uri": "https://localhost:8080/",
          "height": 52
        },
        "outputId": "1f763c03-b4d5-42ac-e97a-d68006fd6f47"
      },
      "source": [
        "#filtering in numpy\n",
        "print((nparry % 3)==0)\n",
        "print(nparry[nparry %3 == 0])"
      ],
      "execution_count": null,
      "outputs": [
        {
          "output_type": "stream",
          "text": [
            "[False  True  True  True]\n",
            "[3 6 9]\n"
          ],
          "name": "stdout"
        }
      ]
    },
    {
      "cell_type": "code",
      "metadata": {
        "id": "f27jIbI0HttJ",
        "colab_type": "code",
        "colab": {
          "base_uri": "https://localhost:8080/",
          "height": 35
        },
        "outputId": "febe99d5-5042-4d78-b247-d4c3e4c044cc"
      },
      "source": [
        "print(nparry[nparry < 5])"
      ],
      "execution_count": null,
      "outputs": [
        {
          "output_type": "stream",
          "text": [
            "[1 3]\n"
          ],
          "name": "stdout"
        }
      ]
    },
    {
      "cell_type": "code",
      "metadata": {
        "id": "fRQvxvZIH-ka",
        "colab_type": "code",
        "colab": {
          "base_uri": "https://localhost:8080/",
          "height": 1000
        },
        "outputId": "900c8cbe-f1f6-46ad-d77d-702c1a00142f"
      },
      "source": [
        "dir(nparry)"
      ],
      "execution_count": null,
      "outputs": [
        {
          "output_type": "execute_result",
          "data": {
            "text/plain": [
              "['T',\n",
              " '__abs__',\n",
              " '__add__',\n",
              " '__and__',\n",
              " '__array__',\n",
              " '__array_finalize__',\n",
              " '__array_function__',\n",
              " '__array_interface__',\n",
              " '__array_prepare__',\n",
              " '__array_priority__',\n",
              " '__array_struct__',\n",
              " '__array_ufunc__',\n",
              " '__array_wrap__',\n",
              " '__bool__',\n",
              " '__class__',\n",
              " '__complex__',\n",
              " '__contains__',\n",
              " '__copy__',\n",
              " '__deepcopy__',\n",
              " '__delattr__',\n",
              " '__delitem__',\n",
              " '__dir__',\n",
              " '__divmod__',\n",
              " '__doc__',\n",
              " '__eq__',\n",
              " '__float__',\n",
              " '__floordiv__',\n",
              " '__format__',\n",
              " '__ge__',\n",
              " '__getattribute__',\n",
              " '__getitem__',\n",
              " '__gt__',\n",
              " '__hash__',\n",
              " '__iadd__',\n",
              " '__iand__',\n",
              " '__ifloordiv__',\n",
              " '__ilshift__',\n",
              " '__imatmul__',\n",
              " '__imod__',\n",
              " '__imul__',\n",
              " '__index__',\n",
              " '__init__',\n",
              " '__init_subclass__',\n",
              " '__int__',\n",
              " '__invert__',\n",
              " '__ior__',\n",
              " '__ipow__',\n",
              " '__irshift__',\n",
              " '__isub__',\n",
              " '__iter__',\n",
              " '__itruediv__',\n",
              " '__ixor__',\n",
              " '__le__',\n",
              " '__len__',\n",
              " '__lshift__',\n",
              " '__lt__',\n",
              " '__matmul__',\n",
              " '__mod__',\n",
              " '__mul__',\n",
              " '__ne__',\n",
              " '__neg__',\n",
              " '__new__',\n",
              " '__or__',\n",
              " '__pos__',\n",
              " '__pow__',\n",
              " '__radd__',\n",
              " '__rand__',\n",
              " '__rdivmod__',\n",
              " '__reduce__',\n",
              " '__reduce_ex__',\n",
              " '__repr__',\n",
              " '__rfloordiv__',\n",
              " '__rlshift__',\n",
              " '__rmatmul__',\n",
              " '__rmod__',\n",
              " '__rmul__',\n",
              " '__ror__',\n",
              " '__rpow__',\n",
              " '__rrshift__',\n",
              " '__rshift__',\n",
              " '__rsub__',\n",
              " '__rtruediv__',\n",
              " '__rxor__',\n",
              " '__setattr__',\n",
              " '__setitem__',\n",
              " '__setstate__',\n",
              " '__sizeof__',\n",
              " '__str__',\n",
              " '__sub__',\n",
              " '__subclasshook__',\n",
              " '__truediv__',\n",
              " '__xor__',\n",
              " 'all',\n",
              " 'any',\n",
              " 'argmax',\n",
              " 'argmin',\n",
              " 'argpartition',\n",
              " 'argsort',\n",
              " 'astype',\n",
              " 'base',\n",
              " 'byteswap',\n",
              " 'choose',\n",
              " 'clip',\n",
              " 'compress',\n",
              " 'conj',\n",
              " 'conjugate',\n",
              " 'copy',\n",
              " 'ctypes',\n",
              " 'cumprod',\n",
              " 'cumsum',\n",
              " 'data',\n",
              " 'diagonal',\n",
              " 'dot',\n",
              " 'dtype',\n",
              " 'dump',\n",
              " 'dumps',\n",
              " 'fill',\n",
              " 'flags',\n",
              " 'flat',\n",
              " 'flatten',\n",
              " 'getfield',\n",
              " 'imag',\n",
              " 'item',\n",
              " 'itemset',\n",
              " 'itemsize',\n",
              " 'max',\n",
              " 'mean',\n",
              " 'min',\n",
              " 'nbytes',\n",
              " 'ndim',\n",
              " 'newbyteorder',\n",
              " 'nonzero',\n",
              " 'partition',\n",
              " 'prod',\n",
              " 'ptp',\n",
              " 'put',\n",
              " 'ravel',\n",
              " 'real',\n",
              " 'repeat',\n",
              " 'reshape',\n",
              " 'resize',\n",
              " 'round',\n",
              " 'searchsorted',\n",
              " 'setfield',\n",
              " 'setflags',\n",
              " 'shape',\n",
              " 'size',\n",
              " 'sort',\n",
              " 'squeeze',\n",
              " 'std',\n",
              " 'strides',\n",
              " 'sum',\n",
              " 'swapaxes',\n",
              " 'take',\n",
              " 'tobytes',\n",
              " 'tofile',\n",
              " 'tolist',\n",
              " 'tostring',\n",
              " 'trace',\n",
              " 'transpose',\n",
              " 'var',\n",
              " 'view']"
            ]
          },
          "metadata": {
            "tags": []
          },
          "execution_count": 105
        }
      ]
    },
    {
      "cell_type": "code",
      "metadata": {
        "id": "OVP22WSzIJBG",
        "colab_type": "code",
        "colab": {
          "base_uri": "https://localhost:8080/",
          "height": 35
        },
        "outputId": "eca5dd67-d806-4cf3-92b7-ec02ac35cb94"
      },
      "source": [
        "nparry.max()"
      ],
      "execution_count": null,
      "outputs": [
        {
          "output_type": "execute_result",
          "data": {
            "text/plain": [
              "9"
            ]
          },
          "metadata": {
            "tags": []
          },
          "execution_count": 107
        }
      ]
    },
    {
      "cell_type": "code",
      "metadata": {
        "id": "_BdFf4AoIlVp",
        "colab_type": "code",
        "colab": {
          "base_uri": "https://localhost:8080/",
          "height": 35
        },
        "outputId": "ba22469b-0cc8-456e-90fa-7a45f5b6d5ed"
      },
      "source": [
        "nparry.argmax() #gives the position of the max ele"
      ],
      "execution_count": null,
      "outputs": [
        {
          "output_type": "execute_result",
          "data": {
            "text/plain": [
              "3"
            ]
          },
          "metadata": {
            "tags": []
          },
          "execution_count": 110
        }
      ]
    },
    {
      "cell_type": "code",
      "metadata": {
        "id": "-RyspcdjIpB5",
        "colab_type": "code",
        "colab": {
          "base_uri": "https://localhost:8080/",
          "height": 35
        },
        "outputId": "48aae52c-3717-4006-b0f6-85e28bc1c71d"
      },
      "source": [
        "nparry.mean()"
      ],
      "execution_count": null,
      "outputs": [
        {
          "output_type": "execute_result",
          "data": {
            "text/plain": [
              "4.75"
            ]
          },
          "metadata": {
            "tags": []
          },
          "execution_count": 111
        }
      ]
    },
    {
      "cell_type": "code",
      "metadata": {
        "id": "xbylAM-rJXv_",
        "colab_type": "code",
        "colab": {
          "base_uri": "https://localhost:8080/",
          "height": 35
        },
        "outputId": "5177c3a0-3e5e-4122-bd68-b6814d30ceac"
      },
      "source": [
        "np.average(nparry)"
      ],
      "execution_count": null,
      "outputs": [
        {
          "output_type": "execute_result",
          "data": {
            "text/plain": [
              "4.75"
            ]
          },
          "metadata": {
            "tags": []
          },
          "execution_count": 114
        }
      ]
    },
    {
      "cell_type": "code",
      "metadata": {
        "id": "Af1laEhLJcJk",
        "colab_type": "code",
        "colab": {
          "base_uri": "https://localhost:8080/",
          "height": 52
        },
        "outputId": "8e4f720d-0680-4fe9-a7bd-4927944d2aa5"
      },
      "source": [
        "nparray=np.array([-4000,3.8,3,5])\n",
        "print(type(nparray))\n",
        "nparray.shape"
      ],
      "execution_count": null,
      "outputs": [
        {
          "output_type": "stream",
          "text": [
            "<class 'numpy.ndarray'>\n"
          ],
          "name": "stdout"
        },
        {
          "output_type": "execute_result",
          "data": {
            "text/plain": [
              "(4,)"
            ]
          },
          "metadata": {
            "tags": []
          },
          "execution_count": 116
        }
      ]
    },
    {
      "cell_type": "code",
      "metadata": {
        "id": "EjKtVuUGaqaT",
        "colab_type": "code",
        "colab": {
          "base_uri": "https://localhost:8080/",
          "height": 69
        },
        "outputId": "fa132d37-4fd3-4af4-8997-3aa027be12b5"
      },
      "source": [
        "np1=np.array([[1,2,3],[4,5,6]])\n",
        "print(np1)\n",
        "np1.shape"
      ],
      "execution_count": null,
      "outputs": [
        {
          "output_type": "stream",
          "text": [
            "[[1 2 3]\n",
            " [4 5 6]]\n"
          ],
          "name": "stdout"
        },
        {
          "output_type": "execute_result",
          "data": {
            "text/plain": [
              "(2, 3)"
            ]
          },
          "metadata": {
            "tags": []
          },
          "execution_count": 117
        }
      ]
    },
    {
      "cell_type": "code",
      "metadata": {
        "id": "N5K0pHM3bGE9",
        "colab_type": "code",
        "colab": {}
      },
      "source": [
        "npX3d = np.array([[[1, 2, 3], [4, 5, 6]], [[7,8,9], [10, 11, 12]]])"
      ],
      "execution_count": null,
      "outputs": []
    },
    {
      "cell_type": "code",
      "metadata": {
        "id": "jB9RziLfbNY4",
        "colab_type": "code",
        "colab": {
          "base_uri": "https://localhost:8080/",
          "height": 35
        },
        "outputId": "f2bd6968-9832-4018-8294-485074922262"
      },
      "source": [
        "npX3d.shape"
      ],
      "execution_count": null,
      "outputs": [
        {
          "output_type": "execute_result",
          "data": {
            "text/plain": [
              "(2, 2, 3)"
            ]
          },
          "metadata": {
            "tags": []
          },
          "execution_count": 119
        }
      ]
    },
    {
      "cell_type": "code",
      "metadata": {
        "id": "otjp6Kk8bQJY",
        "colab_type": "code",
        "colab": {
          "base_uri": "https://localhost:8080/",
          "height": 104
        },
        "outputId": "dde2f7fd-941f-4f12-a62a-66d1ea28503e"
      },
      "source": [
        "print(npX3d)"
      ],
      "execution_count": null,
      "outputs": [
        {
          "output_type": "stream",
          "text": [
            "[[[ 1  2  3]\n",
            "  [ 4  5  6]]\n",
            "\n",
            " [[ 7  8  9]\n",
            "  [10 11 12]]]\n"
          ],
          "name": "stdout"
        }
      ]
    },
    {
      "cell_type": "code",
      "metadata": {
        "id": "Ut73sriPbXHJ",
        "colab_type": "code",
        "colab": {
          "base_uri": "https://localhost:8080/",
          "height": 52
        },
        "outputId": "a5fa2b10-8c16-4ed5-ccc5-e7d0a6109509"
      },
      "source": [
        "npX3d[0]"
      ],
      "execution_count": null,
      "outputs": [
        {
          "output_type": "execute_result",
          "data": {
            "text/plain": [
              "array([[1, 2, 3],\n",
              "       [4, 5, 6]])"
            ]
          },
          "metadata": {
            "tags": []
          },
          "execution_count": 121
        }
      ]
    },
    {
      "cell_type": "code",
      "metadata": {
        "id": "-wggAhOAbdog",
        "colab_type": "code",
        "colab": {
          "base_uri": "https://localhost:8080/",
          "height": 35
        },
        "outputId": "c02b7d4a-6218-41ae-d7c4-6add82f7f13f"
      },
      "source": [
        "npX3d[1,0][1]"
      ],
      "execution_count": null,
      "outputs": [
        {
          "output_type": "execute_result",
          "data": {
            "text/plain": [
              "8"
            ]
          },
          "metadata": {
            "tags": []
          },
          "execution_count": 123
        }
      ]
    },
    {
      "cell_type": "code",
      "metadata": {
        "id": "seqvHrhLboA5",
        "colab_type": "code",
        "colab": {
          "base_uri": "https://localhost:8080/",
          "height": 35
        },
        "outputId": "8234723a-6a19-421b-bc5b-c041879806a4"
      },
      "source": [
        "npX3d[1,0,1]"
      ],
      "execution_count": null,
      "outputs": [
        {
          "output_type": "execute_result",
          "data": {
            "text/plain": [
              "8"
            ]
          },
          "metadata": {
            "tags": []
          },
          "execution_count": 124
        }
      ]
    },
    {
      "cell_type": "code",
      "metadata": {
        "id": "ZweE6w5Lb18W",
        "colab_type": "code",
        "colab": {
          "base_uri": "https://localhost:8080/",
          "height": 35
        },
        "outputId": "d7fc367f-6af1-4a53-999d-87853944c814"
      },
      "source": [
        "np.zeros(10)\n"
      ],
      "execution_count": null,
      "outputs": [
        {
          "output_type": "execute_result",
          "data": {
            "text/plain": [
              "array([0., 0., 0., 0., 0., 0., 0., 0., 0., 0.])"
            ]
          },
          "metadata": {
            "tags": []
          },
          "execution_count": 128
        }
      ]
    },
    {
      "cell_type": "code",
      "metadata": {
        "id": "_zcpO0E5b4Qu",
        "colab_type": "code",
        "colab": {
          "base_uri": "https://localhost:8080/",
          "height": 52
        },
        "outputId": "ee393988-4308-44ea-ab65-2d8eb546119b"
      },
      "source": [
        "np.ones((2,3) )"
      ],
      "execution_count": null,
      "outputs": [
        {
          "output_type": "execute_result",
          "data": {
            "text/plain": [
              "array([[1., 1., 1.],\n",
              "       [1., 1., 1.]])"
            ]
          },
          "metadata": {
            "tags": []
          },
          "execution_count": 127
        }
      ]
    },
    {
      "cell_type": "code",
      "metadata": {
        "id": "cKeH05Eib-7y",
        "colab_type": "code",
        "colab": {
          "base_uri": "https://localhost:8080/",
          "height": 139
        },
        "outputId": "672102fe-eb00-46b8-c14d-19b00fbf8dad"
      },
      "source": [
        "print(npX3d)\n",
        "print(npX3d[:1])"
      ],
      "execution_count": null,
      "outputs": [
        {
          "output_type": "stream",
          "text": [
            "[[[ 1  2  3]\n",
            "  [ 4  5  6]]\n",
            "\n",
            " [[ 7  8  9]\n",
            "  [10 11 12]]]\n",
            "[[[1 2 3]\n",
            "  [4 5 6]]]\n"
          ],
          "name": "stdout"
        }
      ]
    },
    {
      "cell_type": "code",
      "metadata": {
        "id": "hQ1bIv9jcVzH",
        "colab_type": "code",
        "colab": {
          "base_uri": "https://localhost:8080/",
          "height": 35
        },
        "outputId": "bff5d9a5-d59a-4f80-e1b1-381831fda2e2"
      },
      "source": [
        "#another method to create a numpy\n",
        "x=np.arange(1,20,2)\n",
        "print(x)"
      ],
      "execution_count": null,
      "outputs": [
        {
          "output_type": "stream",
          "text": [
            "[ 1  3  5  7  9 11 13 15 17 19]\n"
          ],
          "name": "stdout"
        }
      ]
    },
    {
      "cell_type": "code",
      "metadata": {
        "id": "btARCI4scu5Y",
        "colab_type": "code",
        "colab": {
          "base_uri": "https://localhost:8080/",
          "height": 52
        },
        "outputId": "c63b60fd-357e-43ef-88ac-a756e64919cd"
      },
      "source": [
        "x.reshape((2,5))"
      ],
      "execution_count": null,
      "outputs": [
        {
          "output_type": "execute_result",
          "data": {
            "text/plain": [
              "array([[ 1,  3,  5,  7,  9],\n",
              "       [11, 13, 15, 17, 19]])"
            ]
          },
          "metadata": {
            "tags": []
          },
          "execution_count": 135
        }
      ]
    },
    {
      "cell_type": "code",
      "metadata": {
        "id": "yqFgCjOvczTa",
        "colab_type": "code",
        "colab": {
          "base_uri": "https://localhost:8080/",
          "height": 35
        },
        "outputId": "6acfe77a-4279-4d3c-fef0-6ee88303391b"
      },
      "source": [
        "x.flatten()"
      ],
      "execution_count": null,
      "outputs": [
        {
          "output_type": "execute_result",
          "data": {
            "text/plain": [
              "array([ 1,  3,  5,  7,  9, 11, 13, 15, 17, 19])"
            ]
          },
          "metadata": {
            "tags": []
          },
          "execution_count": 136
        }
      ]
    },
    {
      "cell_type": "code",
      "metadata": {
        "id": "lVcR9coTdSZ-",
        "colab_type": "code",
        "colab": {
          "base_uri": "https://localhost:8080/",
          "height": 52
        },
        "outputId": "b961bb29-7757-4110-a8ab-943657e4c67d"
      },
      "source": [
        "nparr1 = np.array([[1, 2, 3], [4, 5, 6]])\n",
        "nparr2 = np.array([[7, 8, 9], [10, 11, 12]])\n",
        "print(nparr1+nparr2) #it sums up"
      ],
      "execution_count": null,
      "outputs": [
        {
          "output_type": "stream",
          "text": [
            "[[ 8 10 12]\n",
            " [14 16 18]]\n"
          ],
          "name": "stdout"
        }
      ]
    },
    {
      "cell_type": "code",
      "metadata": {
        "id": "ckN-Y-SwdiE7",
        "colab_type": "code",
        "colab": {
          "base_uri": "https://localhost:8080/",
          "height": 87
        },
        "outputId": "71ad1f60-7269-4d64-800b-d7eab988881f"
      },
      "source": [
        "#contact\n",
        "np.concatenate([nparr1,nparr2],axis=0)#axis=0 row wise concate"
      ],
      "execution_count": null,
      "outputs": [
        {
          "output_type": "execute_result",
          "data": {
            "text/plain": [
              "array([[ 1,  2,  3],\n",
              "       [ 4,  5,  6],\n",
              "       [ 7,  8,  9],\n",
              "       [10, 11, 12]])"
            ]
          },
          "metadata": {
            "tags": []
          },
          "execution_count": 139
        }
      ]
    },
    {
      "cell_type": "code",
      "metadata": {
        "id": "UiGMB35Kd1aH",
        "colab_type": "code",
        "colab": {
          "base_uri": "https://localhost:8080/",
          "height": 52
        },
        "outputId": "e18dcf27-5011-46aa-fa61-39ca8b89eba9"
      },
      "source": [
        "np.concatenate([nparr1,nparr2],axis=1)#axis=1 col wise concate"
      ],
      "execution_count": null,
      "outputs": [
        {
          "output_type": "execute_result",
          "data": {
            "text/plain": [
              "array([[ 1,  2,  3,  7,  8,  9],\n",
              "       [ 4,  5,  6, 10, 11, 12]])"
            ]
          },
          "metadata": {
            "tags": []
          },
          "execution_count": 140
        }
      ]
    },
    {
      "cell_type": "code",
      "metadata": {
        "id": "AdD0glTpeBdg",
        "colab_type": "code",
        "colab": {
          "base_uri": "https://localhost:8080/",
          "height": 87
        },
        "outputId": "3e201881-d7f5-429f-a8cd-9e806ad8247e"
      },
      "source": [
        "newarr=np.vstack((nparr1,nparr2))\n",
        "print(newarr)"
      ],
      "execution_count": null,
      "outputs": [
        {
          "output_type": "stream",
          "text": [
            "[[ 1  2  3]\n",
            " [ 4  5  6]\n",
            " [ 7  8  9]\n",
            " [10 11 12]]\n"
          ],
          "name": "stdout"
        }
      ]
    },
    {
      "cell_type": "code",
      "metadata": {
        "id": "k6dbj10reJ9y",
        "colab_type": "code",
        "colab": {
          "base_uri": "https://localhost:8080/",
          "height": 52
        },
        "outputId": "678a7b4e-43de-4901-bb81-d33528695824"
      },
      "source": [
        "newarr=np.hstack((nparr1,nparr2))\n",
        "print(newarr)"
      ],
      "execution_count": null,
      "outputs": [
        {
          "output_type": "stream",
          "text": [
            "[[ 1  2  3  7  8  9]\n",
            " [ 4  5  6 10 11 12]]\n"
          ],
          "name": "stdout"
        }
      ]
    },
    {
      "cell_type": "code",
      "metadata": {
        "id": "jjAUZyOleUfe",
        "colab_type": "code",
        "colab": {
          "base_uri": "https://localhost:8080/",
          "height": 52
        },
        "outputId": "47b525c3-7cb7-4f5d-8392-f1b9e7d9b915"
      },
      "source": [
        "narr = np.arange(9)\n",
        "print(narr)\n",
        "print(np.array_split(narr,2))"
      ],
      "execution_count": null,
      "outputs": [
        {
          "output_type": "stream",
          "text": [
            "[0 1 2 3 4 5 6 7 8]\n",
            "[array([0, 1, 2, 3, 4]), array([5, 6, 7, 8])]\n"
          ],
          "name": "stdout"
        }
      ]
    },
    {
      "cell_type": "code",
      "metadata": {
        "id": "B6w7g2UNexV6",
        "colab_type": "code",
        "colab": {
          "base_uri": "https://localhost:8080/",
          "height": 52
        },
        "outputId": "cf290b7e-50f0-4c71-c9df-4e05c75a02b1"
      },
      "source": [
        "outcome=np.random.random(size=10)\n",
        "print(outcome)"
      ],
      "execution_count": null,
      "outputs": [
        {
          "output_type": "stream",
          "text": [
            "[0.96662808 0.05092331 0.83149427 0.72603123 0.32897203 0.89293887\n",
            " 0.04251489 0.79381446 0.8778723  0.98325105]\n"
          ],
          "name": "stdout"
        }
      ]
    },
    {
      "cell_type": "code",
      "metadata": {
        "id": "Nesa1t_YfeaV",
        "colab_type": "code",
        "colab": {
          "base_uri": "https://localhost:8080/",
          "height": 35
        },
        "outputId": "481022e3-f4eb-4a2f-ea8d-7778f8d8b8db"
      },
      "source": [
        "outcome=np.random.randint(1,7,size=10)\n",
        "print(outcome)"
      ],
      "execution_count": null,
      "outputs": [
        {
          "output_type": "stream",
          "text": [
            "[3 4 6 4 1 4 2 2 1 2]\n"
          ],
          "name": "stdout"
        }
      ]
    },
    {
      "cell_type": "code",
      "metadata": {
        "id": "az0VNOvXfliO",
        "colab_type": "code",
        "colab": {
          "base_uri": "https://localhost:8080/",
          "height": 35
        },
        "outputId": "51f418a2-3164-4d92-f7cf-f97a58abec1c"
      },
      "source": [
        "x = [10, 11, 12, 34]\n",
        "r=np.random.shuffle(x)\n",
        "print(x)"
      ],
      "execution_count": null,
      "outputs": [
        {
          "output_type": "stream",
          "text": [
            "[34, 12, 11, 10]\n"
          ],
          "name": "stdout"
        }
      ]
    },
    {
      "cell_type": "code",
      "metadata": {
        "id": "T0_bkCk-f0HV",
        "colab_type": "code",
        "colab": {
          "base_uri": "https://localhost:8080/",
          "height": 35
        },
        "outputId": "c119d317-10db-4276-cac6-1d3cd178cfe0"
      },
      "source": [
        "np.sort(outcome)"
      ],
      "execution_count": null,
      "outputs": [
        {
          "output_type": "execute_result",
          "data": {
            "text/plain": [
              "array([1, 1, 2, 2, 2, 3, 4, 4, 4, 6])"
            ]
          },
          "metadata": {
            "tags": []
          },
          "execution_count": 151
        }
      ]
    },
    {
      "cell_type": "code",
      "metadata": {
        "id": "j6G4DRkngfu2",
        "colab_type": "code",
        "colab": {
          "base_uri": "https://localhost:8080/",
          "height": 35
        },
        "outputId": "fbad8be8-dfe3-4955-afa7-10d2a57466a2"
      },
      "source": [
        "-(np.sort(-outcome)) "
      ],
      "execution_count": null,
      "outputs": [
        {
          "output_type": "execute_result",
          "data": {
            "text/plain": [
              "array([6, 4, 4, 4, 3, 2, 2, 2, 1, 1])"
            ]
          },
          "metadata": {
            "tags": []
          },
          "execution_count": 158
        }
      ]
    },
    {
      "cell_type": "code",
      "metadata": {
        "id": "vzFnXY-Ei4LI",
        "colab_type": "code",
        "colab": {}
      },
      "source": [
        "#pandas\n",
        "#dataframe is the advatage of pandas\n",
        "#from series to dataframe"
      ],
      "execution_count": null,
      "outputs": []
    },
    {
      "cell_type": "code",
      "metadata": {
        "id": "BHjjm2bthUOU",
        "colab_type": "code",
        "colab": {}
      },
      "source": [
        "import pandas as pd"
      ],
      "execution_count": null,
      "outputs": []
    },
    {
      "cell_type": "code",
      "metadata": {
        "id": "BIroG6yljucl",
        "colab_type": "code",
        "colab": {
          "base_uri": "https://localhost:8080/",
          "height": 104
        },
        "outputId": "797fb829-ac66-4026-a824-4719013389e5"
      },
      "source": [
        "#create a series\n",
        "s=pd.Series([4,5,4.5,'2'])\n",
        "print(s)"
      ],
      "execution_count": null,
      "outputs": [
        {
          "output_type": "stream",
          "text": [
            "0      4\n",
            "1      5\n",
            "2    4.5\n",
            "3      2\n",
            "dtype: object\n"
          ],
          "name": "stdout"
        }
      ]
    },
    {
      "cell_type": "code",
      "metadata": {
        "id": "LDogVXWGj__m",
        "colab_type": "code",
        "colab": {
          "base_uri": "https://localhost:8080/",
          "height": 104
        },
        "outputId": "e9f8096d-9a1b-4f9f-bfaa-f16672a27f7b"
      },
      "source": [
        "s=pd.Series([4,5,4.5,8],index=[\"a\",\"b\",\"c\",\"d\"]) #u can assign index\n",
        "print(s)"
      ],
      "execution_count": null,
      "outputs": [
        {
          "output_type": "stream",
          "text": [
            "a    4.0\n",
            "b    5.0\n",
            "c    4.5\n",
            "d    8.0\n",
            "dtype: float64\n"
          ],
          "name": "stdout"
        }
      ]
    },
    {
      "cell_type": "code",
      "metadata": {
        "id": "x-3TJVNnkPQH",
        "colab_type": "code",
        "colab": {
          "base_uri": "https://localhost:8080/",
          "height": 69
        },
        "outputId": "8924b90d-13f9-49a4-ef49-a353f4fa11f8"
      },
      "source": [
        "s[s<5]"
      ],
      "execution_count": null,
      "outputs": [
        {
          "output_type": "execute_result",
          "data": {
            "text/plain": [
              "a    4.0\n",
              "c    4.5\n",
              "dtype: float64"
            ]
          },
          "metadata": {
            "tags": []
          },
          "execution_count": 167
        }
      ]
    },
    {
      "cell_type": "code",
      "metadata": {
        "id": "kjYxgVdukTTl",
        "colab_type": "code",
        "colab": {
          "base_uri": "https://localhost:8080/",
          "height": 104
        },
        "outputId": "4929c89c-de02-4b49-dfb3-d5f7284fc708"
      },
      "source": [
        "dictionary = {\"First\":[\"Hi\",\"Hello\"],\"Second\": 5.4,\n",
        "              \"Third\":-9.4,\"Fourth\":12}\n",
        "series = pd.Series(dictionary)\n",
        "print(series) #key is the index"
      ],
      "execution_count": null,
      "outputs": [
        {
          "output_type": "stream",
          "text": [
            "First     [Hi, Hello]\n",
            "Second            5.4\n",
            "Third            -9.4\n",
            "Fourth             12\n",
            "dtype: object\n"
          ],
          "name": "stdout"
        }
      ]
    },
    {
      "cell_type": "code",
      "metadata": {
        "id": "8-HTw4yEkmOA",
        "colab_type": "code",
        "colab": {
          "base_uri": "https://localhost:8080/",
          "height": 87
        },
        "outputId": "aa97bd97-ec1a-4fc8-9606-849848992542"
      },
      "source": [
        "a=pd.Series([10,20,30])\n",
        "b=pd.Series([1,2,3])\n",
        "print(a+b)"
      ],
      "execution_count": null,
      "outputs": [
        {
          "output_type": "stream",
          "text": [
            "0    11\n",
            "1    22\n",
            "2    33\n",
            "dtype: int64\n"
          ],
          "name": "stdout"
        }
      ]
    },
    {
      "cell_type": "code",
      "metadata": {
        "id": "SM5rweSvk8cJ",
        "colab_type": "code",
        "colab": {
          "base_uri": "https://localhost:8080/",
          "height": 104
        },
        "outputId": "9d5ba6ed-27d6-408c-af47-2315516c2708"
      },
      "source": [
        "data = {\"date\" : [ \"December,2014\", \"December, 2013\",\n",
        "                  \"December, 2012\",\"December,2011\"],\n",
        "        \"global_temp\": [0.87,0.74,0.65,0.63]\n",
        "       }\n",
        "df = pd.DataFrame(data)\n",
        "print(df) #it doesnt create df if it has uneven values\n",
        "#df has heading ex:date global_temp"
      ],
      "execution_count": null,
      "outputs": [
        {
          "output_type": "stream",
          "text": [
            "             date  global_temp\n",
            "0   December,2014         0.87\n",
            "1  December, 2013         0.74\n",
            "2  December, 2012         0.65\n",
            "3   December,2011         0.63\n"
          ],
          "name": "stdout"
        }
      ]
    },
    {
      "cell_type": "code",
      "metadata": {
        "id": "pfY6NWW9lwA2",
        "colab_type": "code",
        "colab": {
          "base_uri": "https://localhost:8080/",
          "height": 381
        },
        "outputId": "999b902f-9107-475c-83ba-64a38b066076"
      },
      "source": [
        "dataframe = pd.DataFrame(np.random.randn(20,5),columns\n",
        "                         = ['A','B','C','D','E'])\n",
        "print(dataframe)"
      ],
      "execution_count": null,
      "outputs": [
        {
          "output_type": "stream",
          "text": [
            "           A         B         C         D         E\n",
            "0   0.491696  1.639212 -1.304441 -1.359193  1.455568\n",
            "1  -1.560374 -1.706681 -0.175872 -1.159303  0.227028\n",
            "2  -0.887140 -0.164894  1.240438  0.429743 -1.069185\n",
            "3   1.950536 -0.876273 -0.094301  0.194155  1.538443\n",
            "4   0.848150  0.298579 -0.465975  2.147101 -1.749231\n",
            "5   0.068465  0.296886 -0.212366  0.086114 -1.873571\n",
            "6   1.035242  0.624416  0.428326  0.439406 -1.596122\n",
            "7   2.274976 -0.379161  0.388391 -2.849557  0.935922\n",
            "8  -0.939794  0.482816  0.411376 -1.011155  0.970016\n",
            "9  -0.597164  0.222933  0.101982  0.884353  0.492091\n",
            "10 -0.102981  1.106836  1.134287  0.202582 -0.924154\n",
            "11 -0.094183  1.022851 -0.611165  1.166761 -0.653144\n",
            "12  0.869822 -0.500866 -1.124080  0.120168  0.271898\n",
            "13  0.150056  0.043467  0.033079  1.526046 -1.676818\n",
            "14  0.064589  0.550522  0.885465 -0.991275  0.535943\n",
            "15  0.355089  0.221525 -0.930877 -0.035358 -1.275549\n",
            "16  0.683921 -1.452178  0.973317 -0.226124  0.330249\n",
            "17 -0.064860 -1.420648  0.280996 -0.086148 -0.665627\n",
            "18 -1.427598  0.752225  1.294852 -0.885677 -0.538869\n",
            "19  0.342315 -0.184245  3.211465  0.152545 -0.562954\n"
          ],
          "name": "stdout"
        }
      ]
    },
    {
      "cell_type": "code",
      "metadata": {
        "id": "s7GyaAH6mRyA",
        "colab_type": "code",
        "colab": {
          "base_uri": "https://localhost:8080/",
          "height": 202
        },
        "outputId": "81b37f83-f99f-41a0-ca94-0dae02edde65"
      },
      "source": [
        "dataframe.head()"
      ],
      "execution_count": null,
      "outputs": [
        {
          "output_type": "execute_result",
          "data": {
            "text/html": [
              "<div>\n",
              "<style scoped>\n",
              "    .dataframe tbody tr th:only-of-type {\n",
              "        vertical-align: middle;\n",
              "    }\n",
              "\n",
              "    .dataframe tbody tr th {\n",
              "        vertical-align: top;\n",
              "    }\n",
              "\n",
              "    .dataframe thead th {\n",
              "        text-align: right;\n",
              "    }\n",
              "</style>\n",
              "<table border=\"1\" class=\"dataframe\">\n",
              "  <thead>\n",
              "    <tr style=\"text-align: right;\">\n",
              "      <th></th>\n",
              "      <th>A</th>\n",
              "      <th>B</th>\n",
              "      <th>C</th>\n",
              "      <th>D</th>\n",
              "      <th>E</th>\n",
              "    </tr>\n",
              "  </thead>\n",
              "  <tbody>\n",
              "    <tr>\n",
              "      <th>0</th>\n",
              "      <td>0.491696</td>\n",
              "      <td>1.639212</td>\n",
              "      <td>-1.304441</td>\n",
              "      <td>-1.359193</td>\n",
              "      <td>1.455568</td>\n",
              "    </tr>\n",
              "    <tr>\n",
              "      <th>1</th>\n",
              "      <td>-1.560374</td>\n",
              "      <td>-1.706681</td>\n",
              "      <td>-0.175872</td>\n",
              "      <td>-1.159303</td>\n",
              "      <td>0.227028</td>\n",
              "    </tr>\n",
              "    <tr>\n",
              "      <th>2</th>\n",
              "      <td>-0.887140</td>\n",
              "      <td>-0.164894</td>\n",
              "      <td>1.240438</td>\n",
              "      <td>0.429743</td>\n",
              "      <td>-1.069185</td>\n",
              "    </tr>\n",
              "    <tr>\n",
              "      <th>3</th>\n",
              "      <td>1.950536</td>\n",
              "      <td>-0.876273</td>\n",
              "      <td>-0.094301</td>\n",
              "      <td>0.194155</td>\n",
              "      <td>1.538443</td>\n",
              "    </tr>\n",
              "    <tr>\n",
              "      <th>4</th>\n",
              "      <td>0.848150</td>\n",
              "      <td>0.298579</td>\n",
              "      <td>-0.465975</td>\n",
              "      <td>2.147101</td>\n",
              "      <td>-1.749231</td>\n",
              "    </tr>\n",
              "  </tbody>\n",
              "</table>\n",
              "</div>"
            ],
            "text/plain": [
              "          A         B         C         D         E\n",
              "0  0.491696  1.639212 -1.304441 -1.359193  1.455568\n",
              "1 -1.560374 -1.706681 -0.175872 -1.159303  0.227028\n",
              "2 -0.887140 -0.164894  1.240438  0.429743 -1.069185\n",
              "3  1.950536 -0.876273 -0.094301  0.194155  1.538443\n",
              "4  0.848150  0.298579 -0.465975  2.147101 -1.749231"
            ]
          },
          "metadata": {
            "tags": []
          },
          "execution_count": 183
        }
      ]
    },
    {
      "cell_type": "code",
      "metadata": {
        "id": "9LmZy90tq4Vm",
        "colab_type": "code",
        "colab": {
          "base_uri": "https://localhost:8080/",
          "height": 141
        },
        "outputId": "58b2a5d0-427c-4362-c024-e686da0b21df"
      },
      "source": [
        "dataframe.tail(n=3)"
      ],
      "execution_count": null,
      "outputs": [
        {
          "output_type": "execute_result",
          "data": {
            "text/html": [
              "<div>\n",
              "<style scoped>\n",
              "    .dataframe tbody tr th:only-of-type {\n",
              "        vertical-align: middle;\n",
              "    }\n",
              "\n",
              "    .dataframe tbody tr th {\n",
              "        vertical-align: top;\n",
              "    }\n",
              "\n",
              "    .dataframe thead th {\n",
              "        text-align: right;\n",
              "    }\n",
              "</style>\n",
              "<table border=\"1\" class=\"dataframe\">\n",
              "  <thead>\n",
              "    <tr style=\"text-align: right;\">\n",
              "      <th></th>\n",
              "      <th>A</th>\n",
              "      <th>B</th>\n",
              "      <th>C</th>\n",
              "      <th>D</th>\n",
              "      <th>E</th>\n",
              "    </tr>\n",
              "  </thead>\n",
              "  <tbody>\n",
              "    <tr>\n",
              "      <th>17</th>\n",
              "      <td>-0.064860</td>\n",
              "      <td>-1.420648</td>\n",
              "      <td>0.280996</td>\n",
              "      <td>-0.086148</td>\n",
              "      <td>-0.665627</td>\n",
              "    </tr>\n",
              "    <tr>\n",
              "      <th>18</th>\n",
              "      <td>-1.427598</td>\n",
              "      <td>0.752225</td>\n",
              "      <td>1.294852</td>\n",
              "      <td>-0.885677</td>\n",
              "      <td>-0.538869</td>\n",
              "    </tr>\n",
              "    <tr>\n",
              "      <th>19</th>\n",
              "      <td>0.342315</td>\n",
              "      <td>-0.184245</td>\n",
              "      <td>3.211465</td>\n",
              "      <td>0.152545</td>\n",
              "      <td>-0.562954</td>\n",
              "    </tr>\n",
              "  </tbody>\n",
              "</table>\n",
              "</div>"
            ],
            "text/plain": [
              "           A         B         C         D         E\n",
              "17 -0.064860 -1.420648  0.280996 -0.086148 -0.665627\n",
              "18 -1.427598  0.752225  1.294852 -0.885677 -0.538869\n",
              "19  0.342315 -0.184245  3.211465  0.152545 -0.562954"
            ]
          },
          "metadata": {
            "tags": []
          },
          "execution_count": 184
        }
      ]
    },
    {
      "cell_type": "code",
      "metadata": {
        "id": "uBnOQL3aq75H",
        "colab_type": "code",
        "colab": {
          "base_uri": "https://localhost:8080/",
          "height": 294
        },
        "outputId": "6bfd89a9-21d9-48d2-f79a-27b53a3ee6c3"
      },
      "source": [
        "dataframe.describe()"
      ],
      "execution_count": null,
      "outputs": [
        {
          "output_type": "execute_result",
          "data": {
            "text/html": [
              "<div>\n",
              "<style scoped>\n",
              "    .dataframe tbody tr th:only-of-type {\n",
              "        vertical-align: middle;\n",
              "    }\n",
              "\n",
              "    .dataframe tbody tr th {\n",
              "        vertical-align: top;\n",
              "    }\n",
              "\n",
              "    .dataframe thead th {\n",
              "        text-align: right;\n",
              "    }\n",
              "</style>\n",
              "<table border=\"1\" class=\"dataframe\">\n",
              "  <thead>\n",
              "    <tr style=\"text-align: right;\">\n",
              "      <th></th>\n",
              "      <th>A</th>\n",
              "      <th>B</th>\n",
              "      <th>C</th>\n",
              "      <th>D</th>\n",
              "      <th>E</th>\n",
              "    </tr>\n",
              "  </thead>\n",
              "  <tbody>\n",
              "    <tr>\n",
              "      <th>count</th>\n",
              "      <td>20.000000</td>\n",
              "      <td>20.000000</td>\n",
              "      <td>20.000000</td>\n",
              "      <td>20.000000</td>\n",
              "      <td>20.000000</td>\n",
              "    </tr>\n",
              "    <tr>\n",
              "      <th>mean</th>\n",
              "      <td>0.173038</td>\n",
              "      <td>0.028866</td>\n",
              "      <td>0.273245</td>\n",
              "      <td>-0.062741</td>\n",
              "      <td>-0.291403</td>\n",
              "    </tr>\n",
              "    <tr>\n",
              "      <th>std</th>\n",
              "      <td>0.985057</td>\n",
              "      <td>0.887782</td>\n",
              "      <td>1.029942</td>\n",
              "      <td>1.116051</td>\n",
              "      <td>1.085759</td>\n",
              "    </tr>\n",
              "    <tr>\n",
              "      <th>min</th>\n",
              "      <td>-1.560374</td>\n",
              "      <td>-1.706681</td>\n",
              "      <td>-1.304441</td>\n",
              "      <td>-2.849557</td>\n",
              "      <td>-1.873571</td>\n",
              "    </tr>\n",
              "    <tr>\n",
              "      <th>25%</th>\n",
              "      <td>-0.226526</td>\n",
              "      <td>-0.409587</td>\n",
              "      <td>-0.275768</td>\n",
              "      <td>-0.912077</td>\n",
              "      <td>-1.120776</td>\n",
              "    </tr>\n",
              "    <tr>\n",
              "      <th>50%</th>\n",
              "      <td>0.109261</td>\n",
              "      <td>0.222229</td>\n",
              "      <td>0.191489</td>\n",
              "      <td>0.103141</td>\n",
              "      <td>-0.550911</td>\n",
              "    </tr>\n",
              "    <tr>\n",
              "      <th>75%</th>\n",
              "      <td>0.724979</td>\n",
              "      <td>0.568995</td>\n",
              "      <td>0.907428</td>\n",
              "      <td>0.432159</td>\n",
              "      <td>0.503054</td>\n",
              "    </tr>\n",
              "    <tr>\n",
              "      <th>max</th>\n",
              "      <td>2.274976</td>\n",
              "      <td>1.639212</td>\n",
              "      <td>3.211465</td>\n",
              "      <td>2.147101</td>\n",
              "      <td>1.538443</td>\n",
              "    </tr>\n",
              "  </tbody>\n",
              "</table>\n",
              "</div>"
            ],
            "text/plain": [
              "               A          B          C          D          E\n",
              "count  20.000000  20.000000  20.000000  20.000000  20.000000\n",
              "mean    0.173038   0.028866   0.273245  -0.062741  -0.291403\n",
              "std     0.985057   0.887782   1.029942   1.116051   1.085759\n",
              "min    -1.560374  -1.706681  -1.304441  -2.849557  -1.873571\n",
              "25%    -0.226526  -0.409587  -0.275768  -0.912077  -1.120776\n",
              "50%     0.109261   0.222229   0.191489   0.103141  -0.550911\n",
              "75%     0.724979   0.568995   0.907428   0.432159   0.503054\n",
              "max     2.274976   1.639212   3.211465   2.147101   1.538443"
            ]
          },
          "metadata": {
            "tags": []
          },
          "execution_count": 185
        }
      ]
    },
    {
      "cell_type": "code",
      "metadata": {
        "id": "G-epmQzZq_Rb",
        "colab_type": "code",
        "colab": {
          "base_uri": "https://localhost:8080/",
          "height": 662
        },
        "outputId": "9326031f-de67-40f7-db3c-68e95e0ac55c"
      },
      "source": [
        "dataframe.sort_values(by=['A','C'])"
      ],
      "execution_count": null,
      "outputs": [
        {
          "output_type": "execute_result",
          "data": {
            "text/html": [
              "<div>\n",
              "<style scoped>\n",
              "    .dataframe tbody tr th:only-of-type {\n",
              "        vertical-align: middle;\n",
              "    }\n",
              "\n",
              "    .dataframe tbody tr th {\n",
              "        vertical-align: top;\n",
              "    }\n",
              "\n",
              "    .dataframe thead th {\n",
              "        text-align: right;\n",
              "    }\n",
              "</style>\n",
              "<table border=\"1\" class=\"dataframe\">\n",
              "  <thead>\n",
              "    <tr style=\"text-align: right;\">\n",
              "      <th></th>\n",
              "      <th>A</th>\n",
              "      <th>B</th>\n",
              "      <th>C</th>\n",
              "      <th>D</th>\n",
              "      <th>E</th>\n",
              "    </tr>\n",
              "  </thead>\n",
              "  <tbody>\n",
              "    <tr>\n",
              "      <th>1</th>\n",
              "      <td>-1.560374</td>\n",
              "      <td>-1.706681</td>\n",
              "      <td>-0.175872</td>\n",
              "      <td>-1.159303</td>\n",
              "      <td>0.227028</td>\n",
              "    </tr>\n",
              "    <tr>\n",
              "      <th>18</th>\n",
              "      <td>-1.427598</td>\n",
              "      <td>0.752225</td>\n",
              "      <td>1.294852</td>\n",
              "      <td>-0.885677</td>\n",
              "      <td>-0.538869</td>\n",
              "    </tr>\n",
              "    <tr>\n",
              "      <th>8</th>\n",
              "      <td>-0.939794</td>\n",
              "      <td>0.482816</td>\n",
              "      <td>0.411376</td>\n",
              "      <td>-1.011155</td>\n",
              "      <td>0.970016</td>\n",
              "    </tr>\n",
              "    <tr>\n",
              "      <th>2</th>\n",
              "      <td>-0.887140</td>\n",
              "      <td>-0.164894</td>\n",
              "      <td>1.240438</td>\n",
              "      <td>0.429743</td>\n",
              "      <td>-1.069185</td>\n",
              "    </tr>\n",
              "    <tr>\n",
              "      <th>9</th>\n",
              "      <td>-0.597164</td>\n",
              "      <td>0.222933</td>\n",
              "      <td>0.101982</td>\n",
              "      <td>0.884353</td>\n",
              "      <td>0.492091</td>\n",
              "    </tr>\n",
              "    <tr>\n",
              "      <th>10</th>\n",
              "      <td>-0.102981</td>\n",
              "      <td>1.106836</td>\n",
              "      <td>1.134287</td>\n",
              "      <td>0.202582</td>\n",
              "      <td>-0.924154</td>\n",
              "    </tr>\n",
              "    <tr>\n",
              "      <th>11</th>\n",
              "      <td>-0.094183</td>\n",
              "      <td>1.022851</td>\n",
              "      <td>-0.611165</td>\n",
              "      <td>1.166761</td>\n",
              "      <td>-0.653144</td>\n",
              "    </tr>\n",
              "    <tr>\n",
              "      <th>17</th>\n",
              "      <td>-0.064860</td>\n",
              "      <td>-1.420648</td>\n",
              "      <td>0.280996</td>\n",
              "      <td>-0.086148</td>\n",
              "      <td>-0.665627</td>\n",
              "    </tr>\n",
              "    <tr>\n",
              "      <th>14</th>\n",
              "      <td>0.064589</td>\n",
              "      <td>0.550522</td>\n",
              "      <td>0.885465</td>\n",
              "      <td>-0.991275</td>\n",
              "      <td>0.535943</td>\n",
              "    </tr>\n",
              "    <tr>\n",
              "      <th>5</th>\n",
              "      <td>0.068465</td>\n",
              "      <td>0.296886</td>\n",
              "      <td>-0.212366</td>\n",
              "      <td>0.086114</td>\n",
              "      <td>-1.873571</td>\n",
              "    </tr>\n",
              "    <tr>\n",
              "      <th>13</th>\n",
              "      <td>0.150056</td>\n",
              "      <td>0.043467</td>\n",
              "      <td>0.033079</td>\n",
              "      <td>1.526046</td>\n",
              "      <td>-1.676818</td>\n",
              "    </tr>\n",
              "    <tr>\n",
              "      <th>19</th>\n",
              "      <td>0.342315</td>\n",
              "      <td>-0.184245</td>\n",
              "      <td>3.211465</td>\n",
              "      <td>0.152545</td>\n",
              "      <td>-0.562954</td>\n",
              "    </tr>\n",
              "    <tr>\n",
              "      <th>15</th>\n",
              "      <td>0.355089</td>\n",
              "      <td>0.221525</td>\n",
              "      <td>-0.930877</td>\n",
              "      <td>-0.035358</td>\n",
              "      <td>-1.275549</td>\n",
              "    </tr>\n",
              "    <tr>\n",
              "      <th>0</th>\n",
              "      <td>0.491696</td>\n",
              "      <td>1.639212</td>\n",
              "      <td>-1.304441</td>\n",
              "      <td>-1.359193</td>\n",
              "      <td>1.455568</td>\n",
              "    </tr>\n",
              "    <tr>\n",
              "      <th>16</th>\n",
              "      <td>0.683921</td>\n",
              "      <td>-1.452178</td>\n",
              "      <td>0.973317</td>\n",
              "      <td>-0.226124</td>\n",
              "      <td>0.330249</td>\n",
              "    </tr>\n",
              "    <tr>\n",
              "      <th>4</th>\n",
              "      <td>0.848150</td>\n",
              "      <td>0.298579</td>\n",
              "      <td>-0.465975</td>\n",
              "      <td>2.147101</td>\n",
              "      <td>-1.749231</td>\n",
              "    </tr>\n",
              "    <tr>\n",
              "      <th>12</th>\n",
              "      <td>0.869822</td>\n",
              "      <td>-0.500866</td>\n",
              "      <td>-1.124080</td>\n",
              "      <td>0.120168</td>\n",
              "      <td>0.271898</td>\n",
              "    </tr>\n",
              "    <tr>\n",
              "      <th>6</th>\n",
              "      <td>1.035242</td>\n",
              "      <td>0.624416</td>\n",
              "      <td>0.428326</td>\n",
              "      <td>0.439406</td>\n",
              "      <td>-1.596122</td>\n",
              "    </tr>\n",
              "    <tr>\n",
              "      <th>3</th>\n",
              "      <td>1.950536</td>\n",
              "      <td>-0.876273</td>\n",
              "      <td>-0.094301</td>\n",
              "      <td>0.194155</td>\n",
              "      <td>1.538443</td>\n",
              "    </tr>\n",
              "    <tr>\n",
              "      <th>7</th>\n",
              "      <td>2.274976</td>\n",
              "      <td>-0.379161</td>\n",
              "      <td>0.388391</td>\n",
              "      <td>-2.849557</td>\n",
              "      <td>0.935922</td>\n",
              "    </tr>\n",
              "  </tbody>\n",
              "</table>\n",
              "</div>"
            ],
            "text/plain": [
              "           A         B         C         D         E\n",
              "1  -1.560374 -1.706681 -0.175872 -1.159303  0.227028\n",
              "18 -1.427598  0.752225  1.294852 -0.885677 -0.538869\n",
              "8  -0.939794  0.482816  0.411376 -1.011155  0.970016\n",
              "2  -0.887140 -0.164894  1.240438  0.429743 -1.069185\n",
              "9  -0.597164  0.222933  0.101982  0.884353  0.492091\n",
              "10 -0.102981  1.106836  1.134287  0.202582 -0.924154\n",
              "11 -0.094183  1.022851 -0.611165  1.166761 -0.653144\n",
              "17 -0.064860 -1.420648  0.280996 -0.086148 -0.665627\n",
              "14  0.064589  0.550522  0.885465 -0.991275  0.535943\n",
              "5   0.068465  0.296886 -0.212366  0.086114 -1.873571\n",
              "13  0.150056  0.043467  0.033079  1.526046 -1.676818\n",
              "19  0.342315 -0.184245  3.211465  0.152545 -0.562954\n",
              "15  0.355089  0.221525 -0.930877 -0.035358 -1.275549\n",
              "0   0.491696  1.639212 -1.304441 -1.359193  1.455568\n",
              "16  0.683921 -1.452178  0.973317 -0.226124  0.330249\n",
              "4   0.848150  0.298579 -0.465975  2.147101 -1.749231\n",
              "12  0.869822 -0.500866 -1.124080  0.120168  0.271898\n",
              "6   1.035242  0.624416  0.428326  0.439406 -1.596122\n",
              "3   1.950536 -0.876273 -0.094301  0.194155  1.538443\n",
              "7   2.274976 -0.379161  0.388391 -2.849557  0.935922"
            ]
          },
          "metadata": {
            "tags": []
          },
          "execution_count": 194
        }
      ]
    },
    {
      "cell_type": "code",
      "metadata": {
        "id": "J5r6DCoarLjO",
        "colab_type": "code",
        "colab": {
          "base_uri": "https://localhost:8080/",
          "height": 662
        },
        "outputId": "a9b2e9a1-7574-4092-ee86-1ea2cb60db50"
      },
      "source": [
        "dataframe.A\n",
        "dataframe[['A','B']]"
      ],
      "execution_count": null,
      "outputs": [
        {
          "output_type": "execute_result",
          "data": {
            "text/html": [
              "<div>\n",
              "<style scoped>\n",
              "    .dataframe tbody tr th:only-of-type {\n",
              "        vertical-align: middle;\n",
              "    }\n",
              "\n",
              "    .dataframe tbody tr th {\n",
              "        vertical-align: top;\n",
              "    }\n",
              "\n",
              "    .dataframe thead th {\n",
              "        text-align: right;\n",
              "    }\n",
              "</style>\n",
              "<table border=\"1\" class=\"dataframe\">\n",
              "  <thead>\n",
              "    <tr style=\"text-align: right;\">\n",
              "      <th></th>\n",
              "      <th>A</th>\n",
              "      <th>B</th>\n",
              "    </tr>\n",
              "  </thead>\n",
              "  <tbody>\n",
              "    <tr>\n",
              "      <th>0</th>\n",
              "      <td>0.491696</td>\n",
              "      <td>1.639212</td>\n",
              "    </tr>\n",
              "    <tr>\n",
              "      <th>1</th>\n",
              "      <td>-1.560374</td>\n",
              "      <td>-1.706681</td>\n",
              "    </tr>\n",
              "    <tr>\n",
              "      <th>2</th>\n",
              "      <td>-0.887140</td>\n",
              "      <td>-0.164894</td>\n",
              "    </tr>\n",
              "    <tr>\n",
              "      <th>3</th>\n",
              "      <td>1.950536</td>\n",
              "      <td>-0.876273</td>\n",
              "    </tr>\n",
              "    <tr>\n",
              "      <th>4</th>\n",
              "      <td>0.848150</td>\n",
              "      <td>0.298579</td>\n",
              "    </tr>\n",
              "    <tr>\n",
              "      <th>5</th>\n",
              "      <td>0.068465</td>\n",
              "      <td>0.296886</td>\n",
              "    </tr>\n",
              "    <tr>\n",
              "      <th>6</th>\n",
              "      <td>1.035242</td>\n",
              "      <td>0.624416</td>\n",
              "    </tr>\n",
              "    <tr>\n",
              "      <th>7</th>\n",
              "      <td>2.274976</td>\n",
              "      <td>-0.379161</td>\n",
              "    </tr>\n",
              "    <tr>\n",
              "      <th>8</th>\n",
              "      <td>-0.939794</td>\n",
              "      <td>0.482816</td>\n",
              "    </tr>\n",
              "    <tr>\n",
              "      <th>9</th>\n",
              "      <td>-0.597164</td>\n",
              "      <td>0.222933</td>\n",
              "    </tr>\n",
              "    <tr>\n",
              "      <th>10</th>\n",
              "      <td>-0.102981</td>\n",
              "      <td>1.106836</td>\n",
              "    </tr>\n",
              "    <tr>\n",
              "      <th>11</th>\n",
              "      <td>-0.094183</td>\n",
              "      <td>1.022851</td>\n",
              "    </tr>\n",
              "    <tr>\n",
              "      <th>12</th>\n",
              "      <td>0.869822</td>\n",
              "      <td>-0.500866</td>\n",
              "    </tr>\n",
              "    <tr>\n",
              "      <th>13</th>\n",
              "      <td>0.150056</td>\n",
              "      <td>0.043467</td>\n",
              "    </tr>\n",
              "    <tr>\n",
              "      <th>14</th>\n",
              "      <td>0.064589</td>\n",
              "      <td>0.550522</td>\n",
              "    </tr>\n",
              "    <tr>\n",
              "      <th>15</th>\n",
              "      <td>0.355089</td>\n",
              "      <td>0.221525</td>\n",
              "    </tr>\n",
              "    <tr>\n",
              "      <th>16</th>\n",
              "      <td>0.683921</td>\n",
              "      <td>-1.452178</td>\n",
              "    </tr>\n",
              "    <tr>\n",
              "      <th>17</th>\n",
              "      <td>-0.064860</td>\n",
              "      <td>-1.420648</td>\n",
              "    </tr>\n",
              "    <tr>\n",
              "      <th>18</th>\n",
              "      <td>-1.427598</td>\n",
              "      <td>0.752225</td>\n",
              "    </tr>\n",
              "    <tr>\n",
              "      <th>19</th>\n",
              "      <td>0.342315</td>\n",
              "      <td>-0.184245</td>\n",
              "    </tr>\n",
              "  </tbody>\n",
              "</table>\n",
              "</div>"
            ],
            "text/plain": [
              "           A         B\n",
              "0   0.491696  1.639212\n",
              "1  -1.560374 -1.706681\n",
              "2  -0.887140 -0.164894\n",
              "3   1.950536 -0.876273\n",
              "4   0.848150  0.298579\n",
              "5   0.068465  0.296886\n",
              "6   1.035242  0.624416\n",
              "7   2.274976 -0.379161\n",
              "8  -0.939794  0.482816\n",
              "9  -0.597164  0.222933\n",
              "10 -0.102981  1.106836\n",
              "11 -0.094183  1.022851\n",
              "12  0.869822 -0.500866\n",
              "13  0.150056  0.043467\n",
              "14  0.064589  0.550522\n",
              "15  0.355089  0.221525\n",
              "16  0.683921 -1.452178\n",
              "17 -0.064860 -1.420648\n",
              "18 -1.427598  0.752225\n",
              "19  0.342315 -0.184245"
            ]
          },
          "metadata": {
            "tags": []
          },
          "execution_count": 201
        }
      ]
    },
    {
      "cell_type": "code",
      "metadata": {
        "id": "f-GtKg0CrqvD",
        "colab_type": "code",
        "colab": {}
      },
      "source": [
        ""
      ],
      "execution_count": null,
      "outputs": []
    },
    {
      "cell_type": "code",
      "metadata": {
        "id": "yZZprePeryps",
        "colab_type": "code",
        "colab": {
          "base_uri": "https://localhost:8080/",
          "height": 87
        },
        "outputId": "28694b10-e78e-4902-9e54-1a4075c95be7"
      },
      "source": [
        "dataframe[2:5]['A']"
      ],
      "execution_count": null,
      "outputs": [
        {
          "output_type": "execute_result",
          "data": {
            "text/plain": [
              "2   -0.887140\n",
              "3    1.950536\n",
              "4    0.848150\n",
              "Name: A, dtype: float64"
            ]
          },
          "metadata": {
            "tags": []
          },
          "execution_count": 202
        }
      ]
    },
    {
      "cell_type": "code",
      "metadata": {
        "id": "oafPKOnDtR-B",
        "colab_type": "code",
        "colab": {
          "base_uri": "https://localhost:8080/",
          "height": 141
        },
        "outputId": "78a99639-6814-4862-a034-6b49804654fc"
      },
      "source": [
        "dataframe[2:5][['A','B','C']]"
      ],
      "execution_count": null,
      "outputs": [
        {
          "output_type": "execute_result",
          "data": {
            "text/html": [
              "<div>\n",
              "<style scoped>\n",
              "    .dataframe tbody tr th:only-of-type {\n",
              "        vertical-align: middle;\n",
              "    }\n",
              "\n",
              "    .dataframe tbody tr th {\n",
              "        vertical-align: top;\n",
              "    }\n",
              "\n",
              "    .dataframe thead th {\n",
              "        text-align: right;\n",
              "    }\n",
              "</style>\n",
              "<table border=\"1\" class=\"dataframe\">\n",
              "  <thead>\n",
              "    <tr style=\"text-align: right;\">\n",
              "      <th></th>\n",
              "      <th>A</th>\n",
              "      <th>B</th>\n",
              "      <th>C</th>\n",
              "    </tr>\n",
              "  </thead>\n",
              "  <tbody>\n",
              "    <tr>\n",
              "      <th>2</th>\n",
              "      <td>-0.887140</td>\n",
              "      <td>-0.164894</td>\n",
              "      <td>1.240438</td>\n",
              "    </tr>\n",
              "    <tr>\n",
              "      <th>3</th>\n",
              "      <td>1.950536</td>\n",
              "      <td>-0.876273</td>\n",
              "      <td>-0.094301</td>\n",
              "    </tr>\n",
              "    <tr>\n",
              "      <th>4</th>\n",
              "      <td>0.848150</td>\n",
              "      <td>0.298579</td>\n",
              "      <td>-0.465975</td>\n",
              "    </tr>\n",
              "  </tbody>\n",
              "</table>\n",
              "</div>"
            ],
            "text/plain": [
              "          A         B         C\n",
              "2 -0.887140 -0.164894  1.240438\n",
              "3  1.950536 -0.876273 -0.094301\n",
              "4  0.848150  0.298579 -0.465975"
            ]
          },
          "metadata": {
            "tags": []
          },
          "execution_count": 204
        }
      ]
    },
    {
      "cell_type": "code",
      "metadata": {
        "id": "L058A1kNtXx0",
        "colab_type": "code",
        "colab": {
          "base_uri": "https://localhost:8080/",
          "height": 171
        },
        "outputId": "e2ba07f8-87ed-4180-84e8-46d5fa7f0cef"
      },
      "source": [
        "dataframe.iloc[[2,3,8,14],[0,1]]"
      ],
      "execution_count": null,
      "outputs": [
        {
          "output_type": "execute_result",
          "data": {
            "text/html": [
              "<div>\n",
              "<style scoped>\n",
              "    .dataframe tbody tr th:only-of-type {\n",
              "        vertical-align: middle;\n",
              "    }\n",
              "\n",
              "    .dataframe tbody tr th {\n",
              "        vertical-align: top;\n",
              "    }\n",
              "\n",
              "    .dataframe thead th {\n",
              "        text-align: right;\n",
              "    }\n",
              "</style>\n",
              "<table border=\"1\" class=\"dataframe\">\n",
              "  <thead>\n",
              "    <tr style=\"text-align: right;\">\n",
              "      <th></th>\n",
              "      <th>A</th>\n",
              "      <th>B</th>\n",
              "    </tr>\n",
              "  </thead>\n",
              "  <tbody>\n",
              "    <tr>\n",
              "      <th>2</th>\n",
              "      <td>-0.887140</td>\n",
              "      <td>-0.164894</td>\n",
              "    </tr>\n",
              "    <tr>\n",
              "      <th>3</th>\n",
              "      <td>1.950536</td>\n",
              "      <td>-0.876273</td>\n",
              "    </tr>\n",
              "    <tr>\n",
              "      <th>8</th>\n",
              "      <td>-0.939794</td>\n",
              "      <td>0.482816</td>\n",
              "    </tr>\n",
              "    <tr>\n",
              "      <th>14</th>\n",
              "      <td>0.064589</td>\n",
              "      <td>0.550522</td>\n",
              "    </tr>\n",
              "  </tbody>\n",
              "</table>\n",
              "</div>"
            ],
            "text/plain": [
              "           A         B\n",
              "2  -0.887140 -0.164894\n",
              "3   1.950536 -0.876273\n",
              "8  -0.939794  0.482816\n",
              "14  0.064589  0.550522"
            ]
          },
          "metadata": {
            "tags": []
          },
          "execution_count": 205
        }
      ]
    },
    {
      "cell_type": "code",
      "metadata": {
        "id": "BYgAh8N3tuZi",
        "colab_type": "code",
        "colab": {
          "base_uri": "https://localhost:8080/",
          "height": 355
        },
        "outputId": "1fade5a5-4534-4b9e-d93c-b3fdc48dfa72"
      },
      "source": [
        "dataframe[dataframe.A>0.1][['A','B','C']]"
      ],
      "execution_count": null,
      "outputs": [
        {
          "output_type": "execute_result",
          "data": {
            "text/html": [
              "<div>\n",
              "<style scoped>\n",
              "    .dataframe tbody tr th:only-of-type {\n",
              "        vertical-align: middle;\n",
              "    }\n",
              "\n",
              "    .dataframe tbody tr th {\n",
              "        vertical-align: top;\n",
              "    }\n",
              "\n",
              "    .dataframe thead th {\n",
              "        text-align: right;\n",
              "    }\n",
              "</style>\n",
              "<table border=\"1\" class=\"dataframe\">\n",
              "  <thead>\n",
              "    <tr style=\"text-align: right;\">\n",
              "      <th></th>\n",
              "      <th>A</th>\n",
              "      <th>B</th>\n",
              "      <th>C</th>\n",
              "    </tr>\n",
              "  </thead>\n",
              "  <tbody>\n",
              "    <tr>\n",
              "      <th>0</th>\n",
              "      <td>0.491696</td>\n",
              "      <td>1.639212</td>\n",
              "      <td>-1.304441</td>\n",
              "    </tr>\n",
              "    <tr>\n",
              "      <th>3</th>\n",
              "      <td>1.950536</td>\n",
              "      <td>-0.876273</td>\n",
              "      <td>-0.094301</td>\n",
              "    </tr>\n",
              "    <tr>\n",
              "      <th>4</th>\n",
              "      <td>0.848150</td>\n",
              "      <td>0.298579</td>\n",
              "      <td>-0.465975</td>\n",
              "    </tr>\n",
              "    <tr>\n",
              "      <th>6</th>\n",
              "      <td>1.035242</td>\n",
              "      <td>0.624416</td>\n",
              "      <td>0.428326</td>\n",
              "    </tr>\n",
              "    <tr>\n",
              "      <th>7</th>\n",
              "      <td>2.274976</td>\n",
              "      <td>-0.379161</td>\n",
              "      <td>0.388391</td>\n",
              "    </tr>\n",
              "    <tr>\n",
              "      <th>12</th>\n",
              "      <td>0.869822</td>\n",
              "      <td>-0.500866</td>\n",
              "      <td>-1.124080</td>\n",
              "    </tr>\n",
              "    <tr>\n",
              "      <th>13</th>\n",
              "      <td>0.150056</td>\n",
              "      <td>0.043467</td>\n",
              "      <td>0.033079</td>\n",
              "    </tr>\n",
              "    <tr>\n",
              "      <th>15</th>\n",
              "      <td>0.355089</td>\n",
              "      <td>0.221525</td>\n",
              "      <td>-0.930877</td>\n",
              "    </tr>\n",
              "    <tr>\n",
              "      <th>16</th>\n",
              "      <td>0.683921</td>\n",
              "      <td>-1.452178</td>\n",
              "      <td>0.973317</td>\n",
              "    </tr>\n",
              "    <tr>\n",
              "      <th>19</th>\n",
              "      <td>0.342315</td>\n",
              "      <td>-0.184245</td>\n",
              "      <td>3.211465</td>\n",
              "    </tr>\n",
              "  </tbody>\n",
              "</table>\n",
              "</div>"
            ],
            "text/plain": [
              "           A         B         C\n",
              "0   0.491696  1.639212 -1.304441\n",
              "3   1.950536 -0.876273 -0.094301\n",
              "4   0.848150  0.298579 -0.465975\n",
              "6   1.035242  0.624416  0.428326\n",
              "7   2.274976 -0.379161  0.388391\n",
              "12  0.869822 -0.500866 -1.124080\n",
              "13  0.150056  0.043467  0.033079\n",
              "15  0.355089  0.221525 -0.930877\n",
              "16  0.683921 -1.452178  0.973317\n",
              "19  0.342315 -0.184245  3.211465"
            ]
          },
          "metadata": {
            "tags": []
          },
          "execution_count": 208
        }
      ]
    },
    {
      "cell_type": "code",
      "metadata": {
        "id": "62mBESvhur07",
        "colab_type": "code",
        "colab": {
          "base_uri": "https://localhost:8080/",
          "height": 79
        },
        "outputId": "72ba068b-1cb9-469b-9dcb-620166f70754"
      },
      "source": [
        "dataframe[(dataframe.A>0.1) & (dataframe.A<0.2 )][['A','B','C']]"
      ],
      "execution_count": null,
      "outputs": [
        {
          "output_type": "execute_result",
          "data": {
            "text/html": [
              "<div>\n",
              "<style scoped>\n",
              "    .dataframe tbody tr th:only-of-type {\n",
              "        vertical-align: middle;\n",
              "    }\n",
              "\n",
              "    .dataframe tbody tr th {\n",
              "        vertical-align: top;\n",
              "    }\n",
              "\n",
              "    .dataframe thead th {\n",
              "        text-align: right;\n",
              "    }\n",
              "</style>\n",
              "<table border=\"1\" class=\"dataframe\">\n",
              "  <thead>\n",
              "    <tr style=\"text-align: right;\">\n",
              "      <th></th>\n",
              "      <th>A</th>\n",
              "      <th>B</th>\n",
              "      <th>C</th>\n",
              "    </tr>\n",
              "  </thead>\n",
              "  <tbody>\n",
              "    <tr>\n",
              "      <th>13</th>\n",
              "      <td>0.150056</td>\n",
              "      <td>0.043467</td>\n",
              "      <td>0.033079</td>\n",
              "    </tr>\n",
              "  </tbody>\n",
              "</table>\n",
              "</div>"
            ],
            "text/plain": [
              "           A         B         C\n",
              "13  0.150056  0.043467  0.033079"
            ]
          },
          "metadata": {
            "tags": []
          },
          "execution_count": 216
        }
      ]
    },
    {
      "cell_type": "code",
      "metadata": {
        "id": "7kS8r5F4u6t7",
        "colab_type": "code",
        "colab": {
          "base_uri": "https://localhost:8080/",
          "height": 233
        },
        "outputId": "3aae35e7-a494-4495-ce78-fa7808d455b0"
      },
      "source": [
        "dataframe[(dataframe.A>0.1) & (dataframe.B<0.2 )][['A','B','C']]"
      ],
      "execution_count": null,
      "outputs": [
        {
          "output_type": "execute_result",
          "data": {
            "text/html": [
              "<div>\n",
              "<style scoped>\n",
              "    .dataframe tbody tr th:only-of-type {\n",
              "        vertical-align: middle;\n",
              "    }\n",
              "\n",
              "    .dataframe tbody tr th {\n",
              "        vertical-align: top;\n",
              "    }\n",
              "\n",
              "    .dataframe thead th {\n",
              "        text-align: right;\n",
              "    }\n",
              "</style>\n",
              "<table border=\"1\" class=\"dataframe\">\n",
              "  <thead>\n",
              "    <tr style=\"text-align: right;\">\n",
              "      <th></th>\n",
              "      <th>A</th>\n",
              "      <th>B</th>\n",
              "      <th>C</th>\n",
              "    </tr>\n",
              "  </thead>\n",
              "  <tbody>\n",
              "    <tr>\n",
              "      <th>3</th>\n",
              "      <td>1.950536</td>\n",
              "      <td>-0.876273</td>\n",
              "      <td>-0.094301</td>\n",
              "    </tr>\n",
              "    <tr>\n",
              "      <th>7</th>\n",
              "      <td>2.274976</td>\n",
              "      <td>-0.379161</td>\n",
              "      <td>0.388391</td>\n",
              "    </tr>\n",
              "    <tr>\n",
              "      <th>12</th>\n",
              "      <td>0.869822</td>\n",
              "      <td>-0.500866</td>\n",
              "      <td>-1.124080</td>\n",
              "    </tr>\n",
              "    <tr>\n",
              "      <th>13</th>\n",
              "      <td>0.150056</td>\n",
              "      <td>0.043467</td>\n",
              "      <td>0.033079</td>\n",
              "    </tr>\n",
              "    <tr>\n",
              "      <th>16</th>\n",
              "      <td>0.683921</td>\n",
              "      <td>-1.452178</td>\n",
              "      <td>0.973317</td>\n",
              "    </tr>\n",
              "    <tr>\n",
              "      <th>19</th>\n",
              "      <td>0.342315</td>\n",
              "      <td>-0.184245</td>\n",
              "      <td>3.211465</td>\n",
              "    </tr>\n",
              "  </tbody>\n",
              "</table>\n",
              "</div>"
            ],
            "text/plain": [
              "           A         B         C\n",
              "3   1.950536 -0.876273 -0.094301\n",
              "7   2.274976 -0.379161  0.388391\n",
              "12  0.869822 -0.500866 -1.124080\n",
              "13  0.150056  0.043467  0.033079\n",
              "16  0.683921 -1.452178  0.973317\n",
              "19  0.342315 -0.184245  3.211465"
            ]
          },
          "metadata": {
            "tags": []
          },
          "execution_count": 217
        }
      ]
    },
    {
      "cell_type": "code",
      "metadata": {
        "id": "u9lrwypwwJkx",
        "colab_type": "code",
        "colab": {
          "base_uri": "https://localhost:8080/",
          "height": 121
        },
        "outputId": "a893b578-4283-4de9-bfe4-e31886ee1bdd"
      },
      "source": [
        "dataframe=dataframe.drop('C',axis=1)\n",
        "print(dataframe.head())"
      ],
      "execution_count": null,
      "outputs": [
        {
          "output_type": "stream",
          "text": [
            "          A         B         D         E\n",
            "0  0.491696  1.639212 -1.359193  1.455568\n",
            "1 -1.560374 -1.706681 -1.159303  0.227028\n",
            "2 -0.887140 -0.164894  0.429743 -1.069185\n",
            "3  1.950536 -0.876273  0.194155  1.538443\n",
            "4  0.848150  0.298579  2.147101 -1.749231\n"
          ],
          "name": "stdout"
        }
      ]
    },
    {
      "cell_type": "code",
      "metadata": {
        "id": "BJApt4d9xzpv",
        "colab_type": "code",
        "colab": {
          "base_uri": "https://localhost:8080/",
          "height": 121
        },
        "outputId": "6810eee7-ab56-4c2e-aad3-7c50bf520353"
      },
      "source": [
        "dataframe=dataframe.rename(columns={'A':'ID'})\n",
        "print(dataframe.head())"
      ],
      "execution_count": null,
      "outputs": [
        {
          "output_type": "stream",
          "text": [
            "         ID         B         D         E\n",
            "0  0.491696  1.639212 -1.359193  1.455568\n",
            "1 -1.560374 -1.706681 -1.159303  0.227028\n",
            "2 -0.887140 -0.164894  0.429743 -1.069185\n",
            "3  1.950536 -0.876273  0.194155  1.538443\n",
            "4  0.848150  0.298579  2.147101 -1.749231\n"
          ],
          "name": "stdout"
        }
      ]
    },
    {
      "cell_type": "code",
      "metadata": {
        "id": "8GT8zDUgzWsp",
        "colab_type": "code",
        "colab": {
          "base_uri": "https://localhost:8080/",
          "height": 171
        },
        "outputId": "b8b5dfa0-bb10-45f9-f576-de4a962ab04f"
      },
      "source": [
        "df = pd.DataFrame({'class': ['a', 'a', 'b', 'b'],\n",
        "                   'class_Name': ['Marker', 'Marker', \n",
        "                                  'Projector', 'Projector'],\n",
        "                         'quantity':[12, 10, 3, 6],\n",
        "                         'price':[120, 100, 30, 60]})\n",
        "df"
      ],
      "execution_count": null,
      "outputs": [
        {
          "output_type": "execute_result",
          "data": {
            "text/html": [
              "<div>\n",
              "<style scoped>\n",
              "    .dataframe tbody tr th:only-of-type {\n",
              "        vertical-align: middle;\n",
              "    }\n",
              "\n",
              "    .dataframe tbody tr th {\n",
              "        vertical-align: top;\n",
              "    }\n",
              "\n",
              "    .dataframe thead th {\n",
              "        text-align: right;\n",
              "    }\n",
              "</style>\n",
              "<table border=\"1\" class=\"dataframe\">\n",
              "  <thead>\n",
              "    <tr style=\"text-align: right;\">\n",
              "      <th></th>\n",
              "      <th>class</th>\n",
              "      <th>class_Name</th>\n",
              "      <th>quantity</th>\n",
              "      <th>price</th>\n",
              "    </tr>\n",
              "  </thead>\n",
              "  <tbody>\n",
              "    <tr>\n",
              "      <th>0</th>\n",
              "      <td>a</td>\n",
              "      <td>Marker</td>\n",
              "      <td>12</td>\n",
              "      <td>120</td>\n",
              "    </tr>\n",
              "    <tr>\n",
              "      <th>1</th>\n",
              "      <td>a</td>\n",
              "      <td>Marker</td>\n",
              "      <td>10</td>\n",
              "      <td>100</td>\n",
              "    </tr>\n",
              "    <tr>\n",
              "      <th>2</th>\n",
              "      <td>b</td>\n",
              "      <td>Projector</td>\n",
              "      <td>3</td>\n",
              "      <td>30</td>\n",
              "    </tr>\n",
              "    <tr>\n",
              "      <th>3</th>\n",
              "      <td>b</td>\n",
              "      <td>Projector</td>\n",
              "      <td>6</td>\n",
              "      <td>60</td>\n",
              "    </tr>\n",
              "  </tbody>\n",
              "</table>\n",
              "</div>"
            ],
            "text/plain": [
              "  class class_Name  quantity  price\n",
              "0     a     Marker        12    120\n",
              "1     a     Marker        10    100\n",
              "2     b  Projector         3     30\n",
              "3     b  Projector         6     60"
            ]
          },
          "metadata": {
            "tags": []
          },
          "execution_count": 223
        }
      ]
    },
    {
      "cell_type": "code",
      "metadata": {
        "id": "TDFb8x4ByGvv",
        "colab_type": "code",
        "colab": {
          "base_uri": "https://localhost:8080/",
          "height": 141
        },
        "outputId": "dbb35dcd-8b6e-40f4-ce0c-b73e2fcca9e7"
      },
      "source": [
        "grouped = df.groupby('class')\n",
        "grouped.mean()"
      ],
      "execution_count": null,
      "outputs": [
        {
          "output_type": "execute_result",
          "data": {
            "text/html": [
              "<div>\n",
              "<style scoped>\n",
              "    .dataframe tbody tr th:only-of-type {\n",
              "        vertical-align: middle;\n",
              "    }\n",
              "\n",
              "    .dataframe tbody tr th {\n",
              "        vertical-align: top;\n",
              "    }\n",
              "\n",
              "    .dataframe thead th {\n",
              "        text-align: right;\n",
              "    }\n",
              "</style>\n",
              "<table border=\"1\" class=\"dataframe\">\n",
              "  <thead>\n",
              "    <tr style=\"text-align: right;\">\n",
              "      <th></th>\n",
              "      <th>quantity</th>\n",
              "      <th>price</th>\n",
              "    </tr>\n",
              "    <tr>\n",
              "      <th>class</th>\n",
              "      <th></th>\n",
              "      <th></th>\n",
              "    </tr>\n",
              "  </thead>\n",
              "  <tbody>\n",
              "    <tr>\n",
              "      <th>a</th>\n",
              "      <td>11.0</td>\n",
              "      <td>110.0</td>\n",
              "    </tr>\n",
              "    <tr>\n",
              "      <th>b</th>\n",
              "      <td>4.5</td>\n",
              "      <td>45.0</td>\n",
              "    </tr>\n",
              "  </tbody>\n",
              "</table>\n",
              "</div>"
            ],
            "text/plain": [
              "       quantity  price\n",
              "class                 \n",
              "a          11.0  110.0\n",
              "b           4.5   45.0"
            ]
          },
          "metadata": {
            "tags": []
          },
          "execution_count": 224
        }
      ]
    },
    {
      "cell_type": "code",
      "metadata": {
        "id": "qZk-jQ_B1hCr",
        "colab_type": "code",
        "colab": {
          "base_uri": "https://localhost:8080/",
          "height": 141
        },
        "outputId": "67c39296-9db9-4162-e130-0ea80fcf0984"
      },
      "source": [
        "df[['quantity','class']].groupby('class').mean()"
      ],
      "execution_count": null,
      "outputs": [
        {
          "output_type": "execute_result",
          "data": {
            "text/html": [
              "<div>\n",
              "<style scoped>\n",
              "    .dataframe tbody tr th:only-of-type {\n",
              "        vertical-align: middle;\n",
              "    }\n",
              "\n",
              "    .dataframe tbody tr th {\n",
              "        vertical-align: top;\n",
              "    }\n",
              "\n",
              "    .dataframe thead th {\n",
              "        text-align: right;\n",
              "    }\n",
              "</style>\n",
              "<table border=\"1\" class=\"dataframe\">\n",
              "  <thead>\n",
              "    <tr style=\"text-align: right;\">\n",
              "      <th></th>\n",
              "      <th>quantity</th>\n",
              "    </tr>\n",
              "    <tr>\n",
              "      <th>class</th>\n",
              "      <th></th>\n",
              "    </tr>\n",
              "  </thead>\n",
              "  <tbody>\n",
              "    <tr>\n",
              "      <th>a</th>\n",
              "      <td>11.0</td>\n",
              "    </tr>\n",
              "    <tr>\n",
              "      <th>b</th>\n",
              "      <td>4.5</td>\n",
              "    </tr>\n",
              "  </tbody>\n",
              "</table>\n",
              "</div>"
            ],
            "text/plain": [
              "       quantity\n",
              "class          \n",
              "a          11.0\n",
              "b           4.5"
            ]
          },
          "metadata": {
            "tags": []
          },
          "execution_count": 225
        }
      ]
    },
    {
      "cell_type": "code",
      "metadata": {
        "id": "r56Hn22312yT",
        "colab_type": "code",
        "colab": {
          "base_uri": "https://localhost:8080/",
          "height": 141
        },
        "outputId": "12c0ea16-50f7-4aa3-dc53-874194cea93c"
      },
      "source": [
        "df.groupby('class').agg({'quantity':np.sum,'price':np.mean})"
      ],
      "execution_count": null,
      "outputs": [
        {
          "output_type": "execute_result",
          "data": {
            "text/html": [
              "<div>\n",
              "<style scoped>\n",
              "    .dataframe tbody tr th:only-of-type {\n",
              "        vertical-align: middle;\n",
              "    }\n",
              "\n",
              "    .dataframe tbody tr th {\n",
              "        vertical-align: top;\n",
              "    }\n",
              "\n",
              "    .dataframe thead th {\n",
              "        text-align: right;\n",
              "    }\n",
              "</style>\n",
              "<table border=\"1\" class=\"dataframe\">\n",
              "  <thead>\n",
              "    <tr style=\"text-align: right;\">\n",
              "      <th></th>\n",
              "      <th>quantity</th>\n",
              "      <th>price</th>\n",
              "    </tr>\n",
              "    <tr>\n",
              "      <th>class</th>\n",
              "      <th></th>\n",
              "      <th></th>\n",
              "    </tr>\n",
              "  </thead>\n",
              "  <tbody>\n",
              "    <tr>\n",
              "      <th>a</th>\n",
              "      <td>22</td>\n",
              "      <td>110</td>\n",
              "    </tr>\n",
              "    <tr>\n",
              "      <th>b</th>\n",
              "      <td>9</td>\n",
              "      <td>45</td>\n",
              "    </tr>\n",
              "  </tbody>\n",
              "</table>\n",
              "</div>"
            ],
            "text/plain": [
              "       quantity  price\n",
              "class                 \n",
              "a            22    110\n",
              "b             9     45"
            ]
          },
          "metadata": {
            "tags": []
          },
          "execution_count": 226
        }
      ]
    },
    {
      "cell_type": "code",
      "metadata": {
        "id": "5Rjl-rnb2H6J",
        "colab_type": "code",
        "colab": {
          "base_uri": "https://localhost:8080/",
          "height": 171
        },
        "outputId": "de723b96-dfed-482c-bf02-607368631b83"
      },
      "source": [
        "df.groupby('class').agg([\"mean\",\"sum\",\"std\"])"
      ],
      "execution_count": null,
      "outputs": [
        {
          "output_type": "execute_result",
          "data": {
            "text/html": [
              "<div>\n",
              "<style scoped>\n",
              "    .dataframe tbody tr th:only-of-type {\n",
              "        vertical-align: middle;\n",
              "    }\n",
              "\n",
              "    .dataframe tbody tr th {\n",
              "        vertical-align: top;\n",
              "    }\n",
              "\n",
              "    .dataframe thead tr th {\n",
              "        text-align: left;\n",
              "    }\n",
              "\n",
              "    .dataframe thead tr:last-of-type th {\n",
              "        text-align: right;\n",
              "    }\n",
              "</style>\n",
              "<table border=\"1\" class=\"dataframe\">\n",
              "  <thead>\n",
              "    <tr>\n",
              "      <th></th>\n",
              "      <th colspan=\"3\" halign=\"left\">quantity</th>\n",
              "      <th colspan=\"3\" halign=\"left\">price</th>\n",
              "    </tr>\n",
              "    <tr>\n",
              "      <th></th>\n",
              "      <th>mean</th>\n",
              "      <th>sum</th>\n",
              "      <th>std</th>\n",
              "      <th>mean</th>\n",
              "      <th>sum</th>\n",
              "      <th>std</th>\n",
              "    </tr>\n",
              "    <tr>\n",
              "      <th>class</th>\n",
              "      <th></th>\n",
              "      <th></th>\n",
              "      <th></th>\n",
              "      <th></th>\n",
              "      <th></th>\n",
              "      <th></th>\n",
              "    </tr>\n",
              "  </thead>\n",
              "  <tbody>\n",
              "    <tr>\n",
              "      <th>a</th>\n",
              "      <td>11.0</td>\n",
              "      <td>22</td>\n",
              "      <td>1.414214</td>\n",
              "      <td>110</td>\n",
              "      <td>220</td>\n",
              "      <td>14.142136</td>\n",
              "    </tr>\n",
              "    <tr>\n",
              "      <th>b</th>\n",
              "      <td>4.5</td>\n",
              "      <td>9</td>\n",
              "      <td>2.121320</td>\n",
              "      <td>45</td>\n",
              "      <td>90</td>\n",
              "      <td>21.213203</td>\n",
              "    </tr>\n",
              "  </tbody>\n",
              "</table>\n",
              "</div>"
            ],
            "text/plain": [
              "      quantity               price                \n",
              "          mean sum       std  mean  sum        std\n",
              "class                                             \n",
              "a         11.0  22  1.414214   110  220  14.142136\n",
              "b          4.5   9  2.121320    45   90  21.213203"
            ]
          },
          "metadata": {
            "tags": []
          },
          "execution_count": 227
        }
      ]
    },
    {
      "cell_type": "code",
      "metadata": {
        "id": "2CsVqs5x2tfz",
        "colab_type": "code",
        "colab": {
          "base_uri": "https://localhost:8080/",
          "height": 171
        },
        "outputId": "b2b900e9-58fd-41bf-86d6-5886d9d93948"
      },
      "source": [
        "df.groupby('class').agg({'quantity':\"max\",'price':[np.mean,np.sum]})"
      ],
      "execution_count": null,
      "outputs": [
        {
          "output_type": "execute_result",
          "data": {
            "text/html": [
              "<div>\n",
              "<style scoped>\n",
              "    .dataframe tbody tr th:only-of-type {\n",
              "        vertical-align: middle;\n",
              "    }\n",
              "\n",
              "    .dataframe tbody tr th {\n",
              "        vertical-align: top;\n",
              "    }\n",
              "\n",
              "    .dataframe thead tr th {\n",
              "        text-align: left;\n",
              "    }\n",
              "\n",
              "    .dataframe thead tr:last-of-type th {\n",
              "        text-align: right;\n",
              "    }\n",
              "</style>\n",
              "<table border=\"1\" class=\"dataframe\">\n",
              "  <thead>\n",
              "    <tr>\n",
              "      <th></th>\n",
              "      <th>quantity</th>\n",
              "      <th colspan=\"2\" halign=\"left\">price</th>\n",
              "    </tr>\n",
              "    <tr>\n",
              "      <th></th>\n",
              "      <th>max</th>\n",
              "      <th>mean</th>\n",
              "      <th>sum</th>\n",
              "    </tr>\n",
              "    <tr>\n",
              "      <th>class</th>\n",
              "      <th></th>\n",
              "      <th></th>\n",
              "      <th></th>\n",
              "    </tr>\n",
              "  </thead>\n",
              "  <tbody>\n",
              "    <tr>\n",
              "      <th>a</th>\n",
              "      <td>12</td>\n",
              "      <td>110</td>\n",
              "      <td>220</td>\n",
              "    </tr>\n",
              "    <tr>\n",
              "      <th>b</th>\n",
              "      <td>6</td>\n",
              "      <td>45</td>\n",
              "      <td>90</td>\n",
              "    </tr>\n",
              "  </tbody>\n",
              "</table>\n",
              "</div>"
            ],
            "text/plain": [
              "      quantity price     \n",
              "           max  mean  sum\n",
              "class                    \n",
              "a           12   110  220\n",
              "b            6    45   90"
            ]
          },
          "metadata": {
            "tags": []
          },
          "execution_count": 228
        }
      ]
    },
    {
      "cell_type": "code",
      "metadata": {
        "id": "mJnwt-Hw3ktj",
        "colab_type": "code",
        "colab": {
          "base_uri": "https://localhost:8080/",
          "height": 381
        },
        "outputId": "d9ce1721-61c6-4e25-dda6-5acb961d9a18"
      },
      "source": [
        "dataframe.apply(np.mean,axis=1)"
      ],
      "execution_count": null,
      "outputs": [
        {
          "output_type": "execute_result",
          "data": {
            "text/plain": [
              "0     0.556821\n",
              "1    -1.049833\n",
              "2    -0.422869\n",
              "3     0.701715\n",
              "4     0.386150\n",
              "5    -0.355527\n",
              "6     0.125736\n",
              "7    -0.004455\n",
              "8    -0.124529\n",
              "9     0.250553\n",
              "10    0.070571\n",
              "11    0.360571\n",
              "12    0.190255\n",
              "13    0.010688\n",
              "14    0.039945\n",
              "15   -0.183573\n",
              "16   -0.166033\n",
              "17   -0.559321\n",
              "18   -0.524980\n",
              "19   -0.063085\n",
              "dtype: float64"
            ]
          },
          "metadata": {
            "tags": []
          },
          "execution_count": 230
        }
      ]
    },
    {
      "cell_type": "code",
      "metadata": {
        "id": "PaCobTxZ9eCE",
        "colab_type": "code",
        "colab": {
          "base_uri": "https://localhost:8080/",
          "height": 662
        },
        "outputId": "89794fb0-ffcc-40cc-eab6-2a0ef628055b"
      },
      "source": [
        "dataframe.apply(lambda x:x*2,axis=1)"
      ],
      "execution_count": null,
      "outputs": [
        {
          "output_type": "execute_result",
          "data": {
            "text/html": [
              "<div>\n",
              "<style scoped>\n",
              "    .dataframe tbody tr th:only-of-type {\n",
              "        vertical-align: middle;\n",
              "    }\n",
              "\n",
              "    .dataframe tbody tr th {\n",
              "        vertical-align: top;\n",
              "    }\n",
              "\n",
              "    .dataframe thead th {\n",
              "        text-align: right;\n",
              "    }\n",
              "</style>\n",
              "<table border=\"1\" class=\"dataframe\">\n",
              "  <thead>\n",
              "    <tr style=\"text-align: right;\">\n",
              "      <th></th>\n",
              "      <th>ID</th>\n",
              "      <th>B</th>\n",
              "      <th>D</th>\n",
              "      <th>E</th>\n",
              "    </tr>\n",
              "  </thead>\n",
              "  <tbody>\n",
              "    <tr>\n",
              "      <th>0</th>\n",
              "      <td>0.983392</td>\n",
              "      <td>3.278424</td>\n",
              "      <td>-2.718386</td>\n",
              "      <td>2.911135</td>\n",
              "    </tr>\n",
              "    <tr>\n",
              "      <th>1</th>\n",
              "      <td>-3.120748</td>\n",
              "      <td>-3.413363</td>\n",
              "      <td>-2.318606</td>\n",
              "      <td>0.454055</td>\n",
              "    </tr>\n",
              "    <tr>\n",
              "      <th>2</th>\n",
              "      <td>-1.774280</td>\n",
              "      <td>-0.329788</td>\n",
              "      <td>0.859487</td>\n",
              "      <td>-2.138370</td>\n",
              "    </tr>\n",
              "    <tr>\n",
              "      <th>3</th>\n",
              "      <td>3.901073</td>\n",
              "      <td>-1.752545</td>\n",
              "      <td>0.388310</td>\n",
              "      <td>3.076885</td>\n",
              "    </tr>\n",
              "    <tr>\n",
              "      <th>4</th>\n",
              "      <td>1.696300</td>\n",
              "      <td>0.597158</td>\n",
              "      <td>4.294202</td>\n",
              "      <td>-3.498463</td>\n",
              "    </tr>\n",
              "    <tr>\n",
              "      <th>5</th>\n",
              "      <td>0.136929</td>\n",
              "      <td>0.593772</td>\n",
              "      <td>0.172228</td>\n",
              "      <td>-3.747141</td>\n",
              "    </tr>\n",
              "    <tr>\n",
              "      <th>6</th>\n",
              "      <td>2.070484</td>\n",
              "      <td>1.248833</td>\n",
              "      <td>0.878812</td>\n",
              "      <td>-3.192244</td>\n",
              "    </tr>\n",
              "    <tr>\n",
              "      <th>7</th>\n",
              "      <td>4.549952</td>\n",
              "      <td>-0.758321</td>\n",
              "      <td>-5.699114</td>\n",
              "      <td>1.871844</td>\n",
              "    </tr>\n",
              "    <tr>\n",
              "      <th>8</th>\n",
              "      <td>-1.879589</td>\n",
              "      <td>0.965631</td>\n",
              "      <td>-2.022310</td>\n",
              "      <td>1.940032</td>\n",
              "    </tr>\n",
              "    <tr>\n",
              "      <th>9</th>\n",
              "      <td>-1.194327</td>\n",
              "      <td>0.445866</td>\n",
              "      <td>1.768707</td>\n",
              "      <td>0.984181</td>\n",
              "    </tr>\n",
              "    <tr>\n",
              "      <th>10</th>\n",
              "      <td>-0.205961</td>\n",
              "      <td>2.213672</td>\n",
              "      <td>0.405163</td>\n",
              "      <td>-1.848308</td>\n",
              "    </tr>\n",
              "    <tr>\n",
              "      <th>11</th>\n",
              "      <td>-0.188366</td>\n",
              "      <td>2.045703</td>\n",
              "      <td>2.333522</td>\n",
              "      <td>-1.306288</td>\n",
              "    </tr>\n",
              "    <tr>\n",
              "      <th>12</th>\n",
              "      <td>1.739645</td>\n",
              "      <td>-1.001733</td>\n",
              "      <td>0.240336</td>\n",
              "      <td>0.543796</td>\n",
              "    </tr>\n",
              "    <tr>\n",
              "      <th>13</th>\n",
              "      <td>0.300113</td>\n",
              "      <td>0.086935</td>\n",
              "      <td>3.052092</td>\n",
              "      <td>-3.353636</td>\n",
              "    </tr>\n",
              "    <tr>\n",
              "      <th>14</th>\n",
              "      <td>0.129179</td>\n",
              "      <td>1.101043</td>\n",
              "      <td>-1.982550</td>\n",
              "      <td>1.071886</td>\n",
              "    </tr>\n",
              "    <tr>\n",
              "      <th>15</th>\n",
              "      <td>0.710178</td>\n",
              "      <td>0.443049</td>\n",
              "      <td>-0.070717</td>\n",
              "      <td>-2.551098</td>\n",
              "    </tr>\n",
              "    <tr>\n",
              "      <th>16</th>\n",
              "      <td>1.367843</td>\n",
              "      <td>-2.904355</td>\n",
              "      <td>-0.452247</td>\n",
              "      <td>0.660497</td>\n",
              "    </tr>\n",
              "    <tr>\n",
              "      <th>17</th>\n",
              "      <td>-0.129719</td>\n",
              "      <td>-2.841296</td>\n",
              "      <td>-0.172297</td>\n",
              "      <td>-1.331253</td>\n",
              "    </tr>\n",
              "    <tr>\n",
              "      <th>18</th>\n",
              "      <td>-2.855196</td>\n",
              "      <td>1.504450</td>\n",
              "      <td>-1.771355</td>\n",
              "      <td>-1.077737</td>\n",
              "    </tr>\n",
              "    <tr>\n",
              "      <th>19</th>\n",
              "      <td>0.684630</td>\n",
              "      <td>-0.368490</td>\n",
              "      <td>0.305089</td>\n",
              "      <td>-1.125909</td>\n",
              "    </tr>\n",
              "  </tbody>\n",
              "</table>\n",
              "</div>"
            ],
            "text/plain": [
              "          ID         B         D         E\n",
              "0   0.983392  3.278424 -2.718386  2.911135\n",
              "1  -3.120748 -3.413363 -2.318606  0.454055\n",
              "2  -1.774280 -0.329788  0.859487 -2.138370\n",
              "3   3.901073 -1.752545  0.388310  3.076885\n",
              "4   1.696300  0.597158  4.294202 -3.498463\n",
              "5   0.136929  0.593772  0.172228 -3.747141\n",
              "6   2.070484  1.248833  0.878812 -3.192244\n",
              "7   4.549952 -0.758321 -5.699114  1.871844\n",
              "8  -1.879589  0.965631 -2.022310  1.940032\n",
              "9  -1.194327  0.445866  1.768707  0.984181\n",
              "10 -0.205961  2.213672  0.405163 -1.848308\n",
              "11 -0.188366  2.045703  2.333522 -1.306288\n",
              "12  1.739645 -1.001733  0.240336  0.543796\n",
              "13  0.300113  0.086935  3.052092 -3.353636\n",
              "14  0.129179  1.101043 -1.982550  1.071886\n",
              "15  0.710178  0.443049 -0.070717 -2.551098\n",
              "16  1.367843 -2.904355 -0.452247  0.660497\n",
              "17 -0.129719 -2.841296 -0.172297 -1.331253\n",
              "18 -2.855196  1.504450 -1.771355 -1.077737\n",
              "19  0.684630 -0.368490  0.305089 -1.125909"
            ]
          },
          "metadata": {
            "tags": []
          },
          "execution_count": 231
        }
      ]
    },
    {
      "cell_type": "code",
      "metadata": {
        "id": "4RY_t23S-WvE",
        "colab_type": "code",
        "colab": {
          "base_uri": "https://localhost:8080/",
          "height": 202
        },
        "outputId": "b31bbe89-b2ff-49af-a8a2-e54a9cde5a30"
      },
      "source": [
        "dataframe.head().apply(lambda x:x*2,axis=0)"
      ],
      "execution_count": null,
      "outputs": [
        {
          "output_type": "execute_result",
          "data": {
            "text/html": [
              "<div>\n",
              "<style scoped>\n",
              "    .dataframe tbody tr th:only-of-type {\n",
              "        vertical-align: middle;\n",
              "    }\n",
              "\n",
              "    .dataframe tbody tr th {\n",
              "        vertical-align: top;\n",
              "    }\n",
              "\n",
              "    .dataframe thead th {\n",
              "        text-align: right;\n",
              "    }\n",
              "</style>\n",
              "<table border=\"1\" class=\"dataframe\">\n",
              "  <thead>\n",
              "    <tr style=\"text-align: right;\">\n",
              "      <th></th>\n",
              "      <th>ID</th>\n",
              "      <th>B</th>\n",
              "      <th>D</th>\n",
              "      <th>E</th>\n",
              "    </tr>\n",
              "  </thead>\n",
              "  <tbody>\n",
              "    <tr>\n",
              "      <th>0</th>\n",
              "      <td>0.983392</td>\n",
              "      <td>3.278424</td>\n",
              "      <td>-2.718386</td>\n",
              "      <td>2.911135</td>\n",
              "    </tr>\n",
              "    <tr>\n",
              "      <th>1</th>\n",
              "      <td>-3.120748</td>\n",
              "      <td>-3.413363</td>\n",
              "      <td>-2.318606</td>\n",
              "      <td>0.454055</td>\n",
              "    </tr>\n",
              "    <tr>\n",
              "      <th>2</th>\n",
              "      <td>-1.774280</td>\n",
              "      <td>-0.329788</td>\n",
              "      <td>0.859487</td>\n",
              "      <td>-2.138370</td>\n",
              "    </tr>\n",
              "    <tr>\n",
              "      <th>3</th>\n",
              "      <td>3.901073</td>\n",
              "      <td>-1.752545</td>\n",
              "      <td>0.388310</td>\n",
              "      <td>3.076885</td>\n",
              "    </tr>\n",
              "    <tr>\n",
              "      <th>4</th>\n",
              "      <td>1.696300</td>\n",
              "      <td>0.597158</td>\n",
              "      <td>4.294202</td>\n",
              "      <td>-3.498463</td>\n",
              "    </tr>\n",
              "  </tbody>\n",
              "</table>\n",
              "</div>"
            ],
            "text/plain": [
              "         ID         B         D         E\n",
              "0  0.983392  3.278424 -2.718386  2.911135\n",
              "1 -3.120748 -3.413363 -2.318606  0.454055\n",
              "2 -1.774280 -0.329788  0.859487 -2.138370\n",
              "3  3.901073 -1.752545  0.388310  3.076885\n",
              "4  1.696300  0.597158  4.294202 -3.498463"
            ]
          },
          "metadata": {
            "tags": []
          },
          "execution_count": 232
        }
      ]
    },
    {
      "cell_type": "code",
      "metadata": {
        "id": "B5qDG-VP-9oC",
        "colab_type": "code",
        "colab": {}
      },
      "source": [
        "#inner join\n",
        "#outer join...."
      ],
      "execution_count": null,
      "outputs": []
    },
    {
      "cell_type": "markdown",
      "metadata": {
        "id": "6udXT7rsA9qB",
        "colab_type": "text"
      },
      "source": [
        "JOINS\n",
        "----------------\n",
        "Emp                        Dept\n",
        "-------------------      -----------\n",
        "empid  deptid            deptid deptname\n",
        "100     A10              A10    \"Manuf\"\n",
        "200     A10              A20    \"Prod\"\n",
        "300     A20              A40    \"IT\"\n",
        "400     A30\n",
        "List the employee ids and the correspondiing names of department\n",
        "inner\n",
        "empid   deptid   deptname\n",
        "100      A10     \"Manuf\"\n",
        "200      A10     \"Manuf\"\n",
        "300      A20     \"Prod\"\n",
        "left outer\n",
        "100      A10     \"Manuf\"\n",
        "200      A10     \"Manuf\"\n",
        "300      A20     \"Prod\"\n",
        "400      A30      NaN\n",
        "right outer\n",
        "100      A10     \"Manuf\"\n",
        "200      A10     \"Manuf\"\n",
        "300      A20     \"Prod\"\n",
        "NaN      A40     \"IT\"\n",
        "full outer\n",
        "100      A10     \"Manuf\"\n",
        "200      A10     \"Manuf\"\n",
        "300      A20     \"Prod\"\n",
        "400      A30      NaN\n",
        "NaN      A40     \"IT\""
      ]
    },
    {
      "cell_type": "code",
      "metadata": {
        "id": "vshIO8TXBK8e",
        "colab_type": "code",
        "colab": {}
      },
      "source": [
        "df1  = pd.DataFrame({'key1': ['a', 'b','e','f'], 'val1': [1, 2,9,10]})\n",
        "df2 = pd.DataFrame({'key2': ['a', 'b','c','d'], 'val2': [4, 5,6,7]})"
      ],
      "execution_count": null,
      "outputs": []
    },
    {
      "cell_type": "code",
      "metadata": {
        "id": "h2edzigKBO1J",
        "colab_type": "code",
        "colab": {
          "base_uri": "https://localhost:8080/",
          "height": 110
        },
        "outputId": "d72552a7-4288-4875-99ee-1143e774d10a"
      },
      "source": [
        "#merge method for join\n",
        "pd.merge(df1,df2,left_on=\"key1\",right_on=\"key2\",how=\"inner\")"
      ],
      "execution_count": null,
      "outputs": [
        {
          "output_type": "execute_result",
          "data": {
            "text/html": [
              "<div>\n",
              "<style scoped>\n",
              "    .dataframe tbody tr th:only-of-type {\n",
              "        vertical-align: middle;\n",
              "    }\n",
              "\n",
              "    .dataframe tbody tr th {\n",
              "        vertical-align: top;\n",
              "    }\n",
              "\n",
              "    .dataframe thead th {\n",
              "        text-align: right;\n",
              "    }\n",
              "</style>\n",
              "<table border=\"1\" class=\"dataframe\">\n",
              "  <thead>\n",
              "    <tr style=\"text-align: right;\">\n",
              "      <th></th>\n",
              "      <th>key1</th>\n",
              "      <th>val1</th>\n",
              "      <th>key2</th>\n",
              "      <th>val2</th>\n",
              "    </tr>\n",
              "  </thead>\n",
              "  <tbody>\n",
              "    <tr>\n",
              "      <th>0</th>\n",
              "      <td>a</td>\n",
              "      <td>1</td>\n",
              "      <td>a</td>\n",
              "      <td>4</td>\n",
              "    </tr>\n",
              "    <tr>\n",
              "      <th>1</th>\n",
              "      <td>b</td>\n",
              "      <td>2</td>\n",
              "      <td>b</td>\n",
              "      <td>5</td>\n",
              "    </tr>\n",
              "  </tbody>\n",
              "</table>\n",
              "</div>"
            ],
            "text/plain": [
              "  key1  val1 key2  val2\n",
              "0    a     1    a     4\n",
              "1    b     2    b     5"
            ]
          },
          "metadata": {
            "tags": []
          },
          "execution_count": 234
        }
      ]
    },
    {
      "cell_type": "code",
      "metadata": {
        "id": "8kyzri10B33v",
        "colab_type": "code",
        "colab": {
          "base_uri": "https://localhost:8080/",
          "height": 171
        },
        "outputId": "8571a7a6-2eed-4240-e163-2b96ed02b5e6"
      },
      "source": [
        "#left outer join\n",
        "pd.merge(df1,df2,left_on=\"key1\",right_on=\"key2\",how=\"left\")"
      ],
      "execution_count": null,
      "outputs": [
        {
          "output_type": "execute_result",
          "data": {
            "text/html": [
              "<div>\n",
              "<style scoped>\n",
              "    .dataframe tbody tr th:only-of-type {\n",
              "        vertical-align: middle;\n",
              "    }\n",
              "\n",
              "    .dataframe tbody tr th {\n",
              "        vertical-align: top;\n",
              "    }\n",
              "\n",
              "    .dataframe thead th {\n",
              "        text-align: right;\n",
              "    }\n",
              "</style>\n",
              "<table border=\"1\" class=\"dataframe\">\n",
              "  <thead>\n",
              "    <tr style=\"text-align: right;\">\n",
              "      <th></th>\n",
              "      <th>key1</th>\n",
              "      <th>val1</th>\n",
              "      <th>key2</th>\n",
              "      <th>val2</th>\n",
              "    </tr>\n",
              "  </thead>\n",
              "  <tbody>\n",
              "    <tr>\n",
              "      <th>0</th>\n",
              "      <td>a</td>\n",
              "      <td>1</td>\n",
              "      <td>a</td>\n",
              "      <td>4.0</td>\n",
              "    </tr>\n",
              "    <tr>\n",
              "      <th>1</th>\n",
              "      <td>b</td>\n",
              "      <td>2</td>\n",
              "      <td>b</td>\n",
              "      <td>5.0</td>\n",
              "    </tr>\n",
              "    <tr>\n",
              "      <th>2</th>\n",
              "      <td>e</td>\n",
              "      <td>9</td>\n",
              "      <td>NaN</td>\n",
              "      <td>NaN</td>\n",
              "    </tr>\n",
              "    <tr>\n",
              "      <th>3</th>\n",
              "      <td>f</td>\n",
              "      <td>10</td>\n",
              "      <td>NaN</td>\n",
              "      <td>NaN</td>\n",
              "    </tr>\n",
              "  </tbody>\n",
              "</table>\n",
              "</div>"
            ],
            "text/plain": [
              "  key1  val1 key2  val2\n",
              "0    a     1    a   4.0\n",
              "1    b     2    b   5.0\n",
              "2    e     9  NaN   NaN\n",
              "3    f    10  NaN   NaN"
            ]
          },
          "metadata": {
            "tags": []
          },
          "execution_count": 236
        }
      ]
    },
    {
      "cell_type": "code",
      "metadata": {
        "id": "d2wnqEUoCILb",
        "colab_type": "code",
        "colab": {
          "base_uri": "https://localhost:8080/",
          "height": 171
        },
        "outputId": "8b3e3dfc-cf8b-4209-d088-88dc6237f824"
      },
      "source": [
        "#right outer join\n",
        "pd.merge(df1,df2,left_on=\"key1\",right_on=\"key2\",how=\"right\")"
      ],
      "execution_count": null,
      "outputs": [
        {
          "output_type": "execute_result",
          "data": {
            "text/html": [
              "<div>\n",
              "<style scoped>\n",
              "    .dataframe tbody tr th:only-of-type {\n",
              "        vertical-align: middle;\n",
              "    }\n",
              "\n",
              "    .dataframe tbody tr th {\n",
              "        vertical-align: top;\n",
              "    }\n",
              "\n",
              "    .dataframe thead th {\n",
              "        text-align: right;\n",
              "    }\n",
              "</style>\n",
              "<table border=\"1\" class=\"dataframe\">\n",
              "  <thead>\n",
              "    <tr style=\"text-align: right;\">\n",
              "      <th></th>\n",
              "      <th>key1</th>\n",
              "      <th>val1</th>\n",
              "      <th>key2</th>\n",
              "      <th>val2</th>\n",
              "    </tr>\n",
              "  </thead>\n",
              "  <tbody>\n",
              "    <tr>\n",
              "      <th>0</th>\n",
              "      <td>a</td>\n",
              "      <td>1.0</td>\n",
              "      <td>a</td>\n",
              "      <td>4</td>\n",
              "    </tr>\n",
              "    <tr>\n",
              "      <th>1</th>\n",
              "      <td>b</td>\n",
              "      <td>2.0</td>\n",
              "      <td>b</td>\n",
              "      <td>5</td>\n",
              "    </tr>\n",
              "    <tr>\n",
              "      <th>2</th>\n",
              "      <td>NaN</td>\n",
              "      <td>NaN</td>\n",
              "      <td>c</td>\n",
              "      <td>6</td>\n",
              "    </tr>\n",
              "    <tr>\n",
              "      <th>3</th>\n",
              "      <td>NaN</td>\n",
              "      <td>NaN</td>\n",
              "      <td>d</td>\n",
              "      <td>7</td>\n",
              "    </tr>\n",
              "  </tbody>\n",
              "</table>\n",
              "</div>"
            ],
            "text/plain": [
              "  key1  val1 key2  val2\n",
              "0    a   1.0    a     4\n",
              "1    b   2.0    b     5\n",
              "2  NaN   NaN    c     6\n",
              "3  NaN   NaN    d     7"
            ]
          },
          "metadata": {
            "tags": []
          },
          "execution_count": 237
        }
      ]
    },
    {
      "cell_type": "code",
      "metadata": {
        "id": "GCTw3HdpCatC",
        "colab_type": "code",
        "colab": {
          "base_uri": "https://localhost:8080/",
          "height": 233
        },
        "outputId": "50de79cb-e255-4d6b-a7df-c9ff6f8c6bfd"
      },
      "source": [
        "#full outer join\n",
        "pd.merge(df1,df2,left_on=\"key1\",right_on=\"key2\",how=\"outer\")"
      ],
      "execution_count": null,
      "outputs": [
        {
          "output_type": "execute_result",
          "data": {
            "text/html": [
              "<div>\n",
              "<style scoped>\n",
              "    .dataframe tbody tr th:only-of-type {\n",
              "        vertical-align: middle;\n",
              "    }\n",
              "\n",
              "    .dataframe tbody tr th {\n",
              "        vertical-align: top;\n",
              "    }\n",
              "\n",
              "    .dataframe thead th {\n",
              "        text-align: right;\n",
              "    }\n",
              "</style>\n",
              "<table border=\"1\" class=\"dataframe\">\n",
              "  <thead>\n",
              "    <tr style=\"text-align: right;\">\n",
              "      <th></th>\n",
              "      <th>key1</th>\n",
              "      <th>val1</th>\n",
              "      <th>key2</th>\n",
              "      <th>val2</th>\n",
              "    </tr>\n",
              "  </thead>\n",
              "  <tbody>\n",
              "    <tr>\n",
              "      <th>0</th>\n",
              "      <td>a</td>\n",
              "      <td>1.0</td>\n",
              "      <td>a</td>\n",
              "      <td>4.0</td>\n",
              "    </tr>\n",
              "    <tr>\n",
              "      <th>1</th>\n",
              "      <td>b</td>\n",
              "      <td>2.0</td>\n",
              "      <td>b</td>\n",
              "      <td>5.0</td>\n",
              "    </tr>\n",
              "    <tr>\n",
              "      <th>2</th>\n",
              "      <td>e</td>\n",
              "      <td>9.0</td>\n",
              "      <td>NaN</td>\n",
              "      <td>NaN</td>\n",
              "    </tr>\n",
              "    <tr>\n",
              "      <th>3</th>\n",
              "      <td>f</td>\n",
              "      <td>10.0</td>\n",
              "      <td>NaN</td>\n",
              "      <td>NaN</td>\n",
              "    </tr>\n",
              "    <tr>\n",
              "      <th>4</th>\n",
              "      <td>NaN</td>\n",
              "      <td>NaN</td>\n",
              "      <td>c</td>\n",
              "      <td>6.0</td>\n",
              "    </tr>\n",
              "    <tr>\n",
              "      <th>5</th>\n",
              "      <td>NaN</td>\n",
              "      <td>NaN</td>\n",
              "      <td>d</td>\n",
              "      <td>7.0</td>\n",
              "    </tr>\n",
              "  </tbody>\n",
              "</table>\n",
              "</div>"
            ],
            "text/plain": [
              "  key1  val1 key2  val2\n",
              "0    a   1.0    a   4.0\n",
              "1    b   2.0    b   5.0\n",
              "2    e   9.0  NaN   NaN\n",
              "3    f  10.0  NaN   NaN\n",
              "4  NaN   NaN    c   6.0\n",
              "5  NaN   NaN    d   7.0"
            ]
          },
          "metadata": {
            "tags": []
          },
          "execution_count": 238
        }
      ]
    },
    {
      "cell_type": "code",
      "metadata": {
        "id": "1LtMRAX-CorX",
        "colab_type": "code",
        "colab": {
          "base_uri": "https://localhost:8080/",
          "height": 294
        },
        "outputId": "8af15076-283d-4beb-989f-0483bd9f060c"
      },
      "source": [
        "#concate\n",
        "pd.concat([df1,df2],axis=0)"
      ],
      "execution_count": null,
      "outputs": [
        {
          "output_type": "execute_result",
          "data": {
            "text/html": [
              "<div>\n",
              "<style scoped>\n",
              "    .dataframe tbody tr th:only-of-type {\n",
              "        vertical-align: middle;\n",
              "    }\n",
              "\n",
              "    .dataframe tbody tr th {\n",
              "        vertical-align: top;\n",
              "    }\n",
              "\n",
              "    .dataframe thead th {\n",
              "        text-align: right;\n",
              "    }\n",
              "</style>\n",
              "<table border=\"1\" class=\"dataframe\">\n",
              "  <thead>\n",
              "    <tr style=\"text-align: right;\">\n",
              "      <th></th>\n",
              "      <th>key1</th>\n",
              "      <th>val1</th>\n",
              "      <th>key2</th>\n",
              "      <th>val2</th>\n",
              "    </tr>\n",
              "  </thead>\n",
              "  <tbody>\n",
              "    <tr>\n",
              "      <th>0</th>\n",
              "      <td>a</td>\n",
              "      <td>1.0</td>\n",
              "      <td>NaN</td>\n",
              "      <td>NaN</td>\n",
              "    </tr>\n",
              "    <tr>\n",
              "      <th>1</th>\n",
              "      <td>b</td>\n",
              "      <td>2.0</td>\n",
              "      <td>NaN</td>\n",
              "      <td>NaN</td>\n",
              "    </tr>\n",
              "    <tr>\n",
              "      <th>2</th>\n",
              "      <td>e</td>\n",
              "      <td>9.0</td>\n",
              "      <td>NaN</td>\n",
              "      <td>NaN</td>\n",
              "    </tr>\n",
              "    <tr>\n",
              "      <th>3</th>\n",
              "      <td>f</td>\n",
              "      <td>10.0</td>\n",
              "      <td>NaN</td>\n",
              "      <td>NaN</td>\n",
              "    </tr>\n",
              "    <tr>\n",
              "      <th>0</th>\n",
              "      <td>NaN</td>\n",
              "      <td>NaN</td>\n",
              "      <td>a</td>\n",
              "      <td>4.0</td>\n",
              "    </tr>\n",
              "    <tr>\n",
              "      <th>1</th>\n",
              "      <td>NaN</td>\n",
              "      <td>NaN</td>\n",
              "      <td>b</td>\n",
              "      <td>5.0</td>\n",
              "    </tr>\n",
              "    <tr>\n",
              "      <th>2</th>\n",
              "      <td>NaN</td>\n",
              "      <td>NaN</td>\n",
              "      <td>c</td>\n",
              "      <td>6.0</td>\n",
              "    </tr>\n",
              "    <tr>\n",
              "      <th>3</th>\n",
              "      <td>NaN</td>\n",
              "      <td>NaN</td>\n",
              "      <td>d</td>\n",
              "      <td>7.0</td>\n",
              "    </tr>\n",
              "  </tbody>\n",
              "</table>\n",
              "</div>"
            ],
            "text/plain": [
              "  key1  val1 key2  val2\n",
              "0    a   1.0  NaN   NaN\n",
              "1    b   2.0  NaN   NaN\n",
              "2    e   9.0  NaN   NaN\n",
              "3    f  10.0  NaN   NaN\n",
              "0  NaN   NaN    a   4.0\n",
              "1  NaN   NaN    b   5.0\n",
              "2  NaN   NaN    c   6.0\n",
              "3  NaN   NaN    d   7.0"
            ]
          },
          "metadata": {
            "tags": []
          },
          "execution_count": 239
        }
      ]
    },
    {
      "cell_type": "code",
      "metadata": {
        "id": "ub--TG3bDUqD",
        "colab_type": "code",
        "colab": {}
      },
      "source": [
        "#pivot: to summerise data\n",
        "Country   IN   SL\n",
        "Year             \n",
        "1960      83  143\n",
        "1970     114  183\n",
        "1990     375  472\n"
      ],
      "execution_count": null,
      "outputs": []
    },
    {
      "cell_type": "code",
      "metadata": {
        "id": "ENuBF5uaEKDx",
        "colab_type": "code",
        "colab": {}
      },
      "source": [
        "#pivote syntax\n",
        "#print(long_data.pivot('country','year','gdppc'))"
      ],
      "execution_count": null,
      "outputs": []
    },
    {
      "cell_type": "code",
      "metadata": {
        "id": "DFrogj4fEkst",
        "colab_type": "code",
        "colab": {
          "base_uri": "https://localhost:8080/",
          "height": 87
        },
        "outputId": "aa0d495c-ab95-4cad-80cc-d7a6f0a8a365"
      },
      "source": [
        "df=pd.read_csv(\"/ScoreReport.csv\")\n",
        "print(df.head(n=1))"
      ],
      "execution_count": 241,
      "outputs": [
        {
          "output_type": "stream",
          "text": [
            "   Sl.No Assessment Date  Person ID  Verbal  ...  CDP  Coding1 Coding2 RP Score\n",
            "0      1      2020-05-31    46329.0       8  ...   60    100.0   100.0     73.0\n",
            "\n",
            "[1 rows x 11 columns]\n"
          ],
          "name": "stdout"
        }
      ]
    },
    {
      "cell_type": "code",
      "metadata": {
        "id": "d-p3I1ksGtGb",
        "colab_type": "code",
        "colab": {
          "base_uri": "https://localhost:8080/",
          "height": 1000
        },
        "outputId": "a650bb11-2f41-4b1d-9703-0c5f98def23d"
      },
      "source": [
        "df[(df.Thinking>df.Verbal)][['Person ID','Verbal','Thinking']]"
      ],
      "execution_count": 243,
      "outputs": [
        {
          "output_type": "execute_result",
          "data": {
            "text/html": [
              "<div>\n",
              "<style scoped>\n",
              "    .dataframe tbody tr th:only-of-type {\n",
              "        vertical-align: middle;\n",
              "    }\n",
              "\n",
              "    .dataframe tbody tr th {\n",
              "        vertical-align: top;\n",
              "    }\n",
              "\n",
              "    .dataframe thead th {\n",
              "        text-align: right;\n",
              "    }\n",
              "</style>\n",
              "<table border=\"1\" class=\"dataframe\">\n",
              "  <thead>\n",
              "    <tr style=\"text-align: right;\">\n",
              "      <th></th>\n",
              "      <th>Person ID</th>\n",
              "      <th>Verbal</th>\n",
              "      <th>Thinking</th>\n",
              "    </tr>\n",
              "  </thead>\n",
              "  <tbody>\n",
              "    <tr>\n",
              "      <th>8</th>\n",
              "      <td>46349.0</td>\n",
              "      <td>7</td>\n",
              "      <td>8</td>\n",
              "    </tr>\n",
              "    <tr>\n",
              "      <th>18</th>\n",
              "      <td>46351.0</td>\n",
              "      <td>4</td>\n",
              "      <td>5</td>\n",
              "    </tr>\n",
              "    <tr>\n",
              "      <th>20</th>\n",
              "      <td>46330.0</td>\n",
              "      <td>4</td>\n",
              "      <td>5</td>\n",
              "    </tr>\n",
              "    <tr>\n",
              "      <th>52</th>\n",
              "      <td>46360.0</td>\n",
              "      <td>1</td>\n",
              "      <td>2</td>\n",
              "    </tr>\n",
              "    <tr>\n",
              "      <th>56</th>\n",
              "      <td>46307.0</td>\n",
              "      <td>6</td>\n",
              "      <td>7</td>\n",
              "    </tr>\n",
              "    <tr>\n",
              "      <th>100</th>\n",
              "      <td>44602.0</td>\n",
              "      <td>3</td>\n",
              "      <td>5</td>\n",
              "    </tr>\n",
              "    <tr>\n",
              "      <th>122</th>\n",
              "      <td>46710.0</td>\n",
              "      <td>3</td>\n",
              "      <td>4</td>\n",
              "    </tr>\n",
              "    <tr>\n",
              "      <th>133</th>\n",
              "      <td>46727.0</td>\n",
              "      <td>4</td>\n",
              "      <td>6</td>\n",
              "    </tr>\n",
              "    <tr>\n",
              "      <th>135</th>\n",
              "      <td>46730.0</td>\n",
              "      <td>3</td>\n",
              "      <td>6</td>\n",
              "    </tr>\n",
              "    <tr>\n",
              "      <th>145</th>\n",
              "      <td>46740.0</td>\n",
              "      <td>4</td>\n",
              "      <td>5</td>\n",
              "    </tr>\n",
              "    <tr>\n",
              "      <th>146</th>\n",
              "      <td>46741.0</td>\n",
              "      <td>6</td>\n",
              "      <td>7</td>\n",
              "    </tr>\n",
              "    <tr>\n",
              "      <th>151</th>\n",
              "      <td>46746.0</td>\n",
              "      <td>4</td>\n",
              "      <td>5</td>\n",
              "    </tr>\n",
              "    <tr>\n",
              "      <th>154</th>\n",
              "      <td>46749.0</td>\n",
              "      <td>3</td>\n",
              "      <td>4</td>\n",
              "    </tr>\n",
              "    <tr>\n",
              "      <th>176</th>\n",
              "      <td>46999.0</td>\n",
              "      <td>3</td>\n",
              "      <td>4</td>\n",
              "    </tr>\n",
              "    <tr>\n",
              "      <th>185</th>\n",
              "      <td>47012.0</td>\n",
              "      <td>3</td>\n",
              "      <td>4</td>\n",
              "    </tr>\n",
              "    <tr>\n",
              "      <th>200</th>\n",
              "      <td>47027.0</td>\n",
              "      <td>3</td>\n",
              "      <td>4</td>\n",
              "    </tr>\n",
              "    <tr>\n",
              "      <th>271</th>\n",
              "      <td>47141.0</td>\n",
              "      <td>4</td>\n",
              "      <td>6</td>\n",
              "    </tr>\n",
              "    <tr>\n",
              "      <th>295</th>\n",
              "      <td>47180.0</td>\n",
              "      <td>5</td>\n",
              "      <td>6</td>\n",
              "    </tr>\n",
              "    <tr>\n",
              "      <th>310</th>\n",
              "      <td>47206.0</td>\n",
              "      <td>5</td>\n",
              "      <td>6</td>\n",
              "    </tr>\n",
              "    <tr>\n",
              "      <th>393</th>\n",
              "      <td>47548.0</td>\n",
              "      <td>3</td>\n",
              "      <td>5</td>\n",
              "    </tr>\n",
              "    <tr>\n",
              "      <th>421</th>\n",
              "      <td>47591.0</td>\n",
              "      <td>5</td>\n",
              "      <td>6</td>\n",
              "    </tr>\n",
              "    <tr>\n",
              "      <th>433</th>\n",
              "      <td>47635.0</td>\n",
              "      <td>5</td>\n",
              "      <td>8</td>\n",
              "    </tr>\n",
              "    <tr>\n",
              "      <th>454</th>\n",
              "      <td>47697.0</td>\n",
              "      <td>7</td>\n",
              "      <td>8</td>\n",
              "    </tr>\n",
              "    <tr>\n",
              "      <th>462</th>\n",
              "      <td>47642.0</td>\n",
              "      <td>3</td>\n",
              "      <td>4</td>\n",
              "    </tr>\n",
              "    <tr>\n",
              "      <th>466</th>\n",
              "      <td>47654.0</td>\n",
              "      <td>4</td>\n",
              "      <td>6</td>\n",
              "    </tr>\n",
              "    <tr>\n",
              "      <th>522</th>\n",
              "      <td>47678.0</td>\n",
              "      <td>5</td>\n",
              "      <td>6</td>\n",
              "    </tr>\n",
              "    <tr>\n",
              "      <th>536</th>\n",
              "      <td>47809.0</td>\n",
              "      <td>2</td>\n",
              "      <td>6</td>\n",
              "    </tr>\n",
              "    <tr>\n",
              "      <th>538</th>\n",
              "      <td>47811.0</td>\n",
              "      <td>4</td>\n",
              "      <td>5</td>\n",
              "    </tr>\n",
              "    <tr>\n",
              "      <th>550</th>\n",
              "      <td>47797.0</td>\n",
              "      <td>5</td>\n",
              "      <td>6</td>\n",
              "    </tr>\n",
              "    <tr>\n",
              "      <th>558</th>\n",
              "      <td>47834.0</td>\n",
              "      <td>5</td>\n",
              "      <td>7</td>\n",
              "    </tr>\n",
              "    <tr>\n",
              "      <th>565</th>\n",
              "      <td>47842.0</td>\n",
              "      <td>5</td>\n",
              "      <td>6</td>\n",
              "    </tr>\n",
              "    <tr>\n",
              "      <th>567</th>\n",
              "      <td>47844.0</td>\n",
              "      <td>3</td>\n",
              "      <td>4</td>\n",
              "    </tr>\n",
              "    <tr>\n",
              "      <th>601</th>\n",
              "      <td>47951.0</td>\n",
              "      <td>3</td>\n",
              "      <td>4</td>\n",
              "    </tr>\n",
              "    <tr>\n",
              "      <th>619</th>\n",
              "      <td>48014.0</td>\n",
              "      <td>7</td>\n",
              "      <td>8</td>\n",
              "    </tr>\n",
              "    <tr>\n",
              "      <th>640</th>\n",
              "      <td>48035.0</td>\n",
              "      <td>8</td>\n",
              "      <td>10</td>\n",
              "    </tr>\n",
              "    <tr>\n",
              "      <th>661</th>\n",
              "      <td>48124.0</td>\n",
              "      <td>3</td>\n",
              "      <td>4</td>\n",
              "    </tr>\n",
              "    <tr>\n",
              "      <th>673</th>\n",
              "      <td>48355.0</td>\n",
              "      <td>2</td>\n",
              "      <td>3</td>\n",
              "    </tr>\n",
              "    <tr>\n",
              "      <th>680</th>\n",
              "      <td>48363.0</td>\n",
              "      <td>3</td>\n",
              "      <td>4</td>\n",
              "    </tr>\n",
              "    <tr>\n",
              "      <th>687</th>\n",
              "      <td>48375.0</td>\n",
              "      <td>5</td>\n",
              "      <td>9</td>\n",
              "    </tr>\n",
              "    <tr>\n",
              "      <th>694</th>\n",
              "      <td>48385.0</td>\n",
              "      <td>4</td>\n",
              "      <td>5</td>\n",
              "    </tr>\n",
              "    <tr>\n",
              "      <th>702</th>\n",
              "      <td>48397.0</td>\n",
              "      <td>3</td>\n",
              "      <td>5</td>\n",
              "    </tr>\n",
              "    <tr>\n",
              "      <th>718</th>\n",
              "      <td>48419.0</td>\n",
              "      <td>4</td>\n",
              "      <td>5</td>\n",
              "    </tr>\n",
              "    <tr>\n",
              "      <th>733</th>\n",
              "      <td>48436.0</td>\n",
              "      <td>4</td>\n",
              "      <td>5</td>\n",
              "    </tr>\n",
              "    <tr>\n",
              "      <th>734</th>\n",
              "      <td>48437.0</td>\n",
              "      <td>3</td>\n",
              "      <td>5</td>\n",
              "    </tr>\n",
              "    <tr>\n",
              "      <th>736</th>\n",
              "      <td>48439.0</td>\n",
              "      <td>2</td>\n",
              "      <td>5</td>\n",
              "    </tr>\n",
              "    <tr>\n",
              "      <th>747</th>\n",
              "      <td>47392.0</td>\n",
              "      <td>3</td>\n",
              "      <td>7</td>\n",
              "    </tr>\n",
              "    <tr>\n",
              "      <th>749</th>\n",
              "      <td>48343.0</td>\n",
              "      <td>5</td>\n",
              "      <td>6</td>\n",
              "    </tr>\n",
              "    <tr>\n",
              "      <th>752</th>\n",
              "      <td>48369.0</td>\n",
              "      <td>3</td>\n",
              "      <td>4</td>\n",
              "    </tr>\n",
              "    <tr>\n",
              "      <th>753</th>\n",
              "      <td>48399.0</td>\n",
              "      <td>6</td>\n",
              "      <td>7</td>\n",
              "    </tr>\n",
              "    <tr>\n",
              "      <th>755</th>\n",
              "      <td>48428.0</td>\n",
              "      <td>3</td>\n",
              "      <td>5</td>\n",
              "    </tr>\n",
              "  </tbody>\n",
              "</table>\n",
              "</div>"
            ],
            "text/plain": [
              "     Person ID  Verbal  Thinking\n",
              "8      46349.0       7         8\n",
              "18     46351.0       4         5\n",
              "20     46330.0       4         5\n",
              "52     46360.0       1         2\n",
              "56     46307.0       6         7\n",
              "100    44602.0       3         5\n",
              "122    46710.0       3         4\n",
              "133    46727.0       4         6\n",
              "135    46730.0       3         6\n",
              "145    46740.0       4         5\n",
              "146    46741.0       6         7\n",
              "151    46746.0       4         5\n",
              "154    46749.0       3         4\n",
              "176    46999.0       3         4\n",
              "185    47012.0       3         4\n",
              "200    47027.0       3         4\n",
              "271    47141.0       4         6\n",
              "295    47180.0       5         6\n",
              "310    47206.0       5         6\n",
              "393    47548.0       3         5\n",
              "421    47591.0       5         6\n",
              "433    47635.0       5         8\n",
              "454    47697.0       7         8\n",
              "462    47642.0       3         4\n",
              "466    47654.0       4         6\n",
              "522    47678.0       5         6\n",
              "536    47809.0       2         6\n",
              "538    47811.0       4         5\n",
              "550    47797.0       5         6\n",
              "558    47834.0       5         7\n",
              "565    47842.0       5         6\n",
              "567    47844.0       3         4\n",
              "601    47951.0       3         4\n",
              "619    48014.0       7         8\n",
              "640    48035.0       8        10\n",
              "661    48124.0       3         4\n",
              "673    48355.0       2         3\n",
              "680    48363.0       3         4\n",
              "687    48375.0       5         9\n",
              "694    48385.0       4         5\n",
              "702    48397.0       3         5\n",
              "718    48419.0       4         5\n",
              "733    48436.0       4         5\n",
              "734    48437.0       3         5\n",
              "736    48439.0       2         5\n",
              "747    47392.0       3         7\n",
              "749    48343.0       5         6\n",
              "752    48369.0       3         4\n",
              "753    48399.0       6         7\n",
              "755    48428.0       3         5"
            ]
          },
          "metadata": {
            "tags": []
          },
          "execution_count": 243
        }
      ]
    },
    {
      "cell_type": "code",
      "metadata": {
        "id": "h84OeC7pHqdC",
        "colab_type": "code",
        "colab": {}
      },
      "source": [
        "df.iloc[[2,3,8,14],[0,1]].to_csv(\"output.csv\")"
      ],
      "execution_count": 244,
      "outputs": []
    },
    {
      "cell_type": "code",
      "metadata": {
        "id": "NxUoW9LKIdda",
        "colab_type": "code",
        "colab": {}
      },
      "source": [
        ""
      ],
      "execution_count": null,
      "outputs": []
    }
  ]
}